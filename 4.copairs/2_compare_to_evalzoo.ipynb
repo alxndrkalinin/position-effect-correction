{
 "cells": [
  {
   "attachments": {},
   "cell_type": "markdown",
   "metadata": {},
   "source": [
    "## Run copairs on all evalzoo results and check if AP values match"
   ]
  },
  {
   "cell_type": "code",
   "execution_count": 3,
   "metadata": {},
   "outputs": [],
   "source": [
    "import sys\n",
    "\n",
    "sys.path.append(\"../scripts\")\n",
    "\n",
    "import logging\n",
    "from pathlib import Path\n",
    "\n",
    "import pandas as pd\n",
    "import numpy as np\n",
    "\n",
    "from load import load_config\n",
    "from copairs.map import run_pipeline, aggregate\n",
    "\n",
    "import seaborn as sns\n",
    "from matplotlib import pyplot as plt\n",
    "\n",
    "from tqdm.auto import tqdm\n",
    "\n",
    "import pickle"
   ]
  },
  {
   "attachments": {},
   "cell_type": "markdown",
   "metadata": {},
   "source": [
    "#### Run copairs on evalzoo configs with existing results"
   ]
  },
  {
   "cell_type": "code",
   "execution_count": 4,
   "metadata": {},
   "outputs": [],
   "source": [
    "def run_copairs_on_evalzoo(evalzoo_result, null_size=10000, batch_size=100000):\n",
    "    config = load_config(f\"../2.evalzoo/results/{evalzoo_result}/params.yaml\")\n",
    "    profiles_path = config[\"experiment\"][\"input_structure\"].format(\n",
    "        **config[\"experiment\"]\n",
    "    )\n",
    "\n",
    "    # check if exists\n",
    "    if Path(profiles_path).exists():\n",
    "        ann_df = pd.read_parquet(profiles_path)\n",
    "\n",
    "        ann_df.reset_index(inplace=True, drop=True)\n",
    "        metadata = ann_df.filter(regex=\"^Metadata_\")\n",
    "        feature_values = ann_df.filter(regex=\"^(?!Metadata_)\").values\n",
    "        assert \"Metadata_pert_type\" in metadata.columns\n",
    "\n",
    "        # add dummy index to speed up calculations by skipping positive pairs between controls\n",
    "        metadata.loc[:, \"Metadata_dummy_index\"] = metadata.index\n",
    "        metadata.loc[\n",
    "            metadata[\"Metadata_pert_type\"] == \"trt\", \"Metadata_dummy_index\"\n",
    "        ] = -1\n",
    "\n",
    "        pos_sameby = config[\"experiment\"][\"sim_params\"][\"all_same_cols_rep\"] or []\n",
    "        pos_sameby = [c for c in pos_sameby if c != \"Metadata_reference_or_other\"]\n",
    "        pos_diffby = config[\"experiment\"][\"sim_params\"][\"all_different_cols_rep\"] or []\n",
    "        pos_diffby = [pos_diffby] if isinstance(pos_diffby, str) else pos_diffby\n",
    "\n",
    "        neg_sameby = []\n",
    "        neg_diffby = [\"Metadata_pert_type\"]\n",
    "\n",
    "        print(\"Sameby:\", pos_sameby, \"Diffby:\", pos_diffby)\n",
    "\n",
    "        copairs_result, _, _ = run_pipeline(\n",
    "            metadata,\n",
    "            feature_values,\n",
    "            pos_sameby + [\"Metadata_dummy_index\"],\n",
    "            pos_diffby,\n",
    "            neg_sameby,\n",
    "            neg_diffby,\n",
    "            null_size=null_size,\n",
    "            batch_size=batch_size,\n",
    "        )\n",
    "\n",
    "        return aggregate(copairs_result, sameby=pos_sameby, threshold=0.05)\n",
    "    else:\n",
    "        logging.warning(f\"File {profiles_path} not found. Skipping.\")\n",
    "        return None"
   ]
  },
  {
   "cell_type": "code",
   "execution_count": 5,
   "metadata": {},
   "outputs": [],
   "source": [
    "copairs_results = {}"
   ]
  },
  {
   "cell_type": "code",
   "execution_count": 4,
   "metadata": {},
   "outputs": [
    {
     "data": {
      "application/vnd.jupyter.widget-view+json": {
       "model_id": "6058b8c546574bd2a91d8b04a15ccfb8",
       "version_major": 2,
       "version_minor": 0
      },
      "text/plain": [
       "0it [00:00, ?it/s]"
      ]
     },
     "metadata": {},
     "output_type": "display_data"
    },
    {
     "name": "stderr",
     "output_type": "stream",
     "text": [
      "/var/folders/41/1jdfcmfs0gx7qwx9d31rtxgr0000gq/T/ipykernel_85051/2184141838.py:15: SettingWithCopyWarning: \n",
      "A value is trying to be set on a copy of a slice from a DataFrame.\n",
      "Try using .loc[row_indexer,col_indexer] = value instead\n",
      "\n",
      "See the caveats in the documentation: https://pandas.pydata.org/pandas-docs/stable/user_guide/indexing.html#returning-a-view-versus-a-copy\n",
      "  metadata.loc[:, \"Metadata_dummy_index\"] = metadata.index\n",
      "2023-07-03 15:34:14 INFO     Indexing metadata...\n",
      "2023-07-03 15:34:14 INFO     Finding positive pairs...\n"
     ]
    },
    {
     "name": "stdout",
     "output_type": "stream",
     "text": [
      "630757cf id1 match OK\n",
      "Sameby: ['Metadata_JCP2022'] Diffby: ['Metadata_Well']\n"
     ]
    },
    {
     "name": "stderr",
     "output_type": "stream",
     "text": [
      "2023-07-03 15:34:14 INFO     dropping dups...\n",
      "2023-07-03 15:34:14 INFO     Finding negative pairs...\n",
      "2023-07-03 15:34:34 INFO     dropping dups...\n",
      "2023-07-03 15:35:18 INFO     Computing positive similarities...\n",
      "2023-07-03 15:35:18.568863: W tensorflow/tsl/platform/profile_utils/cpu_utils.cc:128] Failed to get CPU frequency: 0 Hz\n"
     ]
    },
    {
     "data": {
      "application/vnd.jupyter.widget-view+json": {
       "model_id": "5f0f982f0c254f7c955e1d5fa04cf935",
       "version_major": 2,
       "version_minor": 0
      },
      "text/plain": [
       "  0%|          | 0/1 [00:00<?, ?it/s]"
      ]
     },
     "metadata": {},
     "output_type": "display_data"
    },
    {
     "name": "stderr",
     "output_type": "stream",
     "text": [
      "2023-07-03 15:35:18 INFO     Computing negative similarities...\n"
     ]
    },
    {
     "data": {
      "application/vnd.jupyter.widget-view+json": {
       "model_id": "52802888700246b8a16e1b90d6f04aa4",
       "version_major": 2,
       "version_minor": 0
      },
      "text/plain": [
       "  0%|          | 0/161 [00:00<?, ?it/s]"
      ]
     },
     "metadata": {},
     "output_type": "display_data"
    },
    {
     "name": "stderr",
     "output_type": "stream",
     "text": [
      "2023-07-03 15:35:28 INFO     Building rank lists...\n",
      "2023-07-03 15:35:49 INFO     Computing average precision...\n",
      "2023-07-03 15:35:49 INFO     Computing null distributions...\n",
      "/Users/akalinin/Projects/copairs/src/copairs/compute_np.py:107: RuntimeWarning: invalid value encountered in divide\n",
      "  ap = (pr_k * rel_k).sum(axis=1) / num_pos\n",
      "/Users/akalinin/Projects/copairs/src/copairs/compute_np.py:107: RuntimeWarning: invalid value encountered in divide\n",
      "  ap = (pr_k * rel_k).sum(axis=1) / num_pos\n",
      "/Users/akalinin/Projects/copairs/src/copairs/compute_np.py:107: RuntimeWarning: invalid value encountered in divide\n",
      "  ap = (pr_k * rel_k).sum(axis=1) / num_pos\n",
      "/Users/akalinin/Projects/copairs/src/copairs/compute_np.py:107: RuntimeWarning: invalid value encountered in divide\n",
      "  ap = (pr_k * rel_k).sum(axis=1) / num_pos\n",
      "2023-07-03 15:35:59 INFO     Computing P-values...\n",
      "2023-07-03 15:35:59 INFO     Creating result DataFrame...\n",
      "2023-07-03 15:35:59 INFO     Finished.\n",
      "/var/folders/41/1jdfcmfs0gx7qwx9d31rtxgr0000gq/T/ipykernel_85051/2184141838.py:15: SettingWithCopyWarning: \n",
      "A value is trying to be set on a copy of a slice from a DataFrame.\n",
      "Try using .loc[row_indexer,col_indexer] = value instead\n",
      "\n",
      "See the caveats in the documentation: https://pandas.pydata.org/pandas-docs/stable/user_guide/indexing.html#returning-a-view-versus-a-copy\n",
      "  metadata.loc[:, \"Metadata_dummy_index\"] = metadata.index\n",
      "2023-07-03 15:36:03 INFO     Indexing metadata...\n",
      "2023-07-03 15:36:03 INFO     Finding positive pairs...\n"
     ]
    },
    {
     "name": "stdout",
     "output_type": "stream",
     "text": [
      "66fd2a4d id1 match OK\n",
      "Sameby: ['Metadata_Symbol'] Diffby: ['Metadata_Well']\n"
     ]
    },
    {
     "name": "stderr",
     "output_type": "stream",
     "text": [
      "2023-07-03 15:36:03 INFO     dropping dups...\n",
      "2023-07-03 15:36:03 INFO     Finding negative pairs...\n",
      "2023-07-03 15:36:24 INFO     dropping dups...\n",
      "2023-07-03 15:37:11 INFO     Computing positive similarities...\n"
     ]
    },
    {
     "data": {
      "application/vnd.jupyter.widget-view+json": {
       "model_id": "7b35fd2ae0c244b9bcd8ded49f392d7d",
       "version_major": 2,
       "version_minor": 0
      },
      "text/plain": [
       "  0%|          | 0/1 [00:00<?, ?it/s]"
      ]
     },
     "metadata": {},
     "output_type": "display_data"
    },
    {
     "name": "stderr",
     "output_type": "stream",
     "text": [
      "2023-07-03 15:37:11 INFO     Computing negative similarities...\n"
     ]
    },
    {
     "data": {
      "application/vnd.jupyter.widget-view+json": {
       "model_id": "7da9e77327844203b787ee6a0ae3f07c",
       "version_major": 2,
       "version_minor": 0
      },
      "text/plain": [
       "  0%|          | 0/161 [00:00<?, ?it/s]"
      ]
     },
     "metadata": {},
     "output_type": "display_data"
    },
    {
     "name": "stderr",
     "output_type": "stream",
     "text": [
      "2023-07-03 15:37:20 INFO     Building rank lists...\n",
      "2023-07-03 15:37:41 INFO     Computing average precision...\n",
      "2023-07-03 15:37:41 INFO     Computing null distributions...\n",
      "/Users/akalinin/Projects/copairs/src/copairs/compute_np.py:107: RuntimeWarning: invalid value encountered in divide\n",
      "  ap = (pr_k * rel_k).sum(axis=1) / num_pos\n",
      "/Users/akalinin/Projects/copairs/src/copairs/compute_np.py:107: RuntimeWarning: invalid value encountered in divide\n",
      "  ap = (pr_k * rel_k).sum(axis=1) / num_pos\n",
      "/Users/akalinin/Projects/copairs/src/copairs/compute_np.py:107: RuntimeWarning: invalid value encountered in divide\n",
      "  ap = (pr_k * rel_k).sum(axis=1) / num_pos\n",
      "/Users/akalinin/Projects/copairs/src/copairs/compute_np.py:107: RuntimeWarning: invalid value encountered in divide\n",
      "  ap = (pr_k * rel_k).sum(axis=1) / num_pos\n",
      "2023-07-03 15:37:55 INFO     Computing P-values...\n",
      "2023-07-03 15:37:55 INFO     Creating result DataFrame...\n",
      "2023-07-03 15:37:55 INFO     Finished.\n",
      "/var/folders/41/1jdfcmfs0gx7qwx9d31rtxgr0000gq/T/ipykernel_85051/2184141838.py:15: SettingWithCopyWarning: \n",
      "A value is trying to be set on a copy of a slice from a DataFrame.\n",
      "Try using .loc[row_indexer,col_indexer] = value instead\n",
      "\n",
      "See the caveats in the documentation: https://pandas.pydata.org/pandas-docs/stable/user_guide/indexing.html#returning-a-view-versus-a-copy\n",
      "  metadata.loc[:, \"Metadata_dummy_index\"] = metadata.index\n",
      "2023-07-03 15:37:58 INFO     Indexing metadata...\n",
      "2023-07-03 15:37:59 INFO     Finding positive pairs...\n"
     ]
    },
    {
     "name": "stdout",
     "output_type": "stream",
     "text": [
      "f86c9fcc id1 match OK\n",
      "Sameby: ['Metadata_Symbol'] Diffby: ['Metadata_Well']\n"
     ]
    },
    {
     "name": "stderr",
     "output_type": "stream",
     "text": [
      "2023-07-03 15:37:59 INFO     dropping dups...\n",
      "2023-07-03 15:37:59 INFO     Finding negative pairs...\n",
      "2023-07-03 15:38:19 INFO     dropping dups...\n",
      "2023-07-03 15:39:02 INFO     Computing positive similarities...\n"
     ]
    },
    {
     "data": {
      "application/vnd.jupyter.widget-view+json": {
       "model_id": "6be4db166f524e7ab800c29ed3878bce",
       "version_major": 2,
       "version_minor": 0
      },
      "text/plain": [
       "  0%|          | 0/1 [00:00<?, ?it/s]"
      ]
     },
     "metadata": {},
     "output_type": "display_data"
    },
    {
     "name": "stderr",
     "output_type": "stream",
     "text": [
      "2023-07-03 15:39:02 INFO     Computing negative similarities...\n"
     ]
    },
    {
     "data": {
      "application/vnd.jupyter.widget-view+json": {
       "model_id": "4a588cdfc58b4622911272d65369bbbf",
       "version_major": 2,
       "version_minor": 0
      },
      "text/plain": [
       "  0%|          | 0/161 [00:00<?, ?it/s]"
      ]
     },
     "metadata": {},
     "output_type": "display_data"
    },
    {
     "name": "stderr",
     "output_type": "stream",
     "text": [
      "2023-07-03 15:39:12 INFO     Building rank lists...\n",
      "2023-07-03 15:39:32 INFO     Computing average precision...\n",
      "2023-07-03 15:39:32 INFO     Computing null distributions...\n",
      "/Users/akalinin/Projects/copairs/src/copairs/compute_np.py:107: RuntimeWarning: invalid value encountered in divide\n",
      "  ap = (pr_k * rel_k).sum(axis=1) / num_pos\n",
      "/Users/akalinin/Projects/copairs/src/copairs/compute_np.py:107: RuntimeWarning: invalid value encountered in divide\n",
      "  ap = (pr_k * rel_k).sum(axis=1) / num_pos\n",
      "/Users/akalinin/Projects/copairs/src/copairs/compute_np.py:107: RuntimeWarning: invalid value encountered in divide\n",
      "  ap = (pr_k * rel_k).sum(axis=1) / num_pos\n",
      "/Users/akalinin/Projects/copairs/src/copairs/compute_np.py:107: RuntimeWarning: invalid value encountered in divide\n",
      "  ap = (pr_k * rel_k).sum(axis=1) / num_pos\n",
      "2023-07-03 15:39:45 INFO     Computing P-values...\n",
      "2023-07-03 15:39:45 INFO     Creating result DataFrame...\n",
      "2023-07-03 15:39:45 INFO     Finished.\n",
      "/var/folders/41/1jdfcmfs0gx7qwx9d31rtxgr0000gq/T/ipykernel_85051/2184141838.py:15: SettingWithCopyWarning: \n",
      "A value is trying to be set on a copy of a slice from a DataFrame.\n",
      "Try using .loc[row_indexer,col_indexer] = value instead\n",
      "\n",
      "See the caveats in the documentation: https://pandas.pydata.org/pandas-docs/stable/user_guide/indexing.html#returning-a-view-versus-a-copy\n",
      "  metadata.loc[:, \"Metadata_dummy_index\"] = metadata.index\n",
      "2023-07-03 15:39:49 INFO     Indexing metadata...\n",
      "2023-07-03 15:39:49 INFO     Finding positive pairs...\n"
     ]
    },
    {
     "name": "stdout",
     "output_type": "stream",
     "text": [
      "ac65bc4b id1 match OK\n",
      "Sameby: ['Metadata_Symbol'] Diffby: ['Metadata_Well']\n"
     ]
    },
    {
     "name": "stderr",
     "output_type": "stream",
     "text": [
      "2023-07-03 15:39:49 INFO     dropping dups...\n",
      "2023-07-03 15:39:49 INFO     Finding negative pairs...\n",
      "2023-07-03 15:40:09 INFO     dropping dups...\n",
      "2023-07-03 15:40:52 INFO     Computing positive similarities...\n"
     ]
    },
    {
     "data": {
      "application/vnd.jupyter.widget-view+json": {
       "model_id": "18464121086d45d4baf2a970b34f3780",
       "version_major": 2,
       "version_minor": 0
      },
      "text/plain": [
       "  0%|          | 0/1 [00:00<?, ?it/s]"
      ]
     },
     "metadata": {},
     "output_type": "display_data"
    },
    {
     "name": "stderr",
     "output_type": "stream",
     "text": [
      "2023-07-03 15:40:52 INFO     Computing negative similarities...\n"
     ]
    },
    {
     "data": {
      "application/vnd.jupyter.widget-view+json": {
       "model_id": "fa1ca2c402d34e11a6c4fcea721ea72b",
       "version_major": 2,
       "version_minor": 0
      },
      "text/plain": [
       "  0%|          | 0/161 [00:00<?, ?it/s]"
      ]
     },
     "metadata": {},
     "output_type": "display_data"
    },
    {
     "name": "stderr",
     "output_type": "stream",
     "text": [
      "2023-07-03 15:41:08 INFO     Building rank lists...\n",
      "2023-07-03 15:41:29 INFO     Computing average precision...\n",
      "2023-07-03 15:41:29 INFO     Computing null distributions...\n",
      "/Users/akalinin/Projects/copairs/src/copairs/compute_np.py:107: RuntimeWarning: invalid value encountered in divide\n",
      "  ap = (pr_k * rel_k).sum(axis=1) / num_pos\n",
      "/Users/akalinin/Projects/copairs/src/copairs/compute_np.py:107: RuntimeWarning: invalid value encountered in divide\n",
      "  ap = (pr_k * rel_k).sum(axis=1) / num_pos\n",
      "/Users/akalinin/Projects/copairs/src/copairs/compute_np.py:107: RuntimeWarning: invalid value encountered in divide\n",
      "  ap = (pr_k * rel_k).sum(axis=1) / num_pos\n",
      "/Users/akalinin/Projects/copairs/src/copairs/compute_np.py:107: RuntimeWarning: invalid value encountered in divide\n",
      "  ap = (pr_k * rel_k).sum(axis=1) / num_pos\n",
      "2023-07-03 15:41:43 INFO     Computing P-values...\n",
      "2023-07-03 15:41:43 INFO     Creating result DataFrame...\n",
      "2023-07-03 15:41:43 INFO     Finished.\n",
      "2023-07-03 15:41:47 WARNING  File ../../position-effect-correction/3.correct/output/subset_profiles_cc_well_corrected_cospca.parquet not found. Skipping.\n"
     ]
    },
    {
     "name": "stdout",
     "output_type": "stream",
     "text": [
      "d7ae7409 id1 match OK\n"
     ]
    },
    {
     "name": "stderr",
     "output_type": "stream",
     "text": [
      "/var/folders/41/1jdfcmfs0gx7qwx9d31rtxgr0000gq/T/ipykernel_85051/2184141838.py:15: SettingWithCopyWarning: \n",
      "A value is trying to be set on a copy of a slice from a DataFrame.\n",
      "Try using .loc[row_indexer,col_indexer] = value instead\n",
      "\n",
      "See the caveats in the documentation: https://pandas.pydata.org/pandas-docs/stable/user_guide/indexing.html#returning-a-view-versus-a-copy\n",
      "  metadata.loc[:, \"Metadata_dummy_index\"] = metadata.index\n",
      "2023-07-03 15:41:49 INFO     Indexing metadata...\n",
      "2023-07-03 15:41:49 INFO     Finding positive pairs...\n"
     ]
    },
    {
     "name": "stdout",
     "output_type": "stream",
     "text": [
      "273d3138 id1 match OK\n",
      "Sameby: ['Metadata_JCP2022'] Diffby: ['Metadata_Well']\n"
     ]
    },
    {
     "name": "stderr",
     "output_type": "stream",
     "text": [
      "2023-07-03 15:41:49 INFO     dropping dups...\n",
      "2023-07-03 15:41:49 INFO     Finding negative pairs...\n",
      "2023-07-03 15:42:10 INFO     dropping dups...\n",
      "2023-07-03 15:42:56 INFO     Computing positive similarities...\n"
     ]
    },
    {
     "data": {
      "application/vnd.jupyter.widget-view+json": {
       "model_id": "85f9e01945ca44eaa95b832ab625bf4f",
       "version_major": 2,
       "version_minor": 0
      },
      "text/plain": [
       "  0%|          | 0/1 [00:00<?, ?it/s]"
      ]
     },
     "metadata": {},
     "output_type": "display_data"
    },
    {
     "name": "stderr",
     "output_type": "stream",
     "text": [
      "2023-07-03 15:42:56 INFO     Computing negative similarities...\n"
     ]
    },
    {
     "data": {
      "application/vnd.jupyter.widget-view+json": {
       "model_id": "792ea5f481d24dd1b0f0d2d0f424130b",
       "version_major": 2,
       "version_minor": 0
      },
      "text/plain": [
       "  0%|          | 0/161 [00:00<?, ?it/s]"
      ]
     },
     "metadata": {},
     "output_type": "display_data"
    },
    {
     "name": "stderr",
     "output_type": "stream",
     "text": [
      "2023-07-03 15:43:06 INFO     Building rank lists...\n",
      "2023-07-03 15:43:27 INFO     Computing average precision...\n",
      "2023-07-03 15:43:27 INFO     Computing null distributions...\n",
      "/Users/akalinin/Projects/copairs/src/copairs/compute_np.py:107: RuntimeWarning: invalid value encountered in divide\n",
      "  ap = (pr_k * rel_k).sum(axis=1) / num_pos\n",
      "/Users/akalinin/Projects/copairs/src/copairs/compute_np.py:107: RuntimeWarning: invalid value encountered in divide\n",
      "  ap = (pr_k * rel_k).sum(axis=1) / num_pos\n",
      "/Users/akalinin/Projects/copairs/src/copairs/compute_np.py:107: RuntimeWarning: invalid value encountered in divide\n",
      "  ap = (pr_k * rel_k).sum(axis=1) / num_pos\n",
      "/Users/akalinin/Projects/copairs/src/copairs/compute_np.py:107: RuntimeWarning: invalid value encountered in divide\n",
      "  ap = (pr_k * rel_k).sum(axis=1) / num_pos\n",
      "2023-07-03 15:43:40 INFO     Computing P-values...\n",
      "2023-07-03 15:43:40 INFO     Creating result DataFrame...\n",
      "2023-07-03 15:43:40 INFO     Finished.\n",
      "/var/folders/41/1jdfcmfs0gx7qwx9d31rtxgr0000gq/T/ipykernel_85051/2184141838.py:15: SettingWithCopyWarning: \n",
      "A value is trying to be set on a copy of a slice from a DataFrame.\n",
      "Try using .loc[row_indexer,col_indexer] = value instead\n",
      "\n",
      "See the caveats in the documentation: https://pandas.pydata.org/pandas-docs/stable/user_guide/indexing.html#returning-a-view-versus-a-copy\n",
      "  metadata.loc[:, \"Metadata_dummy_index\"] = metadata.index\n",
      "2023-07-03 15:43:44 INFO     Indexing metadata...\n",
      "2023-07-03 15:43:44 INFO     Finding positive pairs...\n"
     ]
    },
    {
     "name": "stdout",
     "output_type": "stream",
     "text": [
      "263a5ff4 id1 match OK\n",
      "Sameby: ['Metadata_Symbol'] Diffby: ['Metadata_Well']\n"
     ]
    },
    {
     "name": "stderr",
     "output_type": "stream",
     "text": [
      "2023-07-03 15:43:44 INFO     dropping dups...\n",
      "2023-07-03 15:43:44 INFO     Finding negative pairs...\n",
      "2023-07-03 15:44:05 INFO     dropping dups...\n",
      "2023-07-03 15:44:50 INFO     Computing positive similarities...\n"
     ]
    },
    {
     "data": {
      "application/vnd.jupyter.widget-view+json": {
       "model_id": "06cd090376524dd6a67bd83c84d081bf",
       "version_major": 2,
       "version_minor": 0
      },
      "text/plain": [
       "  0%|          | 0/1 [00:00<?, ?it/s]"
      ]
     },
     "metadata": {},
     "output_type": "display_data"
    },
    {
     "name": "stderr",
     "output_type": "stream",
     "text": [
      "2023-07-03 15:44:50 INFO     Computing negative similarities...\n"
     ]
    },
    {
     "data": {
      "application/vnd.jupyter.widget-view+json": {
       "model_id": "6d9e971c4ae44a27aad3bcaacf4c70ac",
       "version_major": 2,
       "version_minor": 0
      },
      "text/plain": [
       "  0%|          | 0/161 [00:00<?, ?it/s]"
      ]
     },
     "metadata": {},
     "output_type": "display_data"
    },
    {
     "name": "stderr",
     "output_type": "stream",
     "text": [
      "2023-07-03 15:45:47 INFO     Building rank lists...\n",
      "2023-07-03 15:46:06 INFO     Computing average precision...\n",
      "2023-07-03 15:46:07 INFO     Computing null distributions...\n",
      "/Users/akalinin/Projects/copairs/src/copairs/compute_np.py:107: RuntimeWarning: invalid value encountered in divide\n",
      "  ap = (pr_k * rel_k).sum(axis=1) / num_pos\n",
      "/Users/akalinin/Projects/copairs/src/copairs/compute_np.py:107: RuntimeWarning: invalid value encountered in divide\n",
      "  ap = (pr_k * rel_k).sum(axis=1) / num_pos\n",
      "/Users/akalinin/Projects/copairs/src/copairs/compute_np.py:107: RuntimeWarning: invalid value encountered in divide\n",
      "  ap = (pr_k * rel_k).sum(axis=1) / num_pos\n",
      "/Users/akalinin/Projects/copairs/src/copairs/compute_np.py:107: RuntimeWarning: invalid value encountered in divide\n",
      "  ap = (pr_k * rel_k).sum(axis=1) / num_pos\n",
      "2023-07-03 15:46:17 INFO     Computing P-values...\n",
      "2023-07-03 15:46:18 INFO     Creating result DataFrame...\n",
      "2023-07-03 15:46:18 INFO     Finished.\n",
      "/var/folders/41/1jdfcmfs0gx7qwx9d31rtxgr0000gq/T/ipykernel_85051/2184141838.py:15: SettingWithCopyWarning: \n",
      "A value is trying to be set on a copy of a slice from a DataFrame.\n",
      "Try using .loc[row_indexer,col_indexer] = value instead\n",
      "\n",
      "See the caveats in the documentation: https://pandas.pydata.org/pandas-docs/stable/user_guide/indexing.html#returning-a-view-versus-a-copy\n",
      "  metadata.loc[:, \"Metadata_dummy_index\"] = metadata.index\n",
      "2023-07-03 15:46:21 INFO     Indexing metadata...\n",
      "2023-07-03 15:46:21 INFO     Finding positive pairs...\n"
     ]
    },
    {
     "name": "stdout",
     "output_type": "stream",
     "text": [
      "2bde8689 id1 match OK\n",
      "Sameby: ['Metadata_Symbol'] Diffby: ['Metadata_Well']\n"
     ]
    },
    {
     "name": "stderr",
     "output_type": "stream",
     "text": [
      "2023-07-03 15:46:22 INFO     dropping dups...\n",
      "2023-07-03 15:46:22 INFO     Finding negative pairs...\n",
      "2023-07-03 15:46:42 INFO     dropping dups...\n",
      "2023-07-03 15:47:26 INFO     Computing positive similarities...\n"
     ]
    },
    {
     "data": {
      "application/vnd.jupyter.widget-view+json": {
       "model_id": "d7328841551e4ce7ba7579aba3828ce3",
       "version_major": 2,
       "version_minor": 0
      },
      "text/plain": [
       "  0%|          | 0/1 [00:00<?, ?it/s]"
      ]
     },
     "metadata": {},
     "output_type": "display_data"
    },
    {
     "name": "stderr",
     "output_type": "stream",
     "text": [
      "2023-07-03 15:47:26 INFO     Computing negative similarities...\n"
     ]
    },
    {
     "data": {
      "application/vnd.jupyter.widget-view+json": {
       "model_id": "6f63e0106e60487c96e5e88d96ad81ba",
       "version_major": 2,
       "version_minor": 0
      },
      "text/plain": [
       "  0%|          | 0/161 [00:00<?, ?it/s]"
      ]
     },
     "metadata": {},
     "output_type": "display_data"
    },
    {
     "name": "stderr",
     "output_type": "stream",
     "text": [
      "2023-07-03 15:48:04 INFO     Building rank lists...\n",
      "2023-07-03 15:48:24 INFO     Computing average precision...\n",
      "2023-07-03 15:48:25 INFO     Computing null distributions...\n",
      "/Users/akalinin/Projects/copairs/src/copairs/compute_np.py:107: RuntimeWarning: invalid value encountered in divide\n",
      "  ap = (pr_k * rel_k).sum(axis=1) / num_pos\n",
      "/Users/akalinin/Projects/copairs/src/copairs/compute_np.py:107: RuntimeWarning: invalid value encountered in divide\n",
      "  ap = (pr_k * rel_k).sum(axis=1) / num_pos\n",
      "/Users/akalinin/Projects/copairs/src/copairs/compute_np.py:107: RuntimeWarning: invalid value encountered in divide\n",
      "  ap = (pr_k * rel_k).sum(axis=1) / num_pos\n",
      "/Users/akalinin/Projects/copairs/src/copairs/compute_np.py:107: RuntimeWarning: invalid value encountered in divide\n",
      "  ap = (pr_k * rel_k).sum(axis=1) / num_pos\n",
      "2023-07-03 15:48:32 INFO     Computing P-values...\n",
      "2023-07-03 15:48:32 INFO     Creating result DataFrame...\n",
      "2023-07-03 15:48:32 INFO     Finished.\n",
      "/var/folders/41/1jdfcmfs0gx7qwx9d31rtxgr0000gq/T/ipykernel_85051/2184141838.py:15: SettingWithCopyWarning: \n",
      "A value is trying to be set on a copy of a slice from a DataFrame.\n",
      "Try using .loc[row_indexer,col_indexer] = value instead\n",
      "\n",
      "See the caveats in the documentation: https://pandas.pydata.org/pandas-docs/stable/user_guide/indexing.html#returning-a-view-versus-a-copy\n",
      "  metadata.loc[:, \"Metadata_dummy_index\"] = metadata.index\n",
      "2023-07-03 15:48:36 INFO     Indexing metadata...\n",
      "2023-07-03 15:48:36 INFO     Finding positive pairs...\n"
     ]
    },
    {
     "name": "stdout",
     "output_type": "stream",
     "text": [
      "f5c36cb4 id1 match OK\n",
      "Sameby: ['Metadata_JCP2022'] Diffby: ['Metadata_Well']\n"
     ]
    },
    {
     "name": "stderr",
     "output_type": "stream",
     "text": [
      "2023-07-03 15:48:36 INFO     dropping dups...\n",
      "2023-07-03 15:48:36 INFO     Finding negative pairs...\n",
      "2023-07-03 15:48:57 INFO     dropping dups...\n",
      "2023-07-03 15:49:42 INFO     Computing positive similarities...\n"
     ]
    },
    {
     "data": {
      "application/vnd.jupyter.widget-view+json": {
       "model_id": "2e6ecff3ba604a4ba29572752c0b74e5",
       "version_major": 2,
       "version_minor": 0
      },
      "text/plain": [
       "  0%|          | 0/1 [00:00<?, ?it/s]"
      ]
     },
     "metadata": {},
     "output_type": "display_data"
    },
    {
     "name": "stderr",
     "output_type": "stream",
     "text": [
      "2023-07-03 15:49:42 INFO     Computing negative similarities...\n"
     ]
    },
    {
     "data": {
      "application/vnd.jupyter.widget-view+json": {
       "model_id": "8e4c7ead1bb1446eaa13c94881ce006a",
       "version_major": 2,
       "version_minor": 0
      },
      "text/plain": [
       "  0%|          | 0/161 [00:00<?, ?it/s]"
      ]
     },
     "metadata": {},
     "output_type": "display_data"
    },
    {
     "name": "stderr",
     "output_type": "stream",
     "text": [
      "2023-07-03 15:51:28 INFO     Building rank lists...\n",
      "2023-07-03 15:51:49 INFO     Computing average precision...\n",
      "2023-07-03 15:51:49 INFO     Computing null distributions...\n",
      "/Users/akalinin/Projects/copairs/src/copairs/compute_np.py:107: RuntimeWarning: invalid value encountered in divide\n",
      "  ap = (pr_k * rel_k).sum(axis=1) / num_pos\n",
      "/Users/akalinin/Projects/copairs/src/copairs/compute_np.py:107: RuntimeWarning: invalid value encountered in divide\n",
      "  ap = (pr_k * rel_k).sum(axis=1) / num_pos\n",
      "/Users/akalinin/Projects/copairs/src/copairs/compute_np.py:107: RuntimeWarning: invalid value encountered in divide\n",
      "  ap = (pr_k * rel_k).sum(axis=1) / num_pos\n",
      "/Users/akalinin/Projects/copairs/src/copairs/compute_np.py:107: RuntimeWarning: invalid value encountered in divide\n",
      "  ap = (pr_k * rel_k).sum(axis=1) / num_pos\n",
      "2023-07-03 15:51:56 INFO     Computing P-values...\n",
      "2023-07-03 15:51:56 INFO     Creating result DataFrame...\n",
      "2023-07-03 15:51:56 INFO     Finished.\n",
      "/var/folders/41/1jdfcmfs0gx7qwx9d31rtxgr0000gq/T/ipykernel_85051/2184141838.py:15: SettingWithCopyWarning: \n",
      "A value is trying to be set on a copy of a slice from a DataFrame.\n",
      "Try using .loc[row_indexer,col_indexer] = value instead\n",
      "\n",
      "See the caveats in the documentation: https://pandas.pydata.org/pandas-docs/stable/user_guide/indexing.html#returning-a-view-versus-a-copy\n",
      "  metadata.loc[:, \"Metadata_dummy_index\"] = metadata.index\n",
      "2023-07-03 15:52:01 INFO     Indexing metadata...\n",
      "2023-07-03 15:52:01 INFO     Finding positive pairs...\n"
     ]
    },
    {
     "name": "stdout",
     "output_type": "stream",
     "text": [
      "30f99c08 id1 match OK\n",
      "Sameby: ['Metadata_Symbol'] Diffby: ['Metadata_Well']\n"
     ]
    },
    {
     "name": "stderr",
     "output_type": "stream",
     "text": [
      "2023-07-03 15:52:02 INFO     dropping dups...\n",
      "2023-07-03 15:52:02 INFO     Finding negative pairs...\n",
      "2023-07-03 15:52:23 INFO     dropping dups...\n",
      "2023-07-03 15:53:06 INFO     Computing positive similarities...\n"
     ]
    },
    {
     "data": {
      "application/vnd.jupyter.widget-view+json": {
       "model_id": "26746dc9e5864c60952ae2bae3cbcf4b",
       "version_major": 2,
       "version_minor": 0
      },
      "text/plain": [
       "  0%|          | 0/1 [00:00<?, ?it/s]"
      ]
     },
     "metadata": {},
     "output_type": "display_data"
    },
    {
     "name": "stderr",
     "output_type": "stream",
     "text": [
      "2023-07-03 15:53:06 INFO     Computing negative similarities...\n"
     ]
    },
    {
     "data": {
      "application/vnd.jupyter.widget-view+json": {
       "model_id": "a87dbfb427f14d44be7aa26c569aacf7",
       "version_major": 2,
       "version_minor": 0
      },
      "text/plain": [
       "  0%|          | 0/161 [00:00<?, ?it/s]"
      ]
     },
     "metadata": {},
     "output_type": "display_data"
    },
    {
     "name": "stderr",
     "output_type": "stream",
     "text": [
      "2023-07-03 15:53:16 INFO     Building rank lists...\n",
      "2023-07-03 15:53:36 INFO     Computing average precision...\n",
      "2023-07-03 15:53:36 INFO     Computing null distributions...\n",
      "/Users/akalinin/Projects/copairs/src/copairs/compute_np.py:107: RuntimeWarning: invalid value encountered in divide\n",
      "  ap = (pr_k * rel_k).sum(axis=1) / num_pos\n",
      "/Users/akalinin/Projects/copairs/src/copairs/compute_np.py:107: RuntimeWarning: invalid value encountered in divide\n",
      "  ap = (pr_k * rel_k).sum(axis=1) / num_pos\n",
      "/Users/akalinin/Projects/copairs/src/copairs/compute_np.py:107: RuntimeWarning: invalid value encountered in divide\n",
      "  ap = (pr_k * rel_k).sum(axis=1) / num_pos\n",
      "/Users/akalinin/Projects/copairs/src/copairs/compute_np.py:107: RuntimeWarning: invalid value encountered in divide\n",
      "  ap = (pr_k * rel_k).sum(axis=1) / num_pos\n",
      "2023-07-03 15:53:43 INFO     Computing P-values...\n",
      "2023-07-03 15:53:43 INFO     Creating result DataFrame...\n",
      "2023-07-03 15:53:43 INFO     Finished.\n",
      "/var/folders/41/1jdfcmfs0gx7qwx9d31rtxgr0000gq/T/ipykernel_85051/2184141838.py:15: SettingWithCopyWarning: \n",
      "A value is trying to be set on a copy of a slice from a DataFrame.\n",
      "Try using .loc[row_indexer,col_indexer] = value instead\n",
      "\n",
      "See the caveats in the documentation: https://pandas.pydata.org/pandas-docs/stable/user_guide/indexing.html#returning-a-view-versus-a-copy\n",
      "  metadata.loc[:, \"Metadata_dummy_index\"] = metadata.index\n",
      "2023-07-03 15:53:47 INFO     Indexing metadata...\n",
      "2023-07-03 15:53:47 INFO     Finding positive pairs...\n"
     ]
    },
    {
     "name": "stdout",
     "output_type": "stream",
     "text": [
      "125bfb5b id1 match OK\n",
      "Sameby: ['Metadata_JCP2022'] Diffby: ['Metadata_Well']\n"
     ]
    },
    {
     "name": "stderr",
     "output_type": "stream",
     "text": [
      "2023-07-03 15:53:47 INFO     dropping dups...\n",
      "2023-07-03 15:53:47 INFO     Finding negative pairs...\n",
      "2023-07-03 15:54:08 INFO     dropping dups...\n",
      "2023-07-03 15:54:53 INFO     Computing positive similarities...\n"
     ]
    },
    {
     "data": {
      "application/vnd.jupyter.widget-view+json": {
       "model_id": "815b3b29b65e41a882682a22f5123cdf",
       "version_major": 2,
       "version_minor": 0
      },
      "text/plain": [
       "  0%|          | 0/1 [00:00<?, ?it/s]"
      ]
     },
     "metadata": {},
     "output_type": "display_data"
    },
    {
     "name": "stderr",
     "output_type": "stream",
     "text": [
      "2023-07-03 15:54:53 INFO     Computing negative similarities...\n"
     ]
    },
    {
     "data": {
      "application/vnd.jupyter.widget-view+json": {
       "model_id": "bec02111d791419da98140fa4c8dbfb6",
       "version_major": 2,
       "version_minor": 0
      },
      "text/plain": [
       "  0%|          | 0/161 [00:00<?, ?it/s]"
      ]
     },
     "metadata": {},
     "output_type": "display_data"
    },
    {
     "name": "stderr",
     "output_type": "stream",
     "text": [
      "2023-07-03 15:55:03 INFO     Building rank lists...\n",
      "2023-07-03 15:55:24 INFO     Computing average precision...\n",
      "2023-07-03 15:55:24 INFO     Computing null distributions...\n",
      "/Users/akalinin/Projects/copairs/src/copairs/compute_np.py:107: RuntimeWarning: invalid value encountered in divide\n",
      "  ap = (pr_k * rel_k).sum(axis=1) / num_pos\n",
      "/Users/akalinin/Projects/copairs/src/copairs/compute_np.py:107: RuntimeWarning: invalid value encountered in divide\n",
      "  ap = (pr_k * rel_k).sum(axis=1) / num_pos\n",
      "/Users/akalinin/Projects/copairs/src/copairs/compute_np.py:107: RuntimeWarning: invalid value encountered in divide\n",
      "  ap = (pr_k * rel_k).sum(axis=1) / num_pos\n",
      "/Users/akalinin/Projects/copairs/src/copairs/compute_np.py:107: RuntimeWarning: invalid value encountered in divide\n",
      "  ap = (pr_k * rel_k).sum(axis=1) / num_pos\n",
      "2023-07-03 15:55:30 INFO     Computing P-values...\n",
      "2023-07-03 15:55:31 INFO     Creating result DataFrame...\n",
      "2023-07-03 15:55:31 INFO     Finished.\n",
      "/var/folders/41/1jdfcmfs0gx7qwx9d31rtxgr0000gq/T/ipykernel_85051/2184141838.py:15: SettingWithCopyWarning: \n",
      "A value is trying to be set on a copy of a slice from a DataFrame.\n",
      "Try using .loc[row_indexer,col_indexer] = value instead\n",
      "\n",
      "See the caveats in the documentation: https://pandas.pydata.org/pandas-docs/stable/user_guide/indexing.html#returning-a-view-versus-a-copy\n",
      "  metadata.loc[:, \"Metadata_dummy_index\"] = metadata.index\n",
      "2023-07-03 15:55:34 INFO     Indexing metadata...\n",
      "2023-07-03 15:55:34 INFO     Finding positive pairs...\n"
     ]
    },
    {
     "name": "stdout",
     "output_type": "stream",
     "text": [
      "8a46f718 id1 match OK\n",
      "Sameby: ['Metadata_Symbol'] Diffby: ['Metadata_Well']\n"
     ]
    },
    {
     "name": "stderr",
     "output_type": "stream",
     "text": [
      "2023-07-03 15:55:34 INFO     dropping dups...\n",
      "2023-07-03 15:55:34 INFO     Finding negative pairs...\n",
      "2023-07-03 15:55:55 INFO     dropping dups...\n",
      "2023-07-03 15:56:40 INFO     Computing positive similarities...\n"
     ]
    },
    {
     "data": {
      "application/vnd.jupyter.widget-view+json": {
       "model_id": "2eb53a0992554fd7acb1321a77c716f3",
       "version_major": 2,
       "version_minor": 0
      },
      "text/plain": [
       "  0%|          | 0/1 [00:00<?, ?it/s]"
      ]
     },
     "metadata": {},
     "output_type": "display_data"
    },
    {
     "name": "stderr",
     "output_type": "stream",
     "text": [
      "2023-07-03 15:56:40 INFO     Computing negative similarities...\n"
     ]
    },
    {
     "data": {
      "application/vnd.jupyter.widget-view+json": {
       "model_id": "519a629bb99c4cc68ff5d73a87b8e49e",
       "version_major": 2,
       "version_minor": 0
      },
      "text/plain": [
       "  0%|          | 0/161 [00:00<?, ?it/s]"
      ]
     },
     "metadata": {},
     "output_type": "display_data"
    },
    {
     "name": "stderr",
     "output_type": "stream",
     "text": [
      "2023-07-03 15:56:49 INFO     Building rank lists...\n",
      "2023-07-03 15:57:09 INFO     Computing average precision...\n",
      "2023-07-03 15:57:09 INFO     Computing null distributions...\n",
      "/Users/akalinin/Projects/copairs/src/copairs/compute_np.py:107: RuntimeWarning: invalid value encountered in divide\n",
      "  ap = (pr_k * rel_k).sum(axis=1) / num_pos\n",
      "/Users/akalinin/Projects/copairs/src/copairs/compute_np.py:107: RuntimeWarning: invalid value encountered in divide\n",
      "  ap = (pr_k * rel_k).sum(axis=1) / num_pos\n",
      "/Users/akalinin/Projects/copairs/src/copairs/compute_np.py:107: RuntimeWarning: invalid value encountered in divide\n",
      "  ap = (pr_k * rel_k).sum(axis=1) / num_pos\n",
      "/Users/akalinin/Projects/copairs/src/copairs/compute_np.py:107: RuntimeWarning: invalid value encountered in divide\n",
      "  ap = (pr_k * rel_k).sum(axis=1) / num_pos\n",
      "2023-07-03 15:57:16 INFO     Computing P-values...\n",
      "2023-07-03 15:57:16 INFO     Creating result DataFrame...\n",
      "2023-07-03 15:57:16 INFO     Finished.\n",
      "/var/folders/41/1jdfcmfs0gx7qwx9d31rtxgr0000gq/T/ipykernel_85051/2184141838.py:15: SettingWithCopyWarning: \n",
      "A value is trying to be set on a copy of a slice from a DataFrame.\n",
      "Try using .loc[row_indexer,col_indexer] = value instead\n",
      "\n",
      "See the caveats in the documentation: https://pandas.pydata.org/pandas-docs/stable/user_guide/indexing.html#returning-a-view-versus-a-copy\n",
      "  metadata.loc[:, \"Metadata_dummy_index\"] = metadata.index\n",
      "2023-07-03 15:57:20 INFO     Indexing metadata...\n",
      "2023-07-03 15:57:20 INFO     Finding positive pairs...\n"
     ]
    },
    {
     "name": "stdout",
     "output_type": "stream",
     "text": [
      "3d645cb2 id1 match OK\n",
      "Sameby: ['Metadata_JCP2022'] Diffby: ['Metadata_Well']\n"
     ]
    },
    {
     "name": "stderr",
     "output_type": "stream",
     "text": [
      "2023-07-03 15:57:20 INFO     dropping dups...\n",
      "2023-07-03 15:57:20 INFO     Finding negative pairs...\n",
      "2023-07-03 15:57:41 INFO     dropping dups...\n",
      "2023-07-03 15:58:24 INFO     Computing positive similarities...\n"
     ]
    },
    {
     "data": {
      "application/vnd.jupyter.widget-view+json": {
       "model_id": "32587c920e884cbc9bcd96556a56f954",
       "version_major": 2,
       "version_minor": 0
      },
      "text/plain": [
       "  0%|          | 0/1 [00:00<?, ?it/s]"
      ]
     },
     "metadata": {},
     "output_type": "display_data"
    },
    {
     "name": "stderr",
     "output_type": "stream",
     "text": [
      "2023-07-03 15:58:24 INFO     Computing negative similarities...\n"
     ]
    },
    {
     "data": {
      "application/vnd.jupyter.widget-view+json": {
       "model_id": "2fa6925086f6422f95e6447f031d6c64",
       "version_major": 2,
       "version_minor": 0
      },
      "text/plain": [
       "  0%|          | 0/161 [00:00<?, ?it/s]"
      ]
     },
     "metadata": {},
     "output_type": "display_data"
    },
    {
     "name": "stderr",
     "output_type": "stream",
     "text": [
      "2023-07-03 15:58:33 INFO     Building rank lists...\n",
      "2023-07-03 15:58:53 INFO     Computing average precision...\n",
      "2023-07-03 15:58:54 INFO     Computing null distributions...\n",
      "/Users/akalinin/Projects/copairs/src/copairs/compute_np.py:107: RuntimeWarning: invalid value encountered in divide\n",
      "  ap = (pr_k * rel_k).sum(axis=1) / num_pos\n",
      "/Users/akalinin/Projects/copairs/src/copairs/compute_np.py:107: RuntimeWarning: invalid value encountered in divide\n",
      "  ap = (pr_k * rel_k).sum(axis=1) / num_pos\n",
      "/Users/akalinin/Projects/copairs/src/copairs/compute_np.py:107: RuntimeWarning: invalid value encountered in divide\n",
      "  ap = (pr_k * rel_k).sum(axis=1) / num_pos\n",
      "/Users/akalinin/Projects/copairs/src/copairs/compute_np.py:107: RuntimeWarning: invalid value encountered in divide\n",
      "  ap = (pr_k * rel_k).sum(axis=1) / num_pos\n",
      "2023-07-03 15:59:00 INFO     Computing P-values...\n",
      "2023-07-03 15:59:01 INFO     Creating result DataFrame...\n",
      "2023-07-03 15:59:01 INFO     Finished.\n",
      "/var/folders/41/1jdfcmfs0gx7qwx9d31rtxgr0000gq/T/ipykernel_85051/2184141838.py:15: SettingWithCopyWarning: \n",
      "A value is trying to be set on a copy of a slice from a DataFrame.\n",
      "Try using .loc[row_indexer,col_indexer] = value instead\n",
      "\n",
      "See the caveats in the documentation: https://pandas.pydata.org/pandas-docs/stable/user_guide/indexing.html#returning-a-view-versus-a-copy\n",
      "  metadata.loc[:, \"Metadata_dummy_index\"] = metadata.index\n",
      "2023-07-03 15:59:04 INFO     Indexing metadata...\n",
      "2023-07-03 15:59:04 INFO     Finding positive pairs...\n"
     ]
    },
    {
     "name": "stdout",
     "output_type": "stream",
     "text": [
      "d2311b58 id1 mismatch\n",
      "Sameby: ['Metadata_Well'] Diffby: ['Metadata_JCP2022']\n"
     ]
    },
    {
     "name": "stderr",
     "output_type": "stream",
     "text": [
      "2023-07-03 15:59:06 INFO     dropping dups...\n",
      "2023-07-03 15:59:07 INFO     Finding negative pairs...\n",
      "2023-07-03 15:59:28 INFO     dropping dups...\n",
      "2023-07-03 16:00:14 INFO     Computing positive similarities...\n"
     ]
    },
    {
     "data": {
      "application/vnd.jupyter.widget-view+json": {
       "model_id": "840dbe90e3d1413bacd076138ec7694e",
       "version_major": 2,
       "version_minor": 0
      },
      "text/plain": [
       "  0%|          | 0/5 [00:00<?, ?it/s]"
      ]
     },
     "metadata": {},
     "output_type": "display_data"
    },
    {
     "name": "stderr",
     "output_type": "stream",
     "text": [
      "2023-07-03 16:00:15 INFO     Computing negative similarities...\n"
     ]
    },
    {
     "data": {
      "application/vnd.jupyter.widget-view+json": {
       "model_id": "ed0889b6d4a24186bfad7b3c083bb889",
       "version_major": 2,
       "version_minor": 0
      },
      "text/plain": [
       "  0%|          | 0/161 [00:00<?, ?it/s]"
      ]
     },
     "metadata": {},
     "output_type": "display_data"
    },
    {
     "name": "stderr",
     "output_type": "stream",
     "text": [
      "2023-07-03 16:01:36 INFO     Building rank lists...\n",
      "2023-07-03 16:01:57 INFO     Computing average precision...\n",
      "2023-07-03 16:01:57 INFO     Computing null distributions...\n",
      "/Users/akalinin/Projects/copairs/src/copairs/compute_np.py:107: RuntimeWarning: invalid value encountered in divide\n",
      "  ap = (pr_k * rel_k).sum(axis=1) / num_pos\n",
      "/Users/akalinin/Projects/copairs/src/copairs/compute_np.py:107: RuntimeWarning: invalid value encountered in divide\n",
      "  ap = (pr_k * rel_k).sum(axis=1) / num_pos\n",
      "/Users/akalinin/Projects/copairs/src/copairs/compute_np.py:107: RuntimeWarning: invalid value encountered in divide\n",
      "  ap = (pr_k * rel_k).sum(axis=1) / num_pos\n",
      "/Users/akalinin/Projects/copairs/src/copairs/compute_np.py:107: RuntimeWarning: invalid value encountered in divide\n",
      "  ap = (pr_k * rel_k).sum(axis=1) / num_pos\n",
      "2023-07-03 16:02:04 INFO     Computing P-values...\n",
      "2023-07-03 16:02:05 INFO     Creating result DataFrame...\n",
      "2023-07-03 16:02:05 INFO     Finished.\n",
      "/var/folders/41/1jdfcmfs0gx7qwx9d31rtxgr0000gq/T/ipykernel_85051/2184141838.py:15: SettingWithCopyWarning: \n",
      "A value is trying to be set on a copy of a slice from a DataFrame.\n",
      "Try using .loc[row_indexer,col_indexer] = value instead\n",
      "\n",
      "See the caveats in the documentation: https://pandas.pydata.org/pandas-docs/stable/user_guide/indexing.html#returning-a-view-versus-a-copy\n",
      "  metadata.loc[:, \"Metadata_dummy_index\"] = metadata.index\n",
      "2023-07-03 16:02:08 INFO     Indexing metadata...\n",
      "2023-07-03 16:02:08 INFO     Finding positive pairs...\n"
     ]
    },
    {
     "name": "stdout",
     "output_type": "stream",
     "text": [
      "d4df76cd id1 mismatch\n",
      "Sameby: ['Metadata_Well', 'Metadata_Symbol'] Diffby: []\n"
     ]
    },
    {
     "name": "stderr",
     "output_type": "stream",
     "text": [
      "2023-07-03 16:02:09 INFO     dropping dups...\n",
      "2023-07-03 16:02:09 INFO     Finding negative pairs...\n",
      "2023-07-03 16:02:30 INFO     dropping dups...\n",
      "2023-07-03 16:03:15 INFO     Computing positive similarities...\n"
     ]
    },
    {
     "data": {
      "application/vnd.jupyter.widget-view+json": {
       "model_id": "a9f0d6e9c1204204bcd6246c9a1ddd51",
       "version_major": 2,
       "version_minor": 0
      },
      "text/plain": [
       "  0%|          | 0/1 [00:00<?, ?it/s]"
      ]
     },
     "metadata": {},
     "output_type": "display_data"
    },
    {
     "name": "stderr",
     "output_type": "stream",
     "text": [
      "2023-07-03 16:03:16 INFO     Computing negative similarities...\n"
     ]
    },
    {
     "data": {
      "application/vnd.jupyter.widget-view+json": {
       "model_id": "593b48c661b24812828048b09c7d389c",
       "version_major": 2,
       "version_minor": 0
      },
      "text/plain": [
       "  0%|          | 0/161 [00:00<?, ?it/s]"
      ]
     },
     "metadata": {},
     "output_type": "display_data"
    },
    {
     "name": "stderr",
     "output_type": "stream",
     "text": [
      "2023-07-03 16:03:53 INFO     Building rank lists...\n",
      "2023-07-03 16:04:13 INFO     Computing average precision...\n",
      "2023-07-03 16:04:14 INFO     Computing null distributions...\n",
      "/Users/akalinin/Projects/copairs/src/copairs/compute_np.py:107: RuntimeWarning: invalid value encountered in divide\n",
      "  ap = (pr_k * rel_k).sum(axis=1) / num_pos\n",
      "/Users/akalinin/Projects/copairs/src/copairs/compute_np.py:107: RuntimeWarning: invalid value encountered in divide\n",
      "  ap = (pr_k * rel_k).sum(axis=1) / num_pos\n",
      "/Users/akalinin/Projects/copairs/src/copairs/compute_np.py:107: RuntimeWarning: invalid value encountered in divide\n",
      "  ap = (pr_k * rel_k).sum(axis=1) / num_pos\n",
      "/Users/akalinin/Projects/copairs/src/copairs/compute_np.py:107: RuntimeWarning: invalid value encountered in divide\n",
      "  ap = (pr_k * rel_k).sum(axis=1) / num_pos\n",
      "2023-07-03 16:04:21 INFO     Computing P-values...\n",
      "2023-07-03 16:04:21 INFO     Creating result DataFrame...\n",
      "2023-07-03 16:04:21 INFO     Finished.\n",
      "2023-07-03 16:04:24 WARNING  File ../../position-effect-correction/3.correct/output/subset_profiles_mean_corrected_preprocessed_cospca.parquet not found. Skipping.\n"
     ]
    },
    {
     "name": "stdout",
     "output_type": "stream",
     "text": [
      "a534201d id1 match OK\n"
     ]
    },
    {
     "name": "stderr",
     "output_type": "stream",
     "text": [
      "/var/folders/41/1jdfcmfs0gx7qwx9d31rtxgr0000gq/T/ipykernel_85051/2184141838.py:15: SettingWithCopyWarning: \n",
      "A value is trying to be set on a copy of a slice from a DataFrame.\n",
      "Try using .loc[row_indexer,col_indexer] = value instead\n",
      "\n",
      "See the caveats in the documentation: https://pandas.pydata.org/pandas-docs/stable/user_guide/indexing.html#returning-a-view-versus-a-copy\n",
      "  metadata.loc[:, \"Metadata_dummy_index\"] = metadata.index\n",
      "2023-07-03 16:04:27 INFO     Indexing metadata...\n",
      "2023-07-03 16:04:27 INFO     Finding positive pairs...\n"
     ]
    },
    {
     "name": "stdout",
     "output_type": "stream",
     "text": [
      "26efacc8 id1 match OK\n",
      "Sameby: ['Metadata_Symbol'] Diffby: ['Metadata_Well']\n"
     ]
    },
    {
     "name": "stderr",
     "output_type": "stream",
     "text": [
      "2023-07-03 16:04:27 INFO     dropping dups...\n",
      "2023-07-03 16:04:27 INFO     Finding negative pairs...\n",
      "2023-07-03 16:04:48 INFO     dropping dups...\n",
      "2023-07-03 16:05:31 INFO     Computing positive similarities...\n"
     ]
    },
    {
     "data": {
      "application/vnd.jupyter.widget-view+json": {
       "model_id": "d423afd3d23f444fa8e08506fe7a4efd",
       "version_major": 2,
       "version_minor": 0
      },
      "text/plain": [
       "  0%|          | 0/1 [00:00<?, ?it/s]"
      ]
     },
     "metadata": {},
     "output_type": "display_data"
    },
    {
     "name": "stderr",
     "output_type": "stream",
     "text": [
      "2023-07-03 16:05:31 INFO     Computing negative similarities...\n"
     ]
    },
    {
     "data": {
      "application/vnd.jupyter.widget-view+json": {
       "model_id": "9e85afe97a924810ba45215416cbb6e2",
       "version_major": 2,
       "version_minor": 0
      },
      "text/plain": [
       "  0%|          | 0/161 [00:00<?, ?it/s]"
      ]
     },
     "metadata": {},
     "output_type": "display_data"
    },
    {
     "name": "stderr",
     "output_type": "stream",
     "text": [
      "2023-07-03 16:06:28 INFO     Building rank lists...\n",
      "2023-07-03 16:06:49 INFO     Computing average precision...\n",
      "2023-07-03 16:06:49 INFO     Computing null distributions...\n",
      "/Users/akalinin/Projects/copairs/src/copairs/compute_np.py:107: RuntimeWarning: invalid value encountered in divide\n",
      "  ap = (pr_k * rel_k).sum(axis=1) / num_pos\n",
      "/Users/akalinin/Projects/copairs/src/copairs/compute_np.py:107: RuntimeWarning: invalid value encountered in divide\n",
      "  ap = (pr_k * rel_k).sum(axis=1) / num_pos\n",
      "/Users/akalinin/Projects/copairs/src/copairs/compute_np.py:107: RuntimeWarning: invalid value encountered in divide\n",
      "  ap = (pr_k * rel_k).sum(axis=1) / num_pos\n",
      "/Users/akalinin/Projects/copairs/src/copairs/compute_np.py:107: RuntimeWarning: invalid value encountered in divide\n",
      "  ap = (pr_k * rel_k).sum(axis=1) / num_pos\n",
      "2023-07-03 16:06:58 INFO     Computing P-values...\n",
      "2023-07-03 16:06:58 INFO     Creating result DataFrame...\n",
      "2023-07-03 16:06:58 INFO     Finished.\n",
      "/var/folders/41/1jdfcmfs0gx7qwx9d31rtxgr0000gq/T/ipykernel_85051/2184141838.py:15: SettingWithCopyWarning: \n",
      "A value is trying to be set on a copy of a slice from a DataFrame.\n",
      "Try using .loc[row_indexer,col_indexer] = value instead\n",
      "\n",
      "See the caveats in the documentation: https://pandas.pydata.org/pandas-docs/stable/user_guide/indexing.html#returning-a-view-versus-a-copy\n",
      "  metadata.loc[:, \"Metadata_dummy_index\"] = metadata.index\n",
      "2023-07-03 16:07:02 INFO     Indexing metadata...\n",
      "2023-07-03 16:07:02 INFO     Finding positive pairs...\n"
     ]
    },
    {
     "name": "stdout",
     "output_type": "stream",
     "text": [
      "5ee8aabb id1 mismatch\n",
      "Sameby: ['Metadata_Well'] Diffby: ['Metadata_Symbol']\n"
     ]
    },
    {
     "name": "stderr",
     "output_type": "stream",
     "text": [
      "2023-07-03 16:07:04 INFO     dropping dups...\n",
      "2023-07-03 16:07:05 INFO     Finding negative pairs...\n",
      "2023-07-03 16:07:26 INFO     dropping dups...\n",
      "2023-07-03 16:08:12 INFO     Computing positive similarities...\n"
     ]
    },
    {
     "data": {
      "application/vnd.jupyter.widget-view+json": {
       "model_id": "1616de3cac8c4758aa37faa8ff03a6d2",
       "version_major": 2,
       "version_minor": 0
      },
      "text/plain": [
       "  0%|          | 0/5 [00:00<?, ?it/s]"
      ]
     },
     "metadata": {},
     "output_type": "display_data"
    },
    {
     "name": "stderr",
     "output_type": "stream",
     "text": [
      "2023-07-03 16:08:13 INFO     Computing negative similarities...\n"
     ]
    },
    {
     "data": {
      "application/vnd.jupyter.widget-view+json": {
       "model_id": "403b33c78032490dbc45da55b4876737",
       "version_major": 2,
       "version_minor": 0
      },
      "text/plain": [
       "  0%|          | 0/161 [00:00<?, ?it/s]"
      ]
     },
     "metadata": {},
     "output_type": "display_data"
    },
    {
     "name": "stderr",
     "output_type": "stream",
     "text": [
      "2023-07-03 16:09:18 INFO     Building rank lists...\n",
      "2023-07-03 16:09:39 INFO     Computing average precision...\n",
      "2023-07-03 16:09:39 INFO     Computing null distributions...\n",
      "/Users/akalinin/Projects/copairs/src/copairs/compute_np.py:107: RuntimeWarning: invalid value encountered in divide\n",
      "  ap = (pr_k * rel_k).sum(axis=1) / num_pos\n",
      "/Users/akalinin/Projects/copairs/src/copairs/compute_np.py:107: RuntimeWarning: invalid value encountered in divide\n",
      "  ap = (pr_k * rel_k).sum(axis=1) / num_pos\n",
      "/Users/akalinin/Projects/copairs/src/copairs/compute_np.py:107: RuntimeWarning: invalid value encountered in divide\n",
      "  ap = (pr_k * rel_k).sum(axis=1) / num_pos\n",
      "/Users/akalinin/Projects/copairs/src/copairs/compute_np.py:107: RuntimeWarning: invalid value encountered in divide\n",
      "  ap = (pr_k * rel_k).sum(axis=1) / num_pos\n",
      "2023-07-03 16:09:47 INFO     Computing P-values...\n",
      "2023-07-03 16:09:47 INFO     Creating result DataFrame...\n",
      "2023-07-03 16:09:47 INFO     Finished.\n",
      "/var/folders/41/1jdfcmfs0gx7qwx9d31rtxgr0000gq/T/ipykernel_85051/2184141838.py:15: SettingWithCopyWarning: \n",
      "A value is trying to be set on a copy of a slice from a DataFrame.\n",
      "Try using .loc[row_indexer,col_indexer] = value instead\n",
      "\n",
      "See the caveats in the documentation: https://pandas.pydata.org/pandas-docs/stable/user_guide/indexing.html#returning-a-view-versus-a-copy\n",
      "  metadata.loc[:, \"Metadata_dummy_index\"] = metadata.index\n",
      "2023-07-03 16:09:51 INFO     Indexing metadata...\n",
      "2023-07-03 16:09:51 INFO     Finding positive pairs...\n"
     ]
    },
    {
     "name": "stdout",
     "output_type": "stream",
     "text": [
      "64aa0540 id1 match OK\n",
      "Sameby: ['Metadata_Symbol'] Diffby: ['Metadata_Well']\n"
     ]
    },
    {
     "name": "stderr",
     "output_type": "stream",
     "text": [
      "2023-07-03 16:09:51 INFO     dropping dups...\n",
      "2023-07-03 16:09:51 INFO     Finding negative pairs...\n",
      "2023-07-03 16:10:12 INFO     dropping dups...\n",
      "2023-07-03 16:10:58 INFO     Computing positive similarities...\n"
     ]
    },
    {
     "data": {
      "application/vnd.jupyter.widget-view+json": {
       "model_id": "61fa7940a08b4764afe69fc37726544a",
       "version_major": 2,
       "version_minor": 0
      },
      "text/plain": [
       "  0%|          | 0/1 [00:00<?, ?it/s]"
      ]
     },
     "metadata": {},
     "output_type": "display_data"
    },
    {
     "name": "stderr",
     "output_type": "stream",
     "text": [
      "2023-07-03 16:10:58 INFO     Computing negative similarities...\n"
     ]
    },
    {
     "data": {
      "application/vnd.jupyter.widget-view+json": {
       "model_id": "5f800b9e140a4dc3b7e1c84dd8aa6cd7",
       "version_major": 2,
       "version_minor": 0
      },
      "text/plain": [
       "  0%|          | 0/161 [00:00<?, ?it/s]"
      ]
     },
     "metadata": {},
     "output_type": "display_data"
    },
    {
     "name": "stderr",
     "output_type": "stream",
     "text": [
      "2023-07-03 16:11:08 INFO     Building rank lists...\n",
      "2023-07-03 16:11:27 INFO     Computing average precision...\n",
      "2023-07-03 16:11:28 INFO     Computing null distributions...\n",
      "/Users/akalinin/Projects/copairs/src/copairs/compute_np.py:107: RuntimeWarning: invalid value encountered in divide\n",
      "  ap = (pr_k * rel_k).sum(axis=1) / num_pos\n",
      "/Users/akalinin/Projects/copairs/src/copairs/compute_np.py:107: RuntimeWarning: invalid value encountered in divide\n",
      "  ap = (pr_k * rel_k).sum(axis=1) / num_pos\n",
      "/Users/akalinin/Projects/copairs/src/copairs/compute_np.py:107: RuntimeWarning: invalid value encountered in divide\n",
      "  ap = (pr_k * rel_k).sum(axis=1) / num_pos\n",
      "/Users/akalinin/Projects/copairs/src/copairs/compute_np.py:107: RuntimeWarning: invalid value encountered in divide\n",
      "  ap = (pr_k * rel_k).sum(axis=1) / num_pos\n",
      "2023-07-03 16:11:38 INFO     Computing P-values...\n",
      "2023-07-03 16:11:39 INFO     Creating result DataFrame...\n",
      "2023-07-03 16:11:39 INFO     Finished.\n",
      "/var/folders/41/1jdfcmfs0gx7qwx9d31rtxgr0000gq/T/ipykernel_85051/2184141838.py:15: SettingWithCopyWarning: \n",
      "A value is trying to be set on a copy of a slice from a DataFrame.\n",
      "Try using .loc[row_indexer,col_indexer] = value instead\n",
      "\n",
      "See the caveats in the documentation: https://pandas.pydata.org/pandas-docs/stable/user_guide/indexing.html#returning-a-view-versus-a-copy\n",
      "  metadata.loc[:, \"Metadata_dummy_index\"] = metadata.index\n",
      "2023-07-03 16:11:42 INFO     Indexing metadata...\n",
      "2023-07-03 16:11:42 INFO     Finding positive pairs...\n"
     ]
    },
    {
     "name": "stdout",
     "output_type": "stream",
     "text": [
      "faa6ba3e id1 mismatch\n",
      "Sameby: ['Metadata_Well', 'Metadata_JCP2022'] Diffby: []\n"
     ]
    },
    {
     "name": "stderr",
     "output_type": "stream",
     "text": [
      "2023-07-03 16:11:43 INFO     dropping dups...\n",
      "2023-07-03 16:11:43 INFO     Finding negative pairs...\n",
      "2023-07-03 16:12:03 INFO     dropping dups...\n",
      "2023-07-03 16:12:46 INFO     Computing positive similarities...\n"
     ]
    },
    {
     "data": {
      "application/vnd.jupyter.widget-view+json": {
       "model_id": "55696365942e47b5883fe8e7775bfab6",
       "version_major": 2,
       "version_minor": 0
      },
      "text/plain": [
       "  0%|          | 0/1 [00:00<?, ?it/s]"
      ]
     },
     "metadata": {},
     "output_type": "display_data"
    },
    {
     "name": "stderr",
     "output_type": "stream",
     "text": [
      "2023-07-03 16:12:46 INFO     Computing negative similarities...\n"
     ]
    },
    {
     "data": {
      "application/vnd.jupyter.widget-view+json": {
       "model_id": "aa0d703d4b1845b0a79b316608a04831",
       "version_major": 2,
       "version_minor": 0
      },
      "text/plain": [
       "  0%|          | 0/161 [00:00<?, ?it/s]"
      ]
     },
     "metadata": {},
     "output_type": "display_data"
    },
    {
     "name": "stderr",
     "output_type": "stream",
     "text": [
      "2023-07-03 16:14:38 INFO     Building rank lists...\n",
      "2023-07-03 16:14:58 INFO     Computing average precision...\n",
      "2023-07-03 16:14:58 INFO     Computing null distributions...\n",
      "/Users/akalinin/Projects/copairs/src/copairs/compute_np.py:107: RuntimeWarning: invalid value encountered in divide\n",
      "  ap = (pr_k * rel_k).sum(axis=1) / num_pos\n",
      "/Users/akalinin/Projects/copairs/src/copairs/compute_np.py:107: RuntimeWarning: invalid value encountered in divide\n",
      "  ap = (pr_k * rel_k).sum(axis=1) / num_pos\n",
      "/Users/akalinin/Projects/copairs/src/copairs/compute_np.py:107: RuntimeWarning: invalid value encountered in divide\n",
      "  ap = (pr_k * rel_k).sum(axis=1) / num_pos\n",
      "/Users/akalinin/Projects/copairs/src/copairs/compute_np.py:107: RuntimeWarning: invalid value encountered in divide\n",
      "  ap = (pr_k * rel_k).sum(axis=1) / num_pos\n",
      "2023-07-03 16:15:06 INFO     Computing P-values...\n",
      "2023-07-03 16:15:06 INFO     Creating result DataFrame...\n",
      "2023-07-03 16:15:06 INFO     Finished.\n",
      "/var/folders/41/1jdfcmfs0gx7qwx9d31rtxgr0000gq/T/ipykernel_85051/2184141838.py:15: SettingWithCopyWarning: \n",
      "A value is trying to be set on a copy of a slice from a DataFrame.\n",
      "Try using .loc[row_indexer,col_indexer] = value instead\n",
      "\n",
      "See the caveats in the documentation: https://pandas.pydata.org/pandas-docs/stable/user_guide/indexing.html#returning-a-view-versus-a-copy\n",
      "  metadata.loc[:, \"Metadata_dummy_index\"] = metadata.index\n",
      "2023-07-03 16:15:12 INFO     Indexing metadata...\n",
      "2023-07-03 16:15:12 INFO     Finding positive pairs...\n"
     ]
    },
    {
     "name": "stdout",
     "output_type": "stream",
     "text": [
      "49abf604 id1 match OK\n",
      "Sameby: ['Metadata_Symbol'] Diffby: ['Metadata_Well']\n"
     ]
    },
    {
     "name": "stderr",
     "output_type": "stream",
     "text": [
      "2023-07-03 16:15:13 INFO     dropping dups...\n",
      "2023-07-03 16:15:13 INFO     Finding negative pairs...\n",
      "2023-07-03 16:15:33 INFO     dropping dups...\n",
      "2023-07-03 16:16:19 INFO     Computing positive similarities...\n"
     ]
    },
    {
     "data": {
      "application/vnd.jupyter.widget-view+json": {
       "model_id": "796ec51a1b704e4ea8e4b6727df578b0",
       "version_major": 2,
       "version_minor": 0
      },
      "text/plain": [
       "  0%|          | 0/1 [00:00<?, ?it/s]"
      ]
     },
     "metadata": {},
     "output_type": "display_data"
    },
    {
     "name": "stderr",
     "output_type": "stream",
     "text": [
      "2023-07-03 16:16:19 INFO     Computing negative similarities...\n"
     ]
    },
    {
     "data": {
      "application/vnd.jupyter.widget-view+json": {
       "model_id": "2291b4fdc80b41f680487a317bcf27b6",
       "version_major": 2,
       "version_minor": 0
      },
      "text/plain": [
       "  0%|          | 0/161 [00:00<?, ?it/s]"
      ]
     },
     "metadata": {},
     "output_type": "display_data"
    },
    {
     "name": "stderr",
     "output_type": "stream",
     "text": [
      "2023-07-03 16:16:30 INFO     Building rank lists...\n",
      "2023-07-03 16:16:50 INFO     Computing average precision...\n",
      "2023-07-03 16:16:50 INFO     Computing null distributions...\n",
      "/Users/akalinin/Projects/copairs/src/copairs/compute_np.py:107: RuntimeWarning: invalid value encountered in divide\n",
      "  ap = (pr_k * rel_k).sum(axis=1) / num_pos\n",
      "/Users/akalinin/Projects/copairs/src/copairs/compute_np.py:107: RuntimeWarning: invalid value encountered in divide\n",
      "  ap = (pr_k * rel_k).sum(axis=1) / num_pos\n",
      "/Users/akalinin/Projects/copairs/src/copairs/compute_np.py:107: RuntimeWarning: invalid value encountered in divide\n",
      "  ap = (pr_k * rel_k).sum(axis=1) / num_pos\n",
      "/Users/akalinin/Projects/copairs/src/copairs/compute_np.py:107: RuntimeWarning: invalid value encountered in divide\n",
      "  ap = (pr_k * rel_k).sum(axis=1) / num_pos\n",
      "2023-07-03 16:16:57 INFO     Computing P-values...\n",
      "2023-07-03 16:16:57 INFO     Creating result DataFrame...\n",
      "2023-07-03 16:16:57 INFO     Finished.\n",
      "/var/folders/41/1jdfcmfs0gx7qwx9d31rtxgr0000gq/T/ipykernel_85051/2184141838.py:15: SettingWithCopyWarning: \n",
      "A value is trying to be set on a copy of a slice from a DataFrame.\n",
      "Try using .loc[row_indexer,col_indexer] = value instead\n",
      "\n",
      "See the caveats in the documentation: https://pandas.pydata.org/pandas-docs/stable/user_guide/indexing.html#returning-a-view-versus-a-copy\n",
      "  metadata.loc[:, \"Metadata_dummy_index\"] = metadata.index\n",
      "2023-07-03 16:17:01 INFO     Indexing metadata...\n",
      "2023-07-03 16:17:01 INFO     Finding positive pairs...\n"
     ]
    },
    {
     "name": "stdout",
     "output_type": "stream",
     "text": [
      "790b8557 id1 match OK\n",
      "Sameby: ['Metadata_Symbol'] Diffby: ['Metadata_Well']\n"
     ]
    },
    {
     "name": "stderr",
     "output_type": "stream",
     "text": [
      "2023-07-03 16:17:01 INFO     dropping dups...\n",
      "2023-07-03 16:17:01 INFO     Finding negative pairs...\n",
      "2023-07-03 16:17:22 INFO     dropping dups...\n",
      "2023-07-03 16:18:06 INFO     Computing positive similarities...\n"
     ]
    },
    {
     "data": {
      "application/vnd.jupyter.widget-view+json": {
       "model_id": "efb46950ea814aa687070ceec9b8288d",
       "version_major": 2,
       "version_minor": 0
      },
      "text/plain": [
       "  0%|          | 0/1 [00:00<?, ?it/s]"
      ]
     },
     "metadata": {},
     "output_type": "display_data"
    },
    {
     "name": "stderr",
     "output_type": "stream",
     "text": [
      "2023-07-03 16:18:06 INFO     Computing negative similarities...\n"
     ]
    },
    {
     "data": {
      "application/vnd.jupyter.widget-view+json": {
       "model_id": "3e8e351ee0594ec796e61035b368c1a9",
       "version_major": 2,
       "version_minor": 0
      },
      "text/plain": [
       "  0%|          | 0/161 [00:00<?, ?it/s]"
      ]
     },
     "metadata": {},
     "output_type": "display_data"
    },
    {
     "name": "stderr",
     "output_type": "stream",
     "text": [
      "2023-07-03 16:19:21 INFO     Building rank lists...\n",
      "2023-07-03 16:19:41 INFO     Computing average precision...\n",
      "2023-07-03 16:19:41 INFO     Computing null distributions...\n",
      "/Users/akalinin/Projects/copairs/src/copairs/compute_np.py:107: RuntimeWarning: invalid value encountered in divide\n",
      "  ap = (pr_k * rel_k).sum(axis=1) / num_pos\n",
      "/Users/akalinin/Projects/copairs/src/copairs/compute_np.py:107: RuntimeWarning: invalid value encountered in divide\n",
      "  ap = (pr_k * rel_k).sum(axis=1) / num_pos\n",
      "/Users/akalinin/Projects/copairs/src/copairs/compute_np.py:107: RuntimeWarning: invalid value encountered in divide\n",
      "  ap = (pr_k * rel_k).sum(axis=1) / num_pos\n",
      "/Users/akalinin/Projects/copairs/src/copairs/compute_np.py:107: RuntimeWarning: invalid value encountered in divide\n",
      "  ap = (pr_k * rel_k).sum(axis=1) / num_pos\n",
      "2023-07-03 16:19:48 INFO     Computing P-values...\n",
      "2023-07-03 16:19:48 INFO     Creating result DataFrame...\n",
      "2023-07-03 16:19:48 INFO     Finished.\n",
      "/var/folders/41/1jdfcmfs0gx7qwx9d31rtxgr0000gq/T/ipykernel_85051/2184141838.py:15: SettingWithCopyWarning: \n",
      "A value is trying to be set on a copy of a slice from a DataFrame.\n",
      "Try using .loc[row_indexer,col_indexer] = value instead\n",
      "\n",
      "See the caveats in the documentation: https://pandas.pydata.org/pandas-docs/stable/user_guide/indexing.html#returning-a-view-versus-a-copy\n",
      "  metadata.loc[:, \"Metadata_dummy_index\"] = metadata.index\n",
      "2023-07-03 16:19:50 INFO     Indexing metadata...\n",
      "2023-07-03 16:19:50 INFO     Finding positive pairs...\n",
      "2023-07-03 16:19:50 INFO     dropping dups...\n",
      "2023-07-03 16:19:50 INFO     Finding negative pairs...\n",
      "2023-07-03 16:19:50 INFO     dropping dups...\n",
      "2023-07-03 16:19:50 INFO     Computing positive similarities...\n"
     ]
    },
    {
     "name": "stdout",
     "output_type": "stream",
     "text": [
      "50eec5d3 id1 match OK\n",
      "Sameby: ['Metadata_JCP2022'] Diffby: ['Metadata_Well']\n"
     ]
    },
    {
     "data": {
      "application/vnd.jupyter.widget-view+json": {
       "model_id": "8f740a8f75124611a3861affb42ef7d7",
       "version_major": 2,
       "version_minor": 0
      },
      "text/plain": [
       "  0%|          | 0/1 [00:00<?, ?it/s]"
      ]
     },
     "metadata": {},
     "output_type": "display_data"
    },
    {
     "name": "stderr",
     "output_type": "stream",
     "text": [
      "2023-07-03 16:19:50 INFO     Computing negative similarities...\n"
     ]
    },
    {
     "data": {
      "application/vnd.jupyter.widget-view+json": {
       "model_id": "df8d8f57517349479ca003d2a70de231",
       "version_major": 2,
       "version_minor": 0
      },
      "text/plain": [
       "  0%|          | 0/1 [00:00<?, ?it/s]"
      ]
     },
     "metadata": {},
     "output_type": "display_data"
    },
    {
     "name": "stderr",
     "output_type": "stream",
     "text": [
      "2023-07-03 16:19:50 INFO     Building rank lists...\n",
      "2023-07-03 16:19:50 INFO     Computing average precision...\n",
      "2023-07-03 16:19:50 INFO     Computing null distributions...\n",
      "/Users/akalinin/Projects/copairs/src/copairs/compute_np.py:107: RuntimeWarning: invalid value encountered in divide\n",
      "  ap = (pr_k * rel_k).sum(axis=1) / num_pos\n",
      "/Users/akalinin/Projects/copairs/src/copairs/compute_np.py:107: RuntimeWarning: invalid value encountered in divide\n",
      "  ap = (pr_k * rel_k).sum(axis=1) / num_pos\n",
      "2023-07-03 16:19:50 INFO     Computing P-values...\n",
      "2023-07-03 16:19:50 INFO     Creating result DataFrame...\n",
      "2023-07-03 16:19:50 INFO     Finished.\n",
      "/var/folders/41/1jdfcmfs0gx7qwx9d31rtxgr0000gq/T/ipykernel_85051/2184141838.py:15: SettingWithCopyWarning: \n",
      "A value is trying to be set on a copy of a slice from a DataFrame.\n",
      "Try using .loc[row_indexer,col_indexer] = value instead\n",
      "\n",
      "See the caveats in the documentation: https://pandas.pydata.org/pandas-docs/stable/user_guide/indexing.html#returning-a-view-versus-a-copy\n",
      "  metadata.loc[:, \"Metadata_dummy_index\"] = metadata.index\n",
      "2023-07-03 16:19:53 INFO     Indexing metadata...\n",
      "2023-07-03 16:19:53 INFO     Finding positive pairs...\n"
     ]
    },
    {
     "name": "stdout",
     "output_type": "stream",
     "text": [
      "fefae721 id1 match OK\n",
      "Sameby: ['Metadata_Symbol'] Diffby: ['Metadata_Well']\n"
     ]
    },
    {
     "name": "stderr",
     "output_type": "stream",
     "text": [
      "2023-07-03 16:19:53 INFO     dropping dups...\n",
      "2023-07-03 16:19:53 INFO     Finding negative pairs...\n",
      "2023-07-03 16:20:14 INFO     dropping dups...\n",
      "2023-07-03 16:21:02 INFO     Computing positive similarities...\n"
     ]
    },
    {
     "data": {
      "application/vnd.jupyter.widget-view+json": {
       "model_id": "e1ccd12b06aa4b00974d9c11d3e76aae",
       "version_major": 2,
       "version_minor": 0
      },
      "text/plain": [
       "  0%|          | 0/1 [00:00<?, ?it/s]"
      ]
     },
     "metadata": {},
     "output_type": "display_data"
    },
    {
     "name": "stderr",
     "output_type": "stream",
     "text": [
      "2023-07-03 16:21:02 INFO     Computing negative similarities...\n"
     ]
    },
    {
     "data": {
      "application/vnd.jupyter.widget-view+json": {
       "model_id": "38a896702da84c85b33e6d4749269ee5",
       "version_major": 2,
       "version_minor": 0
      },
      "text/plain": [
       "  0%|          | 0/161 [00:00<?, ?it/s]"
      ]
     },
     "metadata": {},
     "output_type": "display_data"
    },
    {
     "name": "stderr",
     "output_type": "stream",
     "text": [
      "2023-07-03 16:21:14 INFO     Building rank lists...\n",
      "2023-07-03 16:21:34 INFO     Computing average precision...\n",
      "2023-07-03 16:21:35 INFO     Computing null distributions...\n",
      "/Users/akalinin/Projects/copairs/src/copairs/compute_np.py:107: RuntimeWarning: invalid value encountered in divide\n",
      "  ap = (pr_k * rel_k).sum(axis=1) / num_pos\n",
      "/Users/akalinin/Projects/copairs/src/copairs/compute_np.py:107: RuntimeWarning: invalid value encountered in divide\n",
      "  ap = (pr_k * rel_k).sum(axis=1) / num_pos\n",
      "/Users/akalinin/Projects/copairs/src/copairs/compute_np.py:107: RuntimeWarning: invalid value encountered in divide\n",
      "  ap = (pr_k * rel_k).sum(axis=1) / num_pos\n",
      "/Users/akalinin/Projects/copairs/src/copairs/compute_np.py:107: RuntimeWarning: invalid value encountered in divide\n",
      "  ap = (pr_k * rel_k).sum(axis=1) / num_pos\n",
      "2023-07-03 16:21:42 INFO     Computing P-values...\n",
      "2023-07-03 16:21:42 INFO     Creating result DataFrame...\n",
      "2023-07-03 16:21:42 INFO     Finished.\n",
      "/var/folders/41/1jdfcmfs0gx7qwx9d31rtxgr0000gq/T/ipykernel_85051/2184141838.py:15: SettingWithCopyWarning: \n",
      "A value is trying to be set on a copy of a slice from a DataFrame.\n",
      "Try using .loc[row_indexer,col_indexer] = value instead\n",
      "\n",
      "See the caveats in the documentation: https://pandas.pydata.org/pandas-docs/stable/user_guide/indexing.html#returning-a-view-versus-a-copy\n",
      "  metadata.loc[:, \"Metadata_dummy_index\"] = metadata.index\n",
      "2023-07-03 16:21:46 INFO     Indexing metadata...\n",
      "2023-07-03 16:21:46 INFO     Finding positive pairs...\n"
     ]
    },
    {
     "name": "stdout",
     "output_type": "stream",
     "text": [
      "cdaf16db id1 match OK\n",
      "Sameby: ['Metadata_Symbol'] Diffby: ['Metadata_Well']\n"
     ]
    },
    {
     "name": "stderr",
     "output_type": "stream",
     "text": [
      "2023-07-03 16:21:46 INFO     dropping dups...\n",
      "2023-07-03 16:21:46 INFO     Finding negative pairs...\n",
      "2023-07-03 16:22:07 INFO     dropping dups...\n",
      "2023-07-03 16:22:51 INFO     Computing positive similarities...\n"
     ]
    },
    {
     "data": {
      "application/vnd.jupyter.widget-view+json": {
       "model_id": "49181e2fcd084d32b0842be1d310fe1f",
       "version_major": 2,
       "version_minor": 0
      },
      "text/plain": [
       "  0%|          | 0/1 [00:00<?, ?it/s]"
      ]
     },
     "metadata": {},
     "output_type": "display_data"
    },
    {
     "name": "stderr",
     "output_type": "stream",
     "text": [
      "2023-07-03 16:22:51 INFO     Computing negative similarities...\n"
     ]
    },
    {
     "data": {
      "application/vnd.jupyter.widget-view+json": {
       "model_id": "86a0ba44f8634adb957c159169deef26",
       "version_major": 2,
       "version_minor": 0
      },
      "text/plain": [
       "  0%|          | 0/161 [00:00<?, ?it/s]"
      ]
     },
     "metadata": {},
     "output_type": "display_data"
    },
    {
     "name": "stderr",
     "output_type": "stream",
     "text": [
      "2023-07-03 16:23:01 INFO     Building rank lists...\n",
      "2023-07-03 16:23:21 INFO     Computing average precision...\n",
      "2023-07-03 16:23:21 INFO     Computing null distributions...\n",
      "/Users/akalinin/Projects/copairs/src/copairs/compute_np.py:107: RuntimeWarning: invalid value encountered in divide\n",
      "  ap = (pr_k * rel_k).sum(axis=1) / num_pos\n",
      "/Users/akalinin/Projects/copairs/src/copairs/compute_np.py:107: RuntimeWarning: invalid value encountered in divide\n",
      "  ap = (pr_k * rel_k).sum(axis=1) / num_pos\n",
      "/Users/akalinin/Projects/copairs/src/copairs/compute_np.py:107: RuntimeWarning: invalid value encountered in divide\n",
      "  ap = (pr_k * rel_k).sum(axis=1) / num_pos\n",
      "/Users/akalinin/Projects/copairs/src/copairs/compute_np.py:107: RuntimeWarning: invalid value encountered in divide\n",
      "  ap = (pr_k * rel_k).sum(axis=1) / num_pos\n",
      "2023-07-03 16:23:29 INFO     Computing P-values...\n",
      "2023-07-03 16:23:29 INFO     Creating result DataFrame...\n",
      "2023-07-03 16:23:29 INFO     Finished.\n",
      "/var/folders/41/1jdfcmfs0gx7qwx9d31rtxgr0000gq/T/ipykernel_85051/2184141838.py:15: SettingWithCopyWarning: \n",
      "A value is trying to be set on a copy of a slice from a DataFrame.\n",
      "Try using .loc[row_indexer,col_indexer] = value instead\n",
      "\n",
      "See the caveats in the documentation: https://pandas.pydata.org/pandas-docs/stable/user_guide/indexing.html#returning-a-view-versus-a-copy\n",
      "  metadata.loc[:, \"Metadata_dummy_index\"] = metadata.index\n",
      "2023-07-03 16:23:33 INFO     Indexing metadata...\n",
      "2023-07-03 16:23:33 INFO     Finding positive pairs...\n"
     ]
    },
    {
     "name": "stdout",
     "output_type": "stream",
     "text": [
      "ef524325 id1 match OK\n",
      "Sameby: ['Metadata_Symbol'] Diffby: ['Metadata_Well']\n"
     ]
    },
    {
     "name": "stderr",
     "output_type": "stream",
     "text": [
      "2023-07-03 16:23:33 INFO     dropping dups...\n",
      "2023-07-03 16:23:33 INFO     Finding negative pairs...\n",
      "2023-07-03 16:23:54 INFO     dropping dups...\n",
      "2023-07-03 16:24:42 INFO     Computing positive similarities...\n"
     ]
    },
    {
     "data": {
      "application/vnd.jupyter.widget-view+json": {
       "model_id": "2cf540be401741278f8790a8aa1283e6",
       "version_major": 2,
       "version_minor": 0
      },
      "text/plain": [
       "  0%|          | 0/1 [00:00<?, ?it/s]"
      ]
     },
     "metadata": {},
     "output_type": "display_data"
    },
    {
     "name": "stderr",
     "output_type": "stream",
     "text": [
      "2023-07-03 16:24:43 INFO     Computing negative similarities...\n"
     ]
    },
    {
     "data": {
      "application/vnd.jupyter.widget-view+json": {
       "model_id": "8a130771a51b4ccf8154133654f216cf",
       "version_major": 2,
       "version_minor": 0
      },
      "text/plain": [
       "  0%|          | 0/161 [00:00<?, ?it/s]"
      ]
     },
     "metadata": {},
     "output_type": "display_data"
    },
    {
     "name": "stderr",
     "output_type": "stream",
     "text": [
      "2023-07-03 16:26:16 INFO     Building rank lists...\n",
      "2023-07-03 16:26:37 INFO     Computing average precision...\n",
      "2023-07-03 16:26:37 INFO     Computing null distributions...\n",
      "/Users/akalinin/Projects/copairs/src/copairs/compute_np.py:107: RuntimeWarning: invalid value encountered in divide\n",
      "  ap = (pr_k * rel_k).sum(axis=1) / num_pos\n",
      "/Users/akalinin/Projects/copairs/src/copairs/compute_np.py:107: RuntimeWarning: invalid value encountered in divide\n",
      "  ap = (pr_k * rel_k).sum(axis=1) / num_pos\n",
      "/Users/akalinin/Projects/copairs/src/copairs/compute_np.py:107: RuntimeWarning: invalid value encountered in divide\n",
      "  ap = (pr_k * rel_k).sum(axis=1) / num_pos\n",
      "/Users/akalinin/Projects/copairs/src/copairs/compute_np.py:107: RuntimeWarning: invalid value encountered in divide\n",
      "  ap = (pr_k * rel_k).sum(axis=1) / num_pos\n",
      "2023-07-03 16:26:45 INFO     Computing P-values...\n",
      "2023-07-03 16:26:45 INFO     Creating result DataFrame...\n",
      "2023-07-03 16:26:45 INFO     Finished.\n",
      "/var/folders/41/1jdfcmfs0gx7qwx9d31rtxgr0000gq/T/ipykernel_85051/2184141838.py:15: SettingWithCopyWarning: \n",
      "A value is trying to be set on a copy of a slice from a DataFrame.\n",
      "Try using .loc[row_indexer,col_indexer] = value instead\n",
      "\n",
      "See the caveats in the documentation: https://pandas.pydata.org/pandas-docs/stable/user_guide/indexing.html#returning-a-view-versus-a-copy\n",
      "  metadata.loc[:, \"Metadata_dummy_index\"] = metadata.index\n",
      "2023-07-03 16:26:51 INFO     Indexing metadata...\n",
      "2023-07-03 16:26:51 INFO     Finding positive pairs...\n"
     ]
    },
    {
     "name": "stdout",
     "output_type": "stream",
     "text": [
      "b2e52a3a id1 match OK\n",
      "Sameby: ['Metadata_Symbol'] Diffby: ['Metadata_Well']\n"
     ]
    },
    {
     "name": "stderr",
     "output_type": "stream",
     "text": [
      "2023-07-03 16:26:51 INFO     dropping dups...\n",
      "2023-07-03 16:26:51 INFO     Finding negative pairs...\n",
      "2023-07-03 16:27:12 INFO     dropping dups...\n",
      "2023-07-03 16:27:56 INFO     Computing positive similarities...\n"
     ]
    },
    {
     "data": {
      "application/vnd.jupyter.widget-view+json": {
       "model_id": "813a0cb0d83c4c2780e13935e16b7e06",
       "version_major": 2,
       "version_minor": 0
      },
      "text/plain": [
       "  0%|          | 0/1 [00:00<?, ?it/s]"
      ]
     },
     "metadata": {},
     "output_type": "display_data"
    },
    {
     "name": "stderr",
     "output_type": "stream",
     "text": [
      "2023-07-03 16:27:56 INFO     Computing negative similarities...\n"
     ]
    },
    {
     "data": {
      "application/vnd.jupyter.widget-view+json": {
       "model_id": "64d152fb65434a77aaa489bcb80fc7de",
       "version_major": 2,
       "version_minor": 0
      },
      "text/plain": [
       "  0%|          | 0/161 [00:00<?, ?it/s]"
      ]
     },
     "metadata": {},
     "output_type": "display_data"
    },
    {
     "name": "stderr",
     "output_type": "stream",
     "text": [
      "2023-07-03 16:28:50 INFO     Building rank lists...\n",
      "2023-07-03 16:29:11 INFO     Computing average precision...\n",
      "2023-07-03 16:29:11 INFO     Computing null distributions...\n",
      "/Users/akalinin/Projects/copairs/src/copairs/compute_np.py:107: RuntimeWarning: invalid value encountered in divide\n",
      "  ap = (pr_k * rel_k).sum(axis=1) / num_pos\n",
      "/Users/akalinin/Projects/copairs/src/copairs/compute_np.py:107: RuntimeWarning: invalid value encountered in divide\n",
      "  ap = (pr_k * rel_k).sum(axis=1) / num_pos\n",
      "/Users/akalinin/Projects/copairs/src/copairs/compute_np.py:107: RuntimeWarning: invalid value encountered in divide\n",
      "  ap = (pr_k * rel_k).sum(axis=1) / num_pos\n",
      "/Users/akalinin/Projects/copairs/src/copairs/compute_np.py:107: RuntimeWarning: invalid value encountered in divide\n",
      "  ap = (pr_k * rel_k).sum(axis=1) / num_pos\n",
      "2023-07-03 16:29:21 INFO     Computing P-values...\n",
      "2023-07-03 16:29:21 INFO     Creating result DataFrame...\n",
      "2023-07-03 16:29:21 INFO     Finished.\n",
      "/var/folders/41/1jdfcmfs0gx7qwx9d31rtxgr0000gq/T/ipykernel_85051/2184141838.py:15: SettingWithCopyWarning: \n",
      "A value is trying to be set on a copy of a slice from a DataFrame.\n",
      "Try using .loc[row_indexer,col_indexer] = value instead\n",
      "\n",
      "See the caveats in the documentation: https://pandas.pydata.org/pandas-docs/stable/user_guide/indexing.html#returning-a-view-versus-a-copy\n",
      "  metadata.loc[:, \"Metadata_dummy_index\"] = metadata.index\n",
      "2023-07-03 16:29:26 INFO     Indexing metadata...\n",
      "2023-07-03 16:29:26 INFO     Finding positive pairs...\n"
     ]
    },
    {
     "name": "stdout",
     "output_type": "stream",
     "text": [
      "82ad004e id1 mismatch\n",
      "Sameby: ['Metadata_Well'] Diffby: ['Metadata_JCP2022']\n"
     ]
    },
    {
     "name": "stderr",
     "output_type": "stream",
     "text": [
      "2023-07-03 16:29:28 INFO     dropping dups...\n",
      "2023-07-03 16:29:29 INFO     Finding negative pairs...\n",
      "2023-07-03 16:29:49 INFO     dropping dups...\n",
      "2023-07-03 16:30:30 INFO     Computing positive similarities...\n"
     ]
    },
    {
     "data": {
      "application/vnd.jupyter.widget-view+json": {
       "model_id": "e9e6e3e360994054bae238ed3819ddfe",
       "version_major": 2,
       "version_minor": 0
      },
      "text/plain": [
       "  0%|          | 0/5 [00:00<?, ?it/s]"
      ]
     },
     "metadata": {},
     "output_type": "display_data"
    },
    {
     "name": "stderr",
     "output_type": "stream",
     "text": [
      "2023-07-03 16:30:32 INFO     Computing negative similarities...\n"
     ]
    },
    {
     "data": {
      "application/vnd.jupyter.widget-view+json": {
       "model_id": "f15e3980a5db436494df56279841d059",
       "version_major": 2,
       "version_minor": 0
      },
      "text/plain": [
       "  0%|          | 0/161 [00:00<?, ?it/s]"
      ]
     },
     "metadata": {},
     "output_type": "display_data"
    },
    {
     "name": "stderr",
     "output_type": "stream",
     "text": [
      "2023-07-03 16:32:21 INFO     Building rank lists...\n",
      "2023-07-03 16:32:43 INFO     Computing average precision...\n",
      "2023-07-03 16:32:43 INFO     Computing null distributions...\n",
      "/Users/akalinin/Projects/copairs/src/copairs/compute_np.py:107: RuntimeWarning: invalid value encountered in divide\n",
      "  ap = (pr_k * rel_k).sum(axis=1) / num_pos\n",
      "/Users/akalinin/Projects/copairs/src/copairs/compute_np.py:107: RuntimeWarning: invalid value encountered in divide\n",
      "  ap = (pr_k * rel_k).sum(axis=1) / num_pos\n",
      "/Users/akalinin/Projects/copairs/src/copairs/compute_np.py:107: RuntimeWarning: invalid value encountered in divide\n",
      "  ap = (pr_k * rel_k).sum(axis=1) / num_pos\n",
      "/Users/akalinin/Projects/copairs/src/copairs/compute_np.py:107: RuntimeWarning: invalid value encountered in divide\n",
      "  ap = (pr_k * rel_k).sum(axis=1) / num_pos\n",
      "2023-07-03 16:32:50 INFO     Computing P-values...\n",
      "2023-07-03 16:32:51 INFO     Creating result DataFrame...\n",
      "2023-07-03 16:32:51 INFO     Finished.\n",
      "/var/folders/41/1jdfcmfs0gx7qwx9d31rtxgr0000gq/T/ipykernel_85051/2184141838.py:15: SettingWithCopyWarning: \n",
      "A value is trying to be set on a copy of a slice from a DataFrame.\n",
      "Try using .loc[row_indexer,col_indexer] = value instead\n",
      "\n",
      "See the caveats in the documentation: https://pandas.pydata.org/pandas-docs/stable/user_guide/indexing.html#returning-a-view-versus-a-copy\n",
      "  metadata.loc[:, \"Metadata_dummy_index\"] = metadata.index\n",
      "2023-07-03 16:32:56 INFO     Indexing metadata...\n",
      "2023-07-03 16:32:56 INFO     Finding positive pairs...\n"
     ]
    },
    {
     "name": "stdout",
     "output_type": "stream",
     "text": [
      "df66eaf7 id1 match OK\n",
      "Sameby: ['Metadata_Symbol'] Diffby: ['Metadata_Well']\n"
     ]
    },
    {
     "name": "stderr",
     "output_type": "stream",
     "text": [
      "2023-07-03 16:32:56 INFO     dropping dups...\n",
      "2023-07-03 16:32:56 INFO     Finding negative pairs...\n",
      "2023-07-03 16:33:17 INFO     dropping dups...\n",
      "2023-07-03 16:34:02 INFO     Computing positive similarities...\n"
     ]
    },
    {
     "data": {
      "application/vnd.jupyter.widget-view+json": {
       "model_id": "428db135c62f4912bd15158de4535e7c",
       "version_major": 2,
       "version_minor": 0
      },
      "text/plain": [
       "  0%|          | 0/1 [00:00<?, ?it/s]"
      ]
     },
     "metadata": {},
     "output_type": "display_data"
    },
    {
     "name": "stderr",
     "output_type": "stream",
     "text": [
      "2023-07-03 16:34:02 INFO     Computing negative similarities...\n"
     ]
    },
    {
     "data": {
      "application/vnd.jupyter.widget-view+json": {
       "model_id": "1a5ff01816fb46e5acfd8d8b1c5d6c86",
       "version_major": 2,
       "version_minor": 0
      },
      "text/plain": [
       "  0%|          | 0/161 [00:00<?, ?it/s]"
      ]
     },
     "metadata": {},
     "output_type": "display_data"
    },
    {
     "name": "stderr",
     "output_type": "stream",
     "text": [
      "2023-07-03 16:34:12 INFO     Building rank lists...\n",
      "2023-07-03 16:34:33 INFO     Computing average precision...\n",
      "2023-07-03 16:34:33 INFO     Computing null distributions...\n",
      "/Users/akalinin/Projects/copairs/src/copairs/compute_np.py:107: RuntimeWarning: invalid value encountered in divide\n",
      "  ap = (pr_k * rel_k).sum(axis=1) / num_pos\n",
      "/Users/akalinin/Projects/copairs/src/copairs/compute_np.py:107: RuntimeWarning: invalid value encountered in divide\n",
      "  ap = (pr_k * rel_k).sum(axis=1) / num_pos\n",
      "/Users/akalinin/Projects/copairs/src/copairs/compute_np.py:107: RuntimeWarning: invalid value encountered in divide\n",
      "  ap = (pr_k * rel_k).sum(axis=1) / num_pos\n",
      "/Users/akalinin/Projects/copairs/src/copairs/compute_np.py:107: RuntimeWarning: invalid value encountered in divide\n",
      "  ap = (pr_k * rel_k).sum(axis=1) / num_pos\n",
      "2023-07-03 16:34:40 INFO     Computing P-values...\n",
      "2023-07-03 16:34:40 INFO     Creating result DataFrame...\n",
      "2023-07-03 16:34:40 INFO     Finished.\n",
      "/var/folders/41/1jdfcmfs0gx7qwx9d31rtxgr0000gq/T/ipykernel_85051/2184141838.py:15: SettingWithCopyWarning: \n",
      "A value is trying to be set on a copy of a slice from a DataFrame.\n",
      "Try using .loc[row_indexer,col_indexer] = value instead\n",
      "\n",
      "See the caveats in the documentation: https://pandas.pydata.org/pandas-docs/stable/user_guide/indexing.html#returning-a-view-versus-a-copy\n",
      "  metadata.loc[:, \"Metadata_dummy_index\"] = metadata.index\n",
      "2023-07-03 16:34:44 INFO     Indexing metadata...\n",
      "2023-07-03 16:34:44 INFO     Finding positive pairs...\n"
     ]
    },
    {
     "name": "stdout",
     "output_type": "stream",
     "text": [
      "b3ded838 id1 mismatch\n",
      "Sameby: ['Metadata_Well', 'Metadata_Symbol'] Diffby: []\n"
     ]
    },
    {
     "name": "stderr",
     "output_type": "stream",
     "text": [
      "2023-07-03 16:34:44 INFO     dropping dups...\n",
      "2023-07-03 16:34:44 INFO     Finding negative pairs...\n",
      "2023-07-03 16:35:05 INFO     dropping dups...\n",
      "2023-07-03 16:35:46 INFO     Computing positive similarities...\n"
     ]
    },
    {
     "data": {
      "application/vnd.jupyter.widget-view+json": {
       "model_id": "4e94106b16ec4b66934cecfdf327fdd6",
       "version_major": 2,
       "version_minor": 0
      },
      "text/plain": [
       "  0%|          | 0/1 [00:00<?, ?it/s]"
      ]
     },
     "metadata": {},
     "output_type": "display_data"
    },
    {
     "name": "stderr",
     "output_type": "stream",
     "text": [
      "2023-07-03 16:35:46 INFO     Computing negative similarities...\n"
     ]
    },
    {
     "data": {
      "application/vnd.jupyter.widget-view+json": {
       "model_id": "8998a16875644d0eaf19dcc1819023fe",
       "version_major": 2,
       "version_minor": 0
      },
      "text/plain": [
       "  0%|          | 0/161 [00:00<?, ?it/s]"
      ]
     },
     "metadata": {},
     "output_type": "display_data"
    },
    {
     "name": "stderr",
     "output_type": "stream",
     "text": [
      "2023-07-03 16:37:06 INFO     Building rank lists...\n",
      "2023-07-03 16:37:27 INFO     Computing average precision...\n",
      "2023-07-03 16:37:27 INFO     Computing null distributions...\n",
      "/Users/akalinin/Projects/copairs/src/copairs/compute_np.py:107: RuntimeWarning: invalid value encountered in divide\n",
      "  ap = (pr_k * rel_k).sum(axis=1) / num_pos\n",
      "/Users/akalinin/Projects/copairs/src/copairs/compute_np.py:107: RuntimeWarning: invalid value encountered in divide\n",
      "  ap = (pr_k * rel_k).sum(axis=1) / num_pos\n",
      "/Users/akalinin/Projects/copairs/src/copairs/compute_np.py:107: RuntimeWarning: invalid value encountered in divide\n",
      "  ap = (pr_k * rel_k).sum(axis=1) / num_pos\n",
      "/Users/akalinin/Projects/copairs/src/copairs/compute_np.py:107: RuntimeWarning: invalid value encountered in divide\n",
      "  ap = (pr_k * rel_k).sum(axis=1) / num_pos\n",
      "2023-07-03 16:37:33 INFO     Computing P-values...\n",
      "2023-07-03 16:37:33 INFO     Creating result DataFrame...\n",
      "2023-07-03 16:37:33 INFO     Finished.\n",
      "/var/folders/41/1jdfcmfs0gx7qwx9d31rtxgr0000gq/T/ipykernel_85051/2184141838.py:15: SettingWithCopyWarning: \n",
      "A value is trying to be set on a copy of a slice from a DataFrame.\n",
      "Try using .loc[row_indexer,col_indexer] = value instead\n",
      "\n",
      "See the caveats in the documentation: https://pandas.pydata.org/pandas-docs/stable/user_guide/indexing.html#returning-a-view-versus-a-copy\n",
      "  metadata.loc[:, \"Metadata_dummy_index\"] = metadata.index\n",
      "2023-07-03 16:37:38 INFO     Indexing metadata...\n",
      "2023-07-03 16:37:38 INFO     Finding positive pairs...\n"
     ]
    },
    {
     "name": "stdout",
     "output_type": "stream",
     "text": [
      "703b13da id1 match OK\n",
      "Sameby: ['Metadata_Symbol'] Diffby: ['Metadata_Well']\n"
     ]
    },
    {
     "name": "stderr",
     "output_type": "stream",
     "text": [
      "2023-07-03 16:37:38 INFO     dropping dups...\n",
      "2023-07-03 16:37:38 INFO     Finding negative pairs...\n",
      "2023-07-03 16:37:59 INFO     dropping dups...\n",
      "2023-07-03 16:38:43 INFO     Computing positive similarities...\n"
     ]
    },
    {
     "data": {
      "application/vnd.jupyter.widget-view+json": {
       "model_id": "25be932ef91641dd899b3e9623dcaafc",
       "version_major": 2,
       "version_minor": 0
      },
      "text/plain": [
       "  0%|          | 0/1 [00:00<?, ?it/s]"
      ]
     },
     "metadata": {},
     "output_type": "display_data"
    },
    {
     "name": "stderr",
     "output_type": "stream",
     "text": [
      "2023-07-03 16:38:43 INFO     Computing negative similarities...\n"
     ]
    },
    {
     "data": {
      "application/vnd.jupyter.widget-view+json": {
       "model_id": "fc70d0a0e0fd48c2abb8c417de2e8eec",
       "version_major": 2,
       "version_minor": 0
      },
      "text/plain": [
       "  0%|          | 0/161 [00:00<?, ?it/s]"
      ]
     },
     "metadata": {},
     "output_type": "display_data"
    },
    {
     "name": "stderr",
     "output_type": "stream",
     "text": [
      "2023-07-03 16:38:53 INFO     Building rank lists...\n",
      "2023-07-03 16:39:15 INFO     Computing average precision...\n",
      "2023-07-03 16:39:15 INFO     Computing null distributions...\n",
      "/Users/akalinin/Projects/copairs/src/copairs/compute_np.py:107: RuntimeWarning: invalid value encountered in divide\n",
      "  ap = (pr_k * rel_k).sum(axis=1) / num_pos\n",
      "/Users/akalinin/Projects/copairs/src/copairs/compute_np.py:107: RuntimeWarning: invalid value encountered in divide\n",
      "  ap = (pr_k * rel_k).sum(axis=1) / num_pos\n",
      "/Users/akalinin/Projects/copairs/src/copairs/compute_np.py:107: RuntimeWarning: invalid value encountered in divide\n",
      "  ap = (pr_k * rel_k).sum(axis=1) / num_pos\n",
      "/Users/akalinin/Projects/copairs/src/copairs/compute_np.py:107: RuntimeWarning: invalid value encountered in divide\n",
      "  ap = (pr_k * rel_k).sum(axis=1) / num_pos\n",
      "2023-07-03 16:39:22 INFO     Computing P-values...\n",
      "2023-07-03 16:39:22 INFO     Creating result DataFrame...\n",
      "2023-07-03 16:39:22 INFO     Finished.\n",
      "/var/folders/41/1jdfcmfs0gx7qwx9d31rtxgr0000gq/T/ipykernel_85051/2184141838.py:15: SettingWithCopyWarning: \n",
      "A value is trying to be set on a copy of a slice from a DataFrame.\n",
      "Try using .loc[row_indexer,col_indexer] = value instead\n",
      "\n",
      "See the caveats in the documentation: https://pandas.pydata.org/pandas-docs/stable/user_guide/indexing.html#returning-a-view-versus-a-copy\n",
      "  metadata.loc[:, \"Metadata_dummy_index\"] = metadata.index\n",
      "2023-07-03 16:39:26 INFO     Indexing metadata...\n",
      "2023-07-03 16:39:26 INFO     Finding positive pairs...\n"
     ]
    },
    {
     "name": "stdout",
     "output_type": "stream",
     "text": [
      "5a048fe4 id1 mismatch\n",
      "Sameby: ['Metadata_Well', 'Metadata_Symbol'] Diffby: []\n"
     ]
    },
    {
     "name": "stderr",
     "output_type": "stream",
     "text": [
      "2023-07-03 16:39:27 INFO     dropping dups...\n",
      "2023-07-03 16:39:27 INFO     Finding negative pairs...\n",
      "2023-07-03 16:39:47 INFO     dropping dups...\n",
      "2023-07-03 16:40:32 INFO     Computing positive similarities...\n"
     ]
    },
    {
     "data": {
      "application/vnd.jupyter.widget-view+json": {
       "model_id": "935791855a9d4586bfe51b5d6df020d0",
       "version_major": 2,
       "version_minor": 0
      },
      "text/plain": [
       "  0%|          | 0/1 [00:00<?, ?it/s]"
      ]
     },
     "metadata": {},
     "output_type": "display_data"
    },
    {
     "name": "stderr",
     "output_type": "stream",
     "text": [
      "2023-07-03 16:40:33 INFO     Computing negative similarities...\n"
     ]
    },
    {
     "data": {
      "application/vnd.jupyter.widget-view+json": {
       "model_id": "07059ceb585747309736701a1d9d32e6",
       "version_major": 2,
       "version_minor": 0
      },
      "text/plain": [
       "  0%|          | 0/161 [00:00<?, ?it/s]"
      ]
     },
     "metadata": {},
     "output_type": "display_data"
    },
    {
     "name": "stderr",
     "output_type": "stream",
     "text": [
      "2023-07-03 16:41:32 INFO     Building rank lists...\n",
      "2023-07-03 16:41:53 INFO     Computing average precision...\n",
      "2023-07-03 16:41:54 INFO     Computing null distributions...\n",
      "/Users/akalinin/Projects/copairs/src/copairs/compute_np.py:107: RuntimeWarning: invalid value encountered in divide\n",
      "  ap = (pr_k * rel_k).sum(axis=1) / num_pos\n",
      "/Users/akalinin/Projects/copairs/src/copairs/compute_np.py:107: RuntimeWarning: invalid value encountered in divide\n",
      "  ap = (pr_k * rel_k).sum(axis=1) / num_pos\n",
      "/Users/akalinin/Projects/copairs/src/copairs/compute_np.py:107: RuntimeWarning: invalid value encountered in divide\n",
      "  ap = (pr_k * rel_k).sum(axis=1) / num_pos\n",
      "/Users/akalinin/Projects/copairs/src/copairs/compute_np.py:107: RuntimeWarning: invalid value encountered in divide\n",
      "  ap = (pr_k * rel_k).sum(axis=1) / num_pos\n",
      "2023-07-03 16:42:01 INFO     Computing P-values...\n",
      "2023-07-03 16:42:01 INFO     Creating result DataFrame...\n",
      "2023-07-03 16:42:01 INFO     Finished.\n",
      "/var/folders/41/1jdfcmfs0gx7qwx9d31rtxgr0000gq/T/ipykernel_85051/2184141838.py:15: SettingWithCopyWarning: \n",
      "A value is trying to be set on a copy of a slice from a DataFrame.\n",
      "Try using .loc[row_indexer,col_indexer] = value instead\n",
      "\n",
      "See the caveats in the documentation: https://pandas.pydata.org/pandas-docs/stable/user_guide/indexing.html#returning-a-view-versus-a-copy\n",
      "  metadata.loc[:, \"Metadata_dummy_index\"] = metadata.index\n",
      "2023-07-03 16:42:05 INFO     Indexing metadata...\n",
      "2023-07-03 16:42:05 INFO     Finding positive pairs...\n"
     ]
    },
    {
     "name": "stdout",
     "output_type": "stream",
     "text": [
      "0e4cd68f id1 mismatch\n",
      "Sameby: ['Metadata_Well'] Diffby: ['Metadata_JCP2022']\n"
     ]
    },
    {
     "name": "stderr",
     "output_type": "stream",
     "text": [
      "2023-07-03 16:42:07 INFO     dropping dups...\n",
      "2023-07-03 16:42:08 INFO     Finding negative pairs...\n",
      "2023-07-03 16:42:29 INFO     dropping dups...\n",
      "2023-07-03 16:43:13 INFO     Computing positive similarities...\n"
     ]
    },
    {
     "data": {
      "application/vnd.jupyter.widget-view+json": {
       "model_id": "69d75da3d19e4f579bfb3d72df3157d2",
       "version_major": 2,
       "version_minor": 0
      },
      "text/plain": [
       "  0%|          | 0/5 [00:00<?, ?it/s]"
      ]
     },
     "metadata": {},
     "output_type": "display_data"
    },
    {
     "name": "stderr",
     "output_type": "stream",
     "text": [
      "2023-07-03 16:43:14 INFO     Computing negative similarities...\n"
     ]
    },
    {
     "data": {
      "application/vnd.jupyter.widget-view+json": {
       "model_id": "b5fb7cf4043d4fdeb0c7859a01e6ec25",
       "version_major": 2,
       "version_minor": 0
      },
      "text/plain": [
       "  0%|          | 0/161 [00:00<?, ?it/s]"
      ]
     },
     "metadata": {},
     "output_type": "display_data"
    },
    {
     "name": "stderr",
     "output_type": "stream",
     "text": [
      "2023-07-03 16:44:16 INFO     Building rank lists...\n",
      "2023-07-03 16:44:37 INFO     Computing average precision...\n",
      "2023-07-03 16:44:37 INFO     Computing null distributions...\n",
      "/Users/akalinin/Projects/copairs/src/copairs/compute_np.py:107: RuntimeWarning: invalid value encountered in divide\n",
      "  ap = (pr_k * rel_k).sum(axis=1) / num_pos\n",
      "/Users/akalinin/Projects/copairs/src/copairs/compute_np.py:107: RuntimeWarning: invalid value encountered in divide\n",
      "  ap = (pr_k * rel_k).sum(axis=1) / num_pos\n",
      "/Users/akalinin/Projects/copairs/src/copairs/compute_np.py:107: RuntimeWarning: invalid value encountered in divide\n",
      "  ap = (pr_k * rel_k).sum(axis=1) / num_pos\n",
      "/Users/akalinin/Projects/copairs/src/copairs/compute_np.py:107: RuntimeWarning: invalid value encountered in divide\n",
      "  ap = (pr_k * rel_k).sum(axis=1) / num_pos\n",
      "2023-07-03 16:44:47 INFO     Computing P-values...\n",
      "2023-07-03 16:44:47 INFO     Creating result DataFrame...\n",
      "2023-07-03 16:44:47 INFO     Finished.\n",
      "/var/folders/41/1jdfcmfs0gx7qwx9d31rtxgr0000gq/T/ipykernel_85051/2184141838.py:15: SettingWithCopyWarning: \n",
      "A value is trying to be set on a copy of a slice from a DataFrame.\n",
      "Try using .loc[row_indexer,col_indexer] = value instead\n",
      "\n",
      "See the caveats in the documentation: https://pandas.pydata.org/pandas-docs/stable/user_guide/indexing.html#returning-a-view-versus-a-copy\n",
      "  metadata.loc[:, \"Metadata_dummy_index\"] = metadata.index\n",
      "2023-07-03 16:44:50 INFO     Indexing metadata...\n",
      "2023-07-03 16:44:50 INFO     Finding positive pairs...\n"
     ]
    },
    {
     "name": "stdout",
     "output_type": "stream",
     "text": [
      "bcf32878 id1 match OK\n",
      "Sameby: ['Metadata_Symbol'] Diffby: ['Metadata_Well']\n"
     ]
    },
    {
     "name": "stderr",
     "output_type": "stream",
     "text": [
      "2023-07-03 16:44:51 INFO     dropping dups...\n",
      "2023-07-03 16:44:51 INFO     Finding negative pairs...\n",
      "2023-07-03 16:45:12 INFO     dropping dups...\n",
      "2023-07-03 16:45:58 INFO     Computing positive similarities...\n"
     ]
    },
    {
     "data": {
      "application/vnd.jupyter.widget-view+json": {
       "model_id": "a0f6b5d74848418088f40b1a4b015456",
       "version_major": 2,
       "version_minor": 0
      },
      "text/plain": [
       "  0%|          | 0/1 [00:00<?, ?it/s]"
      ]
     },
     "metadata": {},
     "output_type": "display_data"
    },
    {
     "name": "stderr",
     "output_type": "stream",
     "text": [
      "2023-07-03 16:45:58 INFO     Computing negative similarities...\n"
     ]
    },
    {
     "data": {
      "application/vnd.jupyter.widget-view+json": {
       "model_id": "9321dc3c98e242db9d30b219f20c76d1",
       "version_major": 2,
       "version_minor": 0
      },
      "text/plain": [
       "  0%|          | 0/161 [00:00<?, ?it/s]"
      ]
     },
     "metadata": {},
     "output_type": "display_data"
    },
    {
     "name": "stderr",
     "output_type": "stream",
     "text": [
      "2023-07-03 16:46:08 INFO     Building rank lists...\n",
      "2023-07-03 16:46:29 INFO     Computing average precision...\n",
      "2023-07-03 16:46:29 INFO     Computing null distributions...\n",
      "/Users/akalinin/Projects/copairs/src/copairs/compute_np.py:107: RuntimeWarning: invalid value encountered in divide\n",
      "  ap = (pr_k * rel_k).sum(axis=1) / num_pos\n",
      "/Users/akalinin/Projects/copairs/src/copairs/compute_np.py:107: RuntimeWarning: invalid value encountered in divide\n",
      "  ap = (pr_k * rel_k).sum(axis=1) / num_pos\n",
      "/Users/akalinin/Projects/copairs/src/copairs/compute_np.py:107: RuntimeWarning: invalid value encountered in divide\n",
      "  ap = (pr_k * rel_k).sum(axis=1) / num_pos\n",
      "/Users/akalinin/Projects/copairs/src/copairs/compute_np.py:107: RuntimeWarning: invalid value encountered in divide\n",
      "  ap = (pr_k * rel_k).sum(axis=1) / num_pos\n",
      "2023-07-03 16:46:36 INFO     Computing P-values...\n",
      "2023-07-03 16:46:36 INFO     Creating result DataFrame...\n",
      "2023-07-03 16:46:36 INFO     Finished.\n",
      "/var/folders/41/1jdfcmfs0gx7qwx9d31rtxgr0000gq/T/ipykernel_85051/2184141838.py:15: SettingWithCopyWarning: \n",
      "A value is trying to be set on a copy of a slice from a DataFrame.\n",
      "Try using .loc[row_indexer,col_indexer] = value instead\n",
      "\n",
      "See the caveats in the documentation: https://pandas.pydata.org/pandas-docs/stable/user_guide/indexing.html#returning-a-view-versus-a-copy\n",
      "  metadata.loc[:, \"Metadata_dummy_index\"] = metadata.index\n",
      "2023-07-03 16:46:40 INFO     Indexing metadata...\n",
      "2023-07-03 16:46:40 INFO     Finding positive pairs...\n"
     ]
    },
    {
     "name": "stdout",
     "output_type": "stream",
     "text": [
      "61da8ae0 id1 mismatch\n",
      "Sameby: ['Metadata_Well', 'Metadata_Symbol'] Diffby: []\n"
     ]
    },
    {
     "name": "stderr",
     "output_type": "stream",
     "text": [
      "2023-07-03 16:46:40 INFO     dropping dups...\n",
      "2023-07-03 16:46:41 INFO     Finding negative pairs...\n",
      "2023-07-03 16:47:01 INFO     dropping dups...\n",
      "2023-07-03 16:47:44 INFO     Computing positive similarities...\n"
     ]
    },
    {
     "data": {
      "application/vnd.jupyter.widget-view+json": {
       "model_id": "916b028546314abdaa15f6edd103a775",
       "version_major": 2,
       "version_minor": 0
      },
      "text/plain": [
       "  0%|          | 0/1 [00:00<?, ?it/s]"
      ]
     },
     "metadata": {},
     "output_type": "display_data"
    },
    {
     "name": "stderr",
     "output_type": "stream",
     "text": [
      "2023-07-03 16:47:44 INFO     Computing negative similarities...\n"
     ]
    },
    {
     "data": {
      "application/vnd.jupyter.widget-view+json": {
       "model_id": "a375c32b93564e69829ce8a0eee74f63",
       "version_major": 2,
       "version_minor": 0
      },
      "text/plain": [
       "  0%|          | 0/161 [00:00<?, ?it/s]"
      ]
     },
     "metadata": {},
     "output_type": "display_data"
    },
    {
     "name": "stderr",
     "output_type": "stream",
     "text": [
      "2023-07-03 16:49:09 INFO     Building rank lists...\n",
      "2023-07-03 16:49:30 INFO     Computing average precision...\n",
      "2023-07-03 16:49:30 INFO     Computing null distributions...\n",
      "/Users/akalinin/Projects/copairs/src/copairs/compute_np.py:107: RuntimeWarning: invalid value encountered in divide\n",
      "  ap = (pr_k * rel_k).sum(axis=1) / num_pos\n",
      "/Users/akalinin/Projects/copairs/src/copairs/compute_np.py:107: RuntimeWarning: invalid value encountered in divide\n",
      "  ap = (pr_k * rel_k).sum(axis=1) / num_pos\n",
      "/Users/akalinin/Projects/copairs/src/copairs/compute_np.py:107: RuntimeWarning: invalid value encountered in divide\n",
      "  ap = (pr_k * rel_k).sum(axis=1) / num_pos\n",
      "/Users/akalinin/Projects/copairs/src/copairs/compute_np.py:107: RuntimeWarning: invalid value encountered in divide\n",
      "  ap = (pr_k * rel_k).sum(axis=1) / num_pos\n",
      "2023-07-03 16:49:37 INFO     Computing P-values...\n",
      "2023-07-03 16:49:37 INFO     Creating result DataFrame...\n",
      "2023-07-03 16:49:37 INFO     Finished.\n",
      "/var/folders/41/1jdfcmfs0gx7qwx9d31rtxgr0000gq/T/ipykernel_85051/2184141838.py:15: SettingWithCopyWarning: \n",
      "A value is trying to be set on a copy of a slice from a DataFrame.\n",
      "Try using .loc[row_indexer,col_indexer] = value instead\n",
      "\n",
      "See the caveats in the documentation: https://pandas.pydata.org/pandas-docs/stable/user_guide/indexing.html#returning-a-view-versus-a-copy\n",
      "  metadata.loc[:, \"Metadata_dummy_index\"] = metadata.index\n",
      "2023-07-03 16:49:43 INFO     Indexing metadata...\n",
      "2023-07-03 16:49:43 INFO     Finding positive pairs...\n"
     ]
    },
    {
     "name": "stdout",
     "output_type": "stream",
     "text": [
      "b8ad0e58 id1 mismatch\n",
      "Sameby: ['Metadata_Well'] Diffby: ['Metadata_Symbol']\n"
     ]
    },
    {
     "name": "stderr",
     "output_type": "stream",
     "text": [
      "2023-07-03 16:49:45 INFO     dropping dups...\n",
      "2023-07-03 16:49:46 INFO     Finding negative pairs...\n",
      "2023-07-03 17:03:23 INFO     dropping dups...\n",
      "2023-07-03 17:11:42 INFO     Computing positive similarities...\n"
     ]
    },
    {
     "data": {
      "application/vnd.jupyter.widget-view+json": {
       "model_id": "5e06afcc21bc4692bf9e740de71bae03",
       "version_major": 2,
       "version_minor": 0
      },
      "text/plain": [
       "  0%|          | 0/5 [00:00<?, ?it/s]"
      ]
     },
     "metadata": {},
     "output_type": "display_data"
    },
    {
     "name": "stderr",
     "output_type": "stream",
     "text": [
      "2023-07-03 17:11:44 INFO     Computing negative similarities...\n"
     ]
    },
    {
     "data": {
      "application/vnd.jupyter.widget-view+json": {
       "model_id": "13f41a3229de4d9e946e8eb695c2ef69",
       "version_major": 2,
       "version_minor": 0
      },
      "text/plain": [
       "  0%|          | 0/161 [00:00<?, ?it/s]"
      ]
     },
     "metadata": {},
     "output_type": "display_data"
    },
    {
     "name": "stderr",
     "output_type": "stream",
     "text": [
      "2023-07-03 17:13:23 INFO     Building rank lists...\n",
      "2023-07-03 17:13:44 INFO     Computing average precision...\n",
      "2023-07-03 17:13:44 INFO     Computing null distributions...\n",
      "/Users/akalinin/Projects/copairs/src/copairs/compute_np.py:107: RuntimeWarning: invalid value encountered in divide\n",
      "  ap = (pr_k * rel_k).sum(axis=1) / num_pos\n",
      "/Users/akalinin/Projects/copairs/src/copairs/compute_np.py:107: RuntimeWarning: invalid value encountered in divide\n",
      "  ap = (pr_k * rel_k).sum(axis=1) / num_pos\n",
      "/Users/akalinin/Projects/copairs/src/copairs/compute_np.py:107: RuntimeWarning: invalid value encountered in divide\n",
      "  ap = (pr_k * rel_k).sum(axis=1) / num_pos\n",
      "/Users/akalinin/Projects/copairs/src/copairs/compute_np.py:107: RuntimeWarning: invalid value encountered in divide\n",
      "  ap = (pr_k * rel_k).sum(axis=1) / num_pos\n",
      "2023-07-03 17:13:51 INFO     Computing P-values...\n",
      "2023-07-03 17:13:51 INFO     Creating result DataFrame...\n",
      "2023-07-03 17:13:51 INFO     Finished.\n",
      "/var/folders/41/1jdfcmfs0gx7qwx9d31rtxgr0000gq/T/ipykernel_85051/2184141838.py:15: SettingWithCopyWarning: \n",
      "A value is trying to be set on a copy of a slice from a DataFrame.\n",
      "Try using .loc[row_indexer,col_indexer] = value instead\n",
      "\n",
      "See the caveats in the documentation: https://pandas.pydata.org/pandas-docs/stable/user_guide/indexing.html#returning-a-view-versus-a-copy\n",
      "  metadata.loc[:, \"Metadata_dummy_index\"] = metadata.index\n",
      "2023-07-03 17:13:57 INFO     Indexing metadata...\n",
      "2023-07-03 17:13:57 INFO     Finding positive pairs...\n"
     ]
    },
    {
     "name": "stdout",
     "output_type": "stream",
     "text": [
      "21b92180 id1 match OK\n",
      "Sameby: ['Metadata_Symbol'] Diffby: ['Metadata_Well']\n"
     ]
    },
    {
     "name": "stderr",
     "output_type": "stream",
     "text": [
      "2023-07-03 17:13:58 INFO     dropping dups...\n",
      "2023-07-03 17:13:58 INFO     Finding negative pairs...\n",
      "2023-07-03 17:14:19 INFO     dropping dups...\n",
      "2023-07-03 17:15:03 INFO     Computing positive similarities...\n"
     ]
    },
    {
     "data": {
      "application/vnd.jupyter.widget-view+json": {
       "model_id": "a02b09776acd419fa1c46a9a6bc30a23",
       "version_major": 2,
       "version_minor": 0
      },
      "text/plain": [
       "  0%|          | 0/1 [00:00<?, ?it/s]"
      ]
     },
     "metadata": {},
     "output_type": "display_data"
    },
    {
     "name": "stderr",
     "output_type": "stream",
     "text": [
      "2023-07-03 17:15:03 INFO     Computing negative similarities...\n"
     ]
    },
    {
     "data": {
      "application/vnd.jupyter.widget-view+json": {
       "model_id": "3a9bdfea23f14aa29e0b2050daa0b069",
       "version_major": 2,
       "version_minor": 0
      },
      "text/plain": [
       "  0%|          | 0/161 [00:00<?, ?it/s]"
      ]
     },
     "metadata": {},
     "output_type": "display_data"
    },
    {
     "name": "stderr",
     "output_type": "stream",
     "text": [
      "2023-07-03 17:15:13 INFO     Building rank lists...\n",
      "2023-07-03 17:15:33 INFO     Computing average precision...\n",
      "2023-07-03 17:15:33 INFO     Computing null distributions...\n",
      "/Users/akalinin/Projects/copairs/src/copairs/compute_np.py:107: RuntimeWarning: invalid value encountered in divide\n",
      "  ap = (pr_k * rel_k).sum(axis=1) / num_pos\n",
      "/Users/akalinin/Projects/copairs/src/copairs/compute_np.py:107: RuntimeWarning: invalid value encountered in divide\n",
      "  ap = (pr_k * rel_k).sum(axis=1) / num_pos\n",
      "/Users/akalinin/Projects/copairs/src/copairs/compute_np.py:107: RuntimeWarning: invalid value encountered in divide\n",
      "  ap = (pr_k * rel_k).sum(axis=1) / num_pos\n",
      "/Users/akalinin/Projects/copairs/src/copairs/compute_np.py:107: RuntimeWarning: invalid value encountered in divide\n",
      "  ap = (pr_k * rel_k).sum(axis=1) / num_pos\n",
      "2023-07-03 17:15:41 INFO     Computing P-values...\n",
      "2023-07-03 17:15:41 INFO     Creating result DataFrame...\n",
      "2023-07-03 17:15:41 INFO     Finished.\n",
      "/var/folders/41/1jdfcmfs0gx7qwx9d31rtxgr0000gq/T/ipykernel_85051/2184141838.py:15: SettingWithCopyWarning: \n",
      "A value is trying to be set on a copy of a slice from a DataFrame.\n",
      "Try using .loc[row_indexer,col_indexer] = value instead\n",
      "\n",
      "See the caveats in the documentation: https://pandas.pydata.org/pandas-docs/stable/user_guide/indexing.html#returning-a-view-versus-a-copy\n",
      "  metadata.loc[:, \"Metadata_dummy_index\"] = metadata.index\n",
      "2023-07-03 17:15:44 INFO     Indexing metadata...\n",
      "2023-07-03 17:15:44 INFO     Finding positive pairs...\n"
     ]
    },
    {
     "name": "stdout",
     "output_type": "stream",
     "text": [
      "d66f1bce id1 mismatch\n",
      "Sameby: ['Metadata_Well', 'Metadata_JCP2022'] Diffby: []\n"
     ]
    },
    {
     "name": "stderr",
     "output_type": "stream",
     "text": [
      "2023-07-03 17:15:45 INFO     dropping dups...\n",
      "2023-07-03 17:15:45 INFO     Finding negative pairs...\n",
      "2023-07-03 17:16:05 INFO     dropping dups...\n",
      "2023-07-03 17:16:51 INFO     Computing positive similarities...\n"
     ]
    },
    {
     "data": {
      "application/vnd.jupyter.widget-view+json": {
       "model_id": "4c61deb1ca1a46d6bd338d2f4b63da7c",
       "version_major": 2,
       "version_minor": 0
      },
      "text/plain": [
       "  0%|          | 0/1 [00:00<?, ?it/s]"
      ]
     },
     "metadata": {},
     "output_type": "display_data"
    },
    {
     "name": "stderr",
     "output_type": "stream",
     "text": [
      "2023-07-03 17:16:51 INFO     Computing negative similarities...\n"
     ]
    },
    {
     "data": {
      "application/vnd.jupyter.widget-view+json": {
       "model_id": "dbaee23757564b7f84beada6414374d2",
       "version_major": 2,
       "version_minor": 0
      },
      "text/plain": [
       "  0%|          | 0/161 [00:00<?, ?it/s]"
      ]
     },
     "metadata": {},
     "output_type": "display_data"
    },
    {
     "name": "stderr",
     "output_type": "stream",
     "text": [
      "2023-07-03 17:18:23 INFO     Building rank lists...\n",
      "2023-07-03 17:18:43 INFO     Computing average precision...\n",
      "2023-07-03 17:18:44 INFO     Computing null distributions...\n",
      "/Users/akalinin/Projects/copairs/src/copairs/compute_np.py:107: RuntimeWarning: invalid value encountered in divide\n",
      "  ap = (pr_k * rel_k).sum(axis=1) / num_pos\n",
      "/Users/akalinin/Projects/copairs/src/copairs/compute_np.py:107: RuntimeWarning: invalid value encountered in divide\n",
      "  ap = (pr_k * rel_k).sum(axis=1) / num_pos\n",
      "/Users/akalinin/Projects/copairs/src/copairs/compute_np.py:107: RuntimeWarning: invalid value encountered in divide\n",
      "  ap = (pr_k * rel_k).sum(axis=1) / num_pos\n",
      "/Users/akalinin/Projects/copairs/src/copairs/compute_np.py:107: RuntimeWarning: invalid value encountered in divide\n",
      "  ap = (pr_k * rel_k).sum(axis=1) / num_pos\n",
      "2023-07-03 17:18:50 INFO     Computing P-values...\n",
      "2023-07-03 17:18:50 INFO     Creating result DataFrame...\n",
      "2023-07-03 17:18:50 INFO     Finished.\n",
      "/var/folders/41/1jdfcmfs0gx7qwx9d31rtxgr0000gq/T/ipykernel_85051/2184141838.py:15: SettingWithCopyWarning: \n",
      "A value is trying to be set on a copy of a slice from a DataFrame.\n",
      "Try using .loc[row_indexer,col_indexer] = value instead\n",
      "\n",
      "See the caveats in the documentation: https://pandas.pydata.org/pandas-docs/stable/user_guide/indexing.html#returning-a-view-versus-a-copy\n",
      "  metadata.loc[:, \"Metadata_dummy_index\"] = metadata.index\n",
      "2023-07-03 17:18:55 INFO     Indexing metadata...\n",
      "2023-07-03 17:18:55 INFO     Finding positive pairs...\n"
     ]
    },
    {
     "name": "stdout",
     "output_type": "stream",
     "text": [
      "0485b96b id1 mismatch\n",
      "Sameby: ['Metadata_Well', 'Metadata_Symbol'] Diffby: []\n"
     ]
    },
    {
     "name": "stderr",
     "output_type": "stream",
     "text": [
      "2023-07-03 17:18:56 INFO     dropping dups...\n",
      "2023-07-03 17:18:56 INFO     Finding negative pairs...\n",
      "2023-07-03 17:19:16 INFO     dropping dups...\n",
      "2023-07-03 17:20:02 INFO     Computing positive similarities...\n"
     ]
    },
    {
     "data": {
      "application/vnd.jupyter.widget-view+json": {
       "model_id": "90fcccbccb9c47a2a2feeebd4907ef96",
       "version_major": 2,
       "version_minor": 0
      },
      "text/plain": [
       "  0%|          | 0/1 [00:00<?, ?it/s]"
      ]
     },
     "metadata": {},
     "output_type": "display_data"
    },
    {
     "name": "stderr",
     "output_type": "stream",
     "text": [
      "2023-07-03 17:20:02 INFO     Computing negative similarities...\n"
     ]
    },
    {
     "data": {
      "application/vnd.jupyter.widget-view+json": {
       "model_id": "cc5a0bd53f3541798768aab5021888f4",
       "version_major": 2,
       "version_minor": 0
      },
      "text/plain": [
       "  0%|          | 0/161 [00:00<?, ?it/s]"
      ]
     },
     "metadata": {},
     "output_type": "display_data"
    },
    {
     "name": "stderr",
     "output_type": "stream",
     "text": [
      "2023-07-03 17:20:50 INFO     Building rank lists...\n",
      "2023-07-03 17:21:11 INFO     Computing average precision...\n",
      "2023-07-03 17:21:11 INFO     Computing null distributions...\n",
      "/Users/akalinin/Projects/copairs/src/copairs/compute_np.py:107: RuntimeWarning: invalid value encountered in divide\n",
      "  ap = (pr_k * rel_k).sum(axis=1) / num_pos\n",
      "/Users/akalinin/Projects/copairs/src/copairs/compute_np.py:107: RuntimeWarning: invalid value encountered in divide\n",
      "  ap = (pr_k * rel_k).sum(axis=1) / num_pos\n",
      "/Users/akalinin/Projects/copairs/src/copairs/compute_np.py:107: RuntimeWarning: invalid value encountered in divide\n",
      "  ap = (pr_k * rel_k).sum(axis=1) / num_pos\n",
      "/Users/akalinin/Projects/copairs/src/copairs/compute_np.py:107: RuntimeWarning: invalid value encountered in divide\n",
      "  ap = (pr_k * rel_k).sum(axis=1) / num_pos\n",
      "2023-07-03 17:21:18 INFO     Computing P-values...\n",
      "2023-07-03 17:21:18 INFO     Creating result DataFrame...\n",
      "2023-07-03 17:21:18 INFO     Finished.\n",
      "/var/folders/41/1jdfcmfs0gx7qwx9d31rtxgr0000gq/T/ipykernel_85051/2184141838.py:15: SettingWithCopyWarning: \n",
      "A value is trying to be set on a copy of a slice from a DataFrame.\n",
      "Try using .loc[row_indexer,col_indexer] = value instead\n",
      "\n",
      "See the caveats in the documentation: https://pandas.pydata.org/pandas-docs/stable/user_guide/indexing.html#returning-a-view-versus-a-copy\n",
      "  metadata.loc[:, \"Metadata_dummy_index\"] = metadata.index\n",
      "2023-07-03 17:21:22 INFO     Indexing metadata...\n",
      "2023-07-03 17:21:22 INFO     Finding positive pairs...\n"
     ]
    },
    {
     "name": "stdout",
     "output_type": "stream",
     "text": [
      "ceb5f02a id1 match OK\n",
      "Sameby: ['Metadata_JCP2022'] Diffby: ['Metadata_Well']\n"
     ]
    },
    {
     "name": "stderr",
     "output_type": "stream",
     "text": [
      "2023-07-03 17:21:22 INFO     dropping dups...\n",
      "2023-07-03 17:21:22 INFO     Finding negative pairs...\n",
      "2023-07-03 17:21:43 INFO     dropping dups...\n",
      "2023-07-03 17:22:28 INFO     Computing positive similarities...\n"
     ]
    },
    {
     "data": {
      "application/vnd.jupyter.widget-view+json": {
       "model_id": "33925645a2da4850bc999620ef5af2ba",
       "version_major": 2,
       "version_minor": 0
      },
      "text/plain": [
       "  0%|          | 0/1 [00:00<?, ?it/s]"
      ]
     },
     "metadata": {},
     "output_type": "display_data"
    },
    {
     "name": "stderr",
     "output_type": "stream",
     "text": [
      "2023-07-03 17:22:28 INFO     Computing negative similarities...\n"
     ]
    },
    {
     "data": {
      "application/vnd.jupyter.widget-view+json": {
       "model_id": "7ddf0e0f74964468a36916f42f814fa1",
       "version_major": 2,
       "version_minor": 0
      },
      "text/plain": [
       "  0%|          | 0/161 [00:00<?, ?it/s]"
      ]
     },
     "metadata": {},
     "output_type": "display_data"
    },
    {
     "name": "stderr",
     "output_type": "stream",
     "text": [
      "2023-07-03 17:23:19 INFO     Building rank lists...\n",
      "2023-07-03 17:23:38 INFO     Computing average precision...\n",
      "2023-07-03 17:23:39 INFO     Computing null distributions...\n",
      "/Users/akalinin/Projects/copairs/src/copairs/compute_np.py:107: RuntimeWarning: invalid value encountered in divide\n",
      "  ap = (pr_k * rel_k).sum(axis=1) / num_pos\n",
      "/Users/akalinin/Projects/copairs/src/copairs/compute_np.py:107: RuntimeWarning: invalid value encountered in divide\n",
      "  ap = (pr_k * rel_k).sum(axis=1) / num_pos\n",
      "/Users/akalinin/Projects/copairs/src/copairs/compute_np.py:107: RuntimeWarning: invalid value encountered in divide\n",
      "  ap = (pr_k * rel_k).sum(axis=1) / num_pos\n",
      "/Users/akalinin/Projects/copairs/src/copairs/compute_np.py:107: RuntimeWarning: invalid value encountered in divide\n",
      "  ap = (pr_k * rel_k).sum(axis=1) / num_pos\n",
      "2023-07-03 17:23:45 INFO     Computing P-values...\n",
      "2023-07-03 17:23:45 INFO     Creating result DataFrame...\n",
      "2023-07-03 17:23:45 INFO     Finished.\n",
      "/var/folders/41/1jdfcmfs0gx7qwx9d31rtxgr0000gq/T/ipykernel_85051/2184141838.py:15: SettingWithCopyWarning: \n",
      "A value is trying to be set on a copy of a slice from a DataFrame.\n",
      "Try using .loc[row_indexer,col_indexer] = value instead\n",
      "\n",
      "See the caveats in the documentation: https://pandas.pydata.org/pandas-docs/stable/user_guide/indexing.html#returning-a-view-versus-a-copy\n",
      "  metadata.loc[:, \"Metadata_dummy_index\"] = metadata.index\n",
      "2023-07-03 17:23:49 INFO     Indexing metadata...\n",
      "2023-07-03 17:23:49 INFO     Finding positive pairs...\n"
     ]
    },
    {
     "name": "stdout",
     "output_type": "stream",
     "text": [
      "cd1b92de id1 match OK\n",
      "Sameby: ['Metadata_Symbol'] Diffby: ['Metadata_Well']\n"
     ]
    },
    {
     "name": "stderr",
     "output_type": "stream",
     "text": [
      "2023-07-03 17:23:49 INFO     dropping dups...\n",
      "2023-07-03 17:23:49 INFO     Finding negative pairs...\n",
      "2023-07-03 17:24:10 INFO     dropping dups...\n",
      "2023-07-03 17:24:54 INFO     Computing positive similarities...\n"
     ]
    },
    {
     "data": {
      "application/vnd.jupyter.widget-view+json": {
       "model_id": "1878b9b3f25b494da91844b7e019f694",
       "version_major": 2,
       "version_minor": 0
      },
      "text/plain": [
       "  0%|          | 0/1 [00:00<?, ?it/s]"
      ]
     },
     "metadata": {},
     "output_type": "display_data"
    },
    {
     "name": "stderr",
     "output_type": "stream",
     "text": [
      "2023-07-03 17:24:54 INFO     Computing negative similarities...\n"
     ]
    },
    {
     "data": {
      "application/vnd.jupyter.widget-view+json": {
       "model_id": "74e9a91072a0416cb44d2a4573020bee",
       "version_major": 2,
       "version_minor": 0
      },
      "text/plain": [
       "  0%|          | 0/161 [00:00<?, ?it/s]"
      ]
     },
     "metadata": {},
     "output_type": "display_data"
    },
    {
     "name": "stderr",
     "output_type": "stream",
     "text": [
      "2023-07-03 17:25:03 INFO     Building rank lists...\n",
      "2023-07-03 17:25:24 INFO     Computing average precision...\n",
      "2023-07-03 17:25:24 INFO     Computing null distributions...\n",
      "/Users/akalinin/Projects/copairs/src/copairs/compute_np.py:107: RuntimeWarning: invalid value encountered in divide\n",
      "  ap = (pr_k * rel_k).sum(axis=1) / num_pos\n",
      "/Users/akalinin/Projects/copairs/src/copairs/compute_np.py:107: RuntimeWarning: invalid value encountered in divide\n",
      "  ap = (pr_k * rel_k).sum(axis=1) / num_pos\n",
      "/Users/akalinin/Projects/copairs/src/copairs/compute_np.py:107: RuntimeWarning: invalid value encountered in divide\n",
      "  ap = (pr_k * rel_k).sum(axis=1) / num_pos\n",
      "/Users/akalinin/Projects/copairs/src/copairs/compute_np.py:107: RuntimeWarning: invalid value encountered in divide\n",
      "  ap = (pr_k * rel_k).sum(axis=1) / num_pos\n",
      "2023-07-03 17:25:35 INFO     Computing P-values...\n",
      "2023-07-03 17:25:35 INFO     Creating result DataFrame...\n",
      "2023-07-03 17:25:35 INFO     Finished.\n",
      "/var/folders/41/1jdfcmfs0gx7qwx9d31rtxgr0000gq/T/ipykernel_85051/2184141838.py:15: SettingWithCopyWarning: \n",
      "A value is trying to be set on a copy of a slice from a DataFrame.\n",
      "Try using .loc[row_indexer,col_indexer] = value instead\n",
      "\n",
      "See the caveats in the documentation: https://pandas.pydata.org/pandas-docs/stable/user_guide/indexing.html#returning-a-view-versus-a-copy\n",
      "  metadata.loc[:, \"Metadata_dummy_index\"] = metadata.index\n",
      "2023-07-03 17:25:39 INFO     Indexing metadata...\n",
      "2023-07-03 17:25:39 INFO     Finding positive pairs...\n"
     ]
    },
    {
     "name": "stdout",
     "output_type": "stream",
     "text": [
      "fd50b01b id1 match OK\n",
      "Sameby: ['Metadata_Symbol'] Diffby: ['Metadata_Well']\n"
     ]
    },
    {
     "name": "stderr",
     "output_type": "stream",
     "text": [
      "2023-07-03 17:25:39 INFO     dropping dups...\n",
      "2023-07-03 17:25:39 INFO     Finding negative pairs...\n",
      "2023-07-03 17:25:59 INFO     dropping dups...\n",
      "2023-07-03 17:26:45 INFO     Computing positive similarities...\n"
     ]
    },
    {
     "data": {
      "application/vnd.jupyter.widget-view+json": {
       "model_id": "e18ee47a796b4c2c90ad94671178219c",
       "version_major": 2,
       "version_minor": 0
      },
      "text/plain": [
       "  0%|          | 0/1 [00:00<?, ?it/s]"
      ]
     },
     "metadata": {},
     "output_type": "display_data"
    },
    {
     "name": "stderr",
     "output_type": "stream",
     "text": [
      "2023-07-03 17:26:45 INFO     Computing negative similarities...\n"
     ]
    },
    {
     "data": {
      "application/vnd.jupyter.widget-view+json": {
       "model_id": "618160f471714c39bce4bedf3db6943c",
       "version_major": 2,
       "version_minor": 0
      },
      "text/plain": [
       "  0%|          | 0/161 [00:00<?, ?it/s]"
      ]
     },
     "metadata": {},
     "output_type": "display_data"
    },
    {
     "name": "stderr",
     "output_type": "stream",
     "text": [
      "2023-07-03 17:26:54 INFO     Building rank lists...\n",
      "2023-07-03 17:27:15 INFO     Computing average precision...\n",
      "2023-07-03 17:27:15 INFO     Computing null distributions...\n",
      "/Users/akalinin/Projects/copairs/src/copairs/compute_np.py:107: RuntimeWarning: invalid value encountered in divide\n",
      "  ap = (pr_k * rel_k).sum(axis=1) / num_pos\n",
      "/Users/akalinin/Projects/copairs/src/copairs/compute_np.py:107: RuntimeWarning: invalid value encountered in divide\n",
      "  ap = (pr_k * rel_k).sum(axis=1) / num_pos\n",
      "/Users/akalinin/Projects/copairs/src/copairs/compute_np.py:107: RuntimeWarning: invalid value encountered in divide\n",
      "  ap = (pr_k * rel_k).sum(axis=1) / num_pos\n",
      "/Users/akalinin/Projects/copairs/src/copairs/compute_np.py:107: RuntimeWarning: invalid value encountered in divide\n",
      "  ap = (pr_k * rel_k).sum(axis=1) / num_pos\n",
      "2023-07-03 17:27:22 INFO     Computing P-values...\n",
      "2023-07-03 17:27:22 INFO     Creating result DataFrame...\n",
      "2023-07-03 17:27:22 INFO     Finished.\n",
      "/var/folders/41/1jdfcmfs0gx7qwx9d31rtxgr0000gq/T/ipykernel_85051/2184141838.py:15: SettingWithCopyWarning: \n",
      "A value is trying to be set on a copy of a slice from a DataFrame.\n",
      "Try using .loc[row_indexer,col_indexer] = value instead\n",
      "\n",
      "See the caveats in the documentation: https://pandas.pydata.org/pandas-docs/stable/user_guide/indexing.html#returning-a-view-versus-a-copy\n",
      "  metadata.loc[:, \"Metadata_dummy_index\"] = metadata.index\n",
      "2023-07-03 17:27:25 INFO     Indexing metadata...\n",
      "2023-07-03 17:27:25 INFO     Finding positive pairs...\n"
     ]
    },
    {
     "name": "stdout",
     "output_type": "stream",
     "text": [
      "63526422 id1 mismatch\n",
      "Sameby: ['Metadata_Well'] Diffby: ['Metadata_Symbol']\n"
     ]
    },
    {
     "name": "stderr",
     "output_type": "stream",
     "text": [
      "2023-07-03 17:27:27 INFO     dropping dups...\n",
      "2023-07-03 17:27:28 INFO     Finding negative pairs...\n",
      "2023-07-03 17:27:48 INFO     dropping dups...\n",
      "2023-07-03 17:28:33 INFO     Computing positive similarities...\n"
     ]
    },
    {
     "data": {
      "application/vnd.jupyter.widget-view+json": {
       "model_id": "9451ec95cafb49c6b4a179d027856e8a",
       "version_major": 2,
       "version_minor": 0
      },
      "text/plain": [
       "  0%|          | 0/5 [00:00<?, ?it/s]"
      ]
     },
     "metadata": {},
     "output_type": "display_data"
    },
    {
     "name": "stderr",
     "output_type": "stream",
     "text": [
      "2023-07-03 17:28:34 INFO     Computing negative similarities...\n"
     ]
    },
    {
     "data": {
      "application/vnd.jupyter.widget-view+json": {
       "model_id": "e0c3569116be4ef29dd9ba3c61dce8eb",
       "version_major": 2,
       "version_minor": 0
      },
      "text/plain": [
       "  0%|          | 0/161 [00:00<?, ?it/s]"
      ]
     },
     "metadata": {},
     "output_type": "display_data"
    },
    {
     "name": "stderr",
     "output_type": "stream",
     "text": [
      "2023-07-03 17:29:05 INFO     Building rank lists...\n",
      "2023-07-03 17:29:25 INFO     Computing average precision...\n",
      "2023-07-03 17:29:25 INFO     Computing null distributions...\n",
      "/Users/akalinin/Projects/copairs/src/copairs/compute_np.py:107: RuntimeWarning: invalid value encountered in divide\n",
      "  ap = (pr_k * rel_k).sum(axis=1) / num_pos\n",
      "/Users/akalinin/Projects/copairs/src/copairs/compute_np.py:107: RuntimeWarning: invalid value encountered in divide\n",
      "  ap = (pr_k * rel_k).sum(axis=1) / num_pos\n",
      "/Users/akalinin/Projects/copairs/src/copairs/compute_np.py:107: RuntimeWarning: invalid value encountered in divide\n",
      "  ap = (pr_k * rel_k).sum(axis=1) / num_pos\n",
      "/Users/akalinin/Projects/copairs/src/copairs/compute_np.py:107: RuntimeWarning: invalid value encountered in divide\n",
      "  ap = (pr_k * rel_k).sum(axis=1) / num_pos\n",
      "2023-07-03 17:29:32 INFO     Computing P-values...\n",
      "2023-07-03 17:29:33 INFO     Creating result DataFrame...\n",
      "2023-07-03 17:29:33 INFO     Finished.\n",
      "/var/folders/41/1jdfcmfs0gx7qwx9d31rtxgr0000gq/T/ipykernel_85051/2184141838.py:15: SettingWithCopyWarning: \n",
      "A value is trying to be set on a copy of a slice from a DataFrame.\n",
      "Try using .loc[row_indexer,col_indexer] = value instead\n",
      "\n",
      "See the caveats in the documentation: https://pandas.pydata.org/pandas-docs/stable/user_guide/indexing.html#returning-a-view-versus-a-copy\n",
      "  metadata.loc[:, \"Metadata_dummy_index\"] = metadata.index\n",
      "2023-07-03 17:29:36 INFO     Indexing metadata...\n",
      "2023-07-03 17:29:36 INFO     Finding positive pairs...\n"
     ]
    },
    {
     "name": "stdout",
     "output_type": "stream",
     "text": [
      "5eaae264 id1 mismatch\n",
      "Sameby: ['Metadata_Well'] Diffby: ['Metadata_Symbol']\n"
     ]
    },
    {
     "name": "stderr",
     "output_type": "stream",
     "text": [
      "2023-07-03 17:29:38 INFO     dropping dups...\n",
      "2023-07-03 17:29:39 INFO     Finding negative pairs...\n",
      "2023-07-03 17:29:59 INFO     dropping dups...\n",
      "2023-07-03 17:30:44 INFO     Computing positive similarities...\n"
     ]
    },
    {
     "data": {
      "application/vnd.jupyter.widget-view+json": {
       "model_id": "e7819338a1dc4039be389437e642cacf",
       "version_major": 2,
       "version_minor": 0
      },
      "text/plain": [
       "  0%|          | 0/5 [00:00<?, ?it/s]"
      ]
     },
     "metadata": {},
     "output_type": "display_data"
    },
    {
     "name": "stderr",
     "output_type": "stream",
     "text": [
      "2023-07-03 17:30:45 INFO     Computing negative similarities...\n"
     ]
    },
    {
     "data": {
      "application/vnd.jupyter.widget-view+json": {
       "model_id": "fec1e5cbdd2a42eda92195b8ec39aac7",
       "version_major": 2,
       "version_minor": 0
      },
      "text/plain": [
       "  0%|          | 0/161 [00:00<?, ?it/s]"
      ]
     },
     "metadata": {},
     "output_type": "display_data"
    },
    {
     "name": "stderr",
     "output_type": "stream",
     "text": [
      "2023-07-03 17:31:29 INFO     Building rank lists...\n",
      "2023-07-03 17:31:49 INFO     Computing average precision...\n",
      "2023-07-03 17:31:49 INFO     Computing null distributions...\n",
      "/Users/akalinin/Projects/copairs/src/copairs/compute_np.py:107: RuntimeWarning: invalid value encountered in divide\n",
      "  ap = (pr_k * rel_k).sum(axis=1) / num_pos\n",
      "/Users/akalinin/Projects/copairs/src/copairs/compute_np.py:107: RuntimeWarning: invalid value encountered in divide\n",
      "  ap = (pr_k * rel_k).sum(axis=1) / num_pos\n",
      "/Users/akalinin/Projects/copairs/src/copairs/compute_np.py:107: RuntimeWarning: invalid value encountered in divide\n",
      "  ap = (pr_k * rel_k).sum(axis=1) / num_pos\n",
      "/Users/akalinin/Projects/copairs/src/copairs/compute_np.py:107: RuntimeWarning: invalid value encountered in divide\n",
      "  ap = (pr_k * rel_k).sum(axis=1) / num_pos\n",
      "2023-07-03 17:31:57 INFO     Computing P-values...\n",
      "2023-07-03 17:31:57 INFO     Creating result DataFrame...\n",
      "2023-07-03 17:31:57 INFO     Finished.\n",
      "/var/folders/41/1jdfcmfs0gx7qwx9d31rtxgr0000gq/T/ipykernel_85051/2184141838.py:15: SettingWithCopyWarning: \n",
      "A value is trying to be set on a copy of a slice from a DataFrame.\n",
      "Try using .loc[row_indexer,col_indexer] = value instead\n",
      "\n",
      "See the caveats in the documentation: https://pandas.pydata.org/pandas-docs/stable/user_guide/indexing.html#returning-a-view-versus-a-copy\n",
      "  metadata.loc[:, \"Metadata_dummy_index\"] = metadata.index\n",
      "2023-07-03 17:32:01 INFO     Indexing metadata...\n",
      "2023-07-03 17:32:01 INFO     Finding positive pairs...\n"
     ]
    },
    {
     "name": "stdout",
     "output_type": "stream",
     "text": [
      "e2bf955d id1 mismatch\n",
      "Sameby: ['Metadata_Well', 'Metadata_JCP2022'] Diffby: []\n"
     ]
    },
    {
     "name": "stderr",
     "output_type": "stream",
     "text": [
      "2023-07-03 17:32:01 INFO     dropping dups...\n",
      "2023-07-03 17:32:01 INFO     Finding negative pairs...\n",
      "2023-07-03 17:32:22 INFO     dropping dups...\n",
      "2023-07-03 17:33:06 INFO     Computing positive similarities...\n"
     ]
    },
    {
     "data": {
      "application/vnd.jupyter.widget-view+json": {
       "model_id": "f73949d6a2dd4cbcab202530db8a5983",
       "version_major": 2,
       "version_minor": 0
      },
      "text/plain": [
       "  0%|          | 0/1 [00:00<?, ?it/s]"
      ]
     },
     "metadata": {},
     "output_type": "display_data"
    },
    {
     "name": "stderr",
     "output_type": "stream",
     "text": [
      "2023-07-03 17:33:06 INFO     Computing negative similarities...\n"
     ]
    },
    {
     "data": {
      "application/vnd.jupyter.widget-view+json": {
       "model_id": "74adf317e3ea439d8fe1e03fa4a4d7aa",
       "version_major": 2,
       "version_minor": 0
      },
      "text/plain": [
       "  0%|          | 0/161 [00:00<?, ?it/s]"
      ]
     },
     "metadata": {},
     "output_type": "display_data"
    },
    {
     "name": "stderr",
     "output_type": "stream",
     "text": [
      "2023-07-03 17:34:01 INFO     Building rank lists...\n",
      "2023-07-03 17:34:20 INFO     Computing average precision...\n",
      "2023-07-03 17:34:20 INFO     Computing null distributions...\n",
      "/Users/akalinin/Projects/copairs/src/copairs/compute_np.py:107: RuntimeWarning: invalid value encountered in divide\n",
      "  ap = (pr_k * rel_k).sum(axis=1) / num_pos\n",
      "/Users/akalinin/Projects/copairs/src/copairs/compute_np.py:107: RuntimeWarning: invalid value encountered in divide\n",
      "  ap = (pr_k * rel_k).sum(axis=1) / num_pos\n",
      "/Users/akalinin/Projects/copairs/src/copairs/compute_np.py:107: RuntimeWarning: invalid value encountered in divide\n",
      "  ap = (pr_k * rel_k).sum(axis=1) / num_pos\n",
      "/Users/akalinin/Projects/copairs/src/copairs/compute_np.py:107: RuntimeWarning: invalid value encountered in divide\n",
      "  ap = (pr_k * rel_k).sum(axis=1) / num_pos\n",
      "2023-07-03 17:34:27 INFO     Computing P-values...\n",
      "2023-07-03 17:34:27 INFO     Creating result DataFrame...\n",
      "2023-07-03 17:34:27 INFO     Finished.\n",
      "/var/folders/41/1jdfcmfs0gx7qwx9d31rtxgr0000gq/T/ipykernel_85051/2184141838.py:15: SettingWithCopyWarning: \n",
      "A value is trying to be set on a copy of a slice from a DataFrame.\n",
      "Try using .loc[row_indexer,col_indexer] = value instead\n",
      "\n",
      "See the caveats in the documentation: https://pandas.pydata.org/pandas-docs/stable/user_guide/indexing.html#returning-a-view-versus-a-copy\n",
      "  metadata.loc[:, \"Metadata_dummy_index\"] = metadata.index\n",
      "2023-07-03 17:34:31 INFO     Indexing metadata...\n",
      "2023-07-03 17:34:31 INFO     Finding positive pairs...\n"
     ]
    },
    {
     "name": "stdout",
     "output_type": "stream",
     "text": [
      "758dee96 id1 mismatch\n",
      "Sameby: ['Metadata_Well', 'Metadata_Symbol'] Diffby: []\n"
     ]
    },
    {
     "name": "stderr",
     "output_type": "stream",
     "text": [
      "2023-07-03 17:34:31 INFO     dropping dups...\n",
      "2023-07-03 17:34:31 INFO     Finding negative pairs...\n",
      "2023-07-03 17:34:52 INFO     dropping dups...\n",
      "2023-07-03 17:35:36 INFO     Computing positive similarities...\n"
     ]
    },
    {
     "data": {
      "application/vnd.jupyter.widget-view+json": {
       "model_id": "9d3a286efd0c472ebf10b9b52e8b5c78",
       "version_major": 2,
       "version_minor": 0
      },
      "text/plain": [
       "  0%|          | 0/1 [00:00<?, ?it/s]"
      ]
     },
     "metadata": {},
     "output_type": "display_data"
    },
    {
     "name": "stderr",
     "output_type": "stream",
     "text": [
      "2023-07-03 17:35:37 INFO     Computing negative similarities...\n"
     ]
    },
    {
     "data": {
      "application/vnd.jupyter.widget-view+json": {
       "model_id": "735a5ccefcfa4ee1aa2f1a35c0113cfc",
       "version_major": 2,
       "version_minor": 0
      },
      "text/plain": [
       "  0%|          | 0/161 [00:00<?, ?it/s]"
      ]
     },
     "metadata": {},
     "output_type": "display_data"
    },
    {
     "name": "stderr",
     "output_type": "stream",
     "text": [
      "2023-07-03 17:36:28 INFO     Building rank lists...\n",
      "2023-07-03 17:36:48 INFO     Computing average precision...\n",
      "2023-07-03 17:36:48 INFO     Computing null distributions...\n",
      "/Users/akalinin/Projects/copairs/src/copairs/compute_np.py:107: RuntimeWarning: invalid value encountered in divide\n",
      "  ap = (pr_k * rel_k).sum(axis=1) / num_pos\n",
      "/Users/akalinin/Projects/copairs/src/copairs/compute_np.py:107: RuntimeWarning: invalid value encountered in divide\n",
      "  ap = (pr_k * rel_k).sum(axis=1) / num_pos\n",
      "/Users/akalinin/Projects/copairs/src/copairs/compute_np.py:107: RuntimeWarning: invalid value encountered in divide\n",
      "  ap = (pr_k * rel_k).sum(axis=1) / num_pos\n",
      "/Users/akalinin/Projects/copairs/src/copairs/compute_np.py:107: RuntimeWarning: invalid value encountered in divide\n",
      "  ap = (pr_k * rel_k).sum(axis=1) / num_pos\n",
      "2023-07-03 17:36:55 INFO     Computing P-values...\n",
      "2023-07-03 17:36:55 INFO     Creating result DataFrame...\n",
      "2023-07-03 17:36:55 INFO     Finished.\n",
      "/var/folders/41/1jdfcmfs0gx7qwx9d31rtxgr0000gq/T/ipykernel_85051/2184141838.py:15: SettingWithCopyWarning: \n",
      "A value is trying to be set on a copy of a slice from a DataFrame.\n",
      "Try using .loc[row_indexer,col_indexer] = value instead\n",
      "\n",
      "See the caveats in the documentation: https://pandas.pydata.org/pandas-docs/stable/user_guide/indexing.html#returning-a-view-versus-a-copy\n",
      "  metadata.loc[:, \"Metadata_dummy_index\"] = metadata.index\n",
      "2023-07-03 17:36:58 INFO     Indexing metadata...\n",
      "2023-07-03 17:36:58 INFO     Finding positive pairs...\n"
     ]
    },
    {
     "name": "stdout",
     "output_type": "stream",
     "text": [
      "889ca0ab id1 mismatch\n",
      "Sameby: ['Metadata_Well'] Diffby: ['Metadata_Symbol']\n"
     ]
    },
    {
     "name": "stderr",
     "output_type": "stream",
     "text": [
      "2023-07-03 17:37:00 INFO     dropping dups...\n",
      "2023-07-03 17:37:01 INFO     Finding negative pairs...\n",
      "2023-07-03 17:37:22 INFO     dropping dups...\n",
      "2023-07-03 17:38:06 INFO     Computing positive similarities...\n"
     ]
    },
    {
     "data": {
      "application/vnd.jupyter.widget-view+json": {
       "model_id": "626c1ae2273946408ef5109a3f999605",
       "version_major": 2,
       "version_minor": 0
      },
      "text/plain": [
       "  0%|          | 0/5 [00:00<?, ?it/s]"
      ]
     },
     "metadata": {},
     "output_type": "display_data"
    },
    {
     "name": "stderr",
     "output_type": "stream",
     "text": [
      "2023-07-03 17:38:08 INFO     Computing negative similarities...\n"
     ]
    },
    {
     "data": {
      "application/vnd.jupyter.widget-view+json": {
       "model_id": "6aa63fce35dd4164af9d4a59e43c14cc",
       "version_major": 2,
       "version_minor": 0
      },
      "text/plain": [
       "  0%|          | 0/161 [00:00<?, ?it/s]"
      ]
     },
     "metadata": {},
     "output_type": "display_data"
    },
    {
     "name": "stderr",
     "output_type": "stream",
     "text": [
      "2023-07-03 17:39:09 INFO     Building rank lists...\n",
      "2023-07-03 17:39:30 INFO     Computing average precision...\n",
      "2023-07-03 17:39:30 INFO     Computing null distributions...\n",
      "/Users/akalinin/Projects/copairs/src/copairs/compute_np.py:107: RuntimeWarning: invalid value encountered in divide\n",
      "  ap = (pr_k * rel_k).sum(axis=1) / num_pos\n",
      "/Users/akalinin/Projects/copairs/src/copairs/compute_np.py:107: RuntimeWarning: invalid value encountered in divide\n",
      "  ap = (pr_k * rel_k).sum(axis=1) / num_pos\n",
      "/Users/akalinin/Projects/copairs/src/copairs/compute_np.py:107: RuntimeWarning: invalid value encountered in divide\n",
      "  ap = (pr_k * rel_k).sum(axis=1) / num_pos\n",
      "/Users/akalinin/Projects/copairs/src/copairs/compute_np.py:107: RuntimeWarning: invalid value encountered in divide\n",
      "  ap = (pr_k * rel_k).sum(axis=1) / num_pos\n",
      "2023-07-03 17:39:37 INFO     Computing P-values...\n",
      "2023-07-03 17:39:37 INFO     Creating result DataFrame...\n",
      "2023-07-03 17:39:37 INFO     Finished.\n",
      "/var/folders/41/1jdfcmfs0gx7qwx9d31rtxgr0000gq/T/ipykernel_85051/2184141838.py:15: SettingWithCopyWarning: \n",
      "A value is trying to be set on a copy of a slice from a DataFrame.\n",
      "Try using .loc[row_indexer,col_indexer] = value instead\n",
      "\n",
      "See the caveats in the documentation: https://pandas.pydata.org/pandas-docs/stable/user_guide/indexing.html#returning-a-view-versus-a-copy\n",
      "  metadata.loc[:, \"Metadata_dummy_index\"] = metadata.index\n",
      "2023-07-03 17:39:41 INFO     Indexing metadata...\n",
      "2023-07-03 17:39:41 INFO     Finding positive pairs...\n"
     ]
    },
    {
     "name": "stdout",
     "output_type": "stream",
     "text": [
      "0cc6a4ec id1 match OK\n",
      "Sameby: ['Metadata_Symbol'] Diffby: ['Metadata_Well']\n"
     ]
    },
    {
     "name": "stderr",
     "output_type": "stream",
     "text": [
      "2023-07-03 17:39:41 INFO     dropping dups...\n",
      "2023-07-03 17:39:41 INFO     Finding negative pairs...\n",
      "2023-07-03 17:40:01 INFO     dropping dups...\n",
      "2023-07-03 17:40:46 INFO     Computing positive similarities...\n"
     ]
    },
    {
     "data": {
      "application/vnd.jupyter.widget-view+json": {
       "model_id": "c7230a98af1345e8a588f58496a8e1b7",
       "version_major": 2,
       "version_minor": 0
      },
      "text/plain": [
       "  0%|          | 0/1 [00:00<?, ?it/s]"
      ]
     },
     "metadata": {},
     "output_type": "display_data"
    },
    {
     "name": "stderr",
     "output_type": "stream",
     "text": [
      "2023-07-03 17:40:46 INFO     Computing negative similarities...\n"
     ]
    },
    {
     "data": {
      "application/vnd.jupyter.widget-view+json": {
       "model_id": "a8f19ad9bbf047259c92737de3fcc7b3",
       "version_major": 2,
       "version_minor": 0
      },
      "text/plain": [
       "  0%|          | 0/161 [00:00<?, ?it/s]"
      ]
     },
     "metadata": {},
     "output_type": "display_data"
    },
    {
     "name": "stderr",
     "output_type": "stream",
     "text": [
      "2023-07-03 17:41:18 INFO     Building rank lists...\n",
      "2023-07-03 17:41:38 INFO     Computing average precision...\n",
      "2023-07-03 17:41:39 INFO     Computing null distributions...\n",
      "/Users/akalinin/Projects/copairs/src/copairs/compute_np.py:107: RuntimeWarning: invalid value encountered in divide\n",
      "  ap = (pr_k * rel_k).sum(axis=1) / num_pos\n",
      "/Users/akalinin/Projects/copairs/src/copairs/compute_np.py:107: RuntimeWarning: invalid value encountered in divide\n",
      "  ap = (pr_k * rel_k).sum(axis=1) / num_pos\n",
      "/Users/akalinin/Projects/copairs/src/copairs/compute_np.py:107: RuntimeWarning: invalid value encountered in divide\n",
      "  ap = (pr_k * rel_k).sum(axis=1) / num_pos\n",
      "/Users/akalinin/Projects/copairs/src/copairs/compute_np.py:107: RuntimeWarning: invalid value encountered in divide\n",
      "  ap = (pr_k * rel_k).sum(axis=1) / num_pos\n",
      "2023-07-03 17:41:46 INFO     Computing P-values...\n",
      "2023-07-03 17:41:46 INFO     Creating result DataFrame...\n",
      "2023-07-03 17:41:46 INFO     Finished.\n",
      "/var/folders/41/1jdfcmfs0gx7qwx9d31rtxgr0000gq/T/ipykernel_85051/2184141838.py:15: SettingWithCopyWarning: \n",
      "A value is trying to be set on a copy of a slice from a DataFrame.\n",
      "Try using .loc[row_indexer,col_indexer] = value instead\n",
      "\n",
      "See the caveats in the documentation: https://pandas.pydata.org/pandas-docs/stable/user_guide/indexing.html#returning-a-view-versus-a-copy\n",
      "  metadata.loc[:, \"Metadata_dummy_index\"] = metadata.index\n",
      "2023-07-03 17:41:49 INFO     Indexing metadata...\n",
      "2023-07-03 17:41:50 INFO     Finding positive pairs...\n"
     ]
    },
    {
     "name": "stdout",
     "output_type": "stream",
     "text": [
      "adacbee3 id1 mismatch\n",
      "Sameby: ['Metadata_Well'] Diffby: ['Metadata_Symbol']\n"
     ]
    },
    {
     "name": "stderr",
     "output_type": "stream",
     "text": [
      "2023-07-03 17:41:51 INFO     dropping dups...\n",
      "2023-07-03 17:41:52 INFO     Finding negative pairs...\n",
      "2023-07-03 17:42:13 INFO     dropping dups...\n",
      "2023-07-03 17:42:58 INFO     Computing positive similarities...\n"
     ]
    },
    {
     "data": {
      "application/vnd.jupyter.widget-view+json": {
       "model_id": "6efe4bdc65494d3aa453901eaf2113d1",
       "version_major": 2,
       "version_minor": 0
      },
      "text/plain": [
       "  0%|          | 0/5 [00:00<?, ?it/s]"
      ]
     },
     "metadata": {},
     "output_type": "display_data"
    },
    {
     "name": "stderr",
     "output_type": "stream",
     "text": [
      "2023-07-03 17:42:59 INFO     Computing negative similarities...\n"
     ]
    },
    {
     "data": {
      "application/vnd.jupyter.widget-view+json": {
       "model_id": "dd69d0f6e6a14d6997a52a6f85853977",
       "version_major": 2,
       "version_minor": 0
      },
      "text/plain": [
       "  0%|          | 0/161 [00:00<?, ?it/s]"
      ]
     },
     "metadata": {},
     "output_type": "display_data"
    },
    {
     "name": "stderr",
     "output_type": "stream",
     "text": [
      "2023-07-03 17:43:34 INFO     Building rank lists...\n",
      "2023-07-03 17:43:56 INFO     Computing average precision...\n",
      "2023-07-03 17:43:56 INFO     Computing null distributions...\n",
      "/Users/akalinin/Projects/copairs/src/copairs/compute_np.py:107: RuntimeWarning: invalid value encountered in divide\n",
      "  ap = (pr_k * rel_k).sum(axis=1) / num_pos\n",
      "/Users/akalinin/Projects/copairs/src/copairs/compute_np.py:107: RuntimeWarning: invalid value encountered in divide\n",
      "  ap = (pr_k * rel_k).sum(axis=1) / num_pos\n",
      "/Users/akalinin/Projects/copairs/src/copairs/compute_np.py:107: RuntimeWarning: invalid value encountered in divide\n",
      "  ap = (pr_k * rel_k).sum(axis=1) / num_pos\n",
      "/Users/akalinin/Projects/copairs/src/copairs/compute_np.py:107: RuntimeWarning: invalid value encountered in divide\n",
      "  ap = (pr_k * rel_k).sum(axis=1) / num_pos\n",
      "2023-07-03 17:44:04 INFO     Computing P-values...\n",
      "2023-07-03 17:44:04 INFO     Creating result DataFrame...\n",
      "2023-07-03 17:44:04 INFO     Finished.\n",
      "2023-07-03 17:44:08 WARNING  File ../../position-effect-correction/3.correct/output/subset_profiles_cc_corrected_cospca.parquet not found. Skipping.\n"
     ]
    },
    {
     "name": "stdout",
     "output_type": "stream",
     "text": [
      "32dde2e8 id1 match OK\n"
     ]
    },
    {
     "name": "stderr",
     "output_type": "stream",
     "text": [
      "/var/folders/41/1jdfcmfs0gx7qwx9d31rtxgr0000gq/T/ipykernel_85051/2184141838.py:15: SettingWithCopyWarning: \n",
      "A value is trying to be set on a copy of a slice from a DataFrame.\n",
      "Try using .loc[row_indexer,col_indexer] = value instead\n",
      "\n",
      "See the caveats in the documentation: https://pandas.pydata.org/pandas-docs/stable/user_guide/indexing.html#returning-a-view-versus-a-copy\n",
      "  metadata.loc[:, \"Metadata_dummy_index\"] = metadata.index\n",
      "2023-07-03 17:44:11 INFO     Indexing metadata...\n",
      "2023-07-03 17:44:11 INFO     Finding positive pairs...\n"
     ]
    },
    {
     "name": "stdout",
     "output_type": "stream",
     "text": [
      "3701ed2c id1 mismatch\n",
      "Sameby: ['Metadata_Well'] Diffby: ['Metadata_JCP2022']\n"
     ]
    },
    {
     "name": "stderr",
     "output_type": "stream",
     "text": [
      "2023-07-03 17:44:13 INFO     dropping dups...\n",
      "2023-07-03 17:44:14 INFO     Finding negative pairs...\n",
      "2023-07-03 17:44:34 INFO     dropping dups...\n",
      "2023-07-03 17:45:20 INFO     Computing positive similarities...\n"
     ]
    },
    {
     "data": {
      "application/vnd.jupyter.widget-view+json": {
       "model_id": "20bb760c19c846fc92d6a4c4151fbc7a",
       "version_major": 2,
       "version_minor": 0
      },
      "text/plain": [
       "  0%|          | 0/5 [00:00<?, ?it/s]"
      ]
     },
     "metadata": {},
     "output_type": "display_data"
    },
    {
     "name": "stderr",
     "output_type": "stream",
     "text": [
      "2023-07-03 17:45:20 INFO     Computing negative similarities...\n"
     ]
    },
    {
     "data": {
      "application/vnd.jupyter.widget-view+json": {
       "model_id": "9e7ee3a0d34c40c99173e2be18ba5e47",
       "version_major": 2,
       "version_minor": 0
      },
      "text/plain": [
       "  0%|          | 0/161 [00:00<?, ?it/s]"
      ]
     },
     "metadata": {},
     "output_type": "display_data"
    },
    {
     "name": "stderr",
     "output_type": "stream",
     "text": [
      "2023-07-03 17:45:49 INFO     Building rank lists...\n",
      "2023-07-03 17:46:09 INFO     Computing average precision...\n",
      "2023-07-03 17:46:10 INFO     Computing null distributions...\n",
      "/Users/akalinin/Projects/copairs/src/copairs/compute_np.py:107: RuntimeWarning: invalid value encountered in divide\n",
      "  ap = (pr_k * rel_k).sum(axis=1) / num_pos\n",
      "/Users/akalinin/Projects/copairs/src/copairs/compute_np.py:107: RuntimeWarning: invalid value encountered in divide\n",
      "  ap = (pr_k * rel_k).sum(axis=1) / num_pos\n",
      "/Users/akalinin/Projects/copairs/src/copairs/compute_np.py:107: RuntimeWarning: invalid value encountered in divide\n",
      "  ap = (pr_k * rel_k).sum(axis=1) / num_pos\n",
      "/Users/akalinin/Projects/copairs/src/copairs/compute_np.py:107: RuntimeWarning: invalid value encountered in divide\n",
      "  ap = (pr_k * rel_k).sum(axis=1) / num_pos\n",
      "2023-07-03 17:46:17 INFO     Computing P-values...\n",
      "2023-07-03 17:46:17 INFO     Creating result DataFrame...\n",
      "2023-07-03 17:46:17 INFO     Finished.\n",
      "/var/folders/41/1jdfcmfs0gx7qwx9d31rtxgr0000gq/T/ipykernel_85051/2184141838.py:15: SettingWithCopyWarning: \n",
      "A value is trying to be set on a copy of a slice from a DataFrame.\n",
      "Try using .loc[row_indexer,col_indexer] = value instead\n",
      "\n",
      "See the caveats in the documentation: https://pandas.pydata.org/pandas-docs/stable/user_guide/indexing.html#returning-a-view-versus-a-copy\n",
      "  metadata.loc[:, \"Metadata_dummy_index\"] = metadata.index\n",
      "2023-07-03 17:46:20 INFO     Indexing metadata...\n",
      "2023-07-03 17:46:20 INFO     Finding positive pairs...\n"
     ]
    },
    {
     "name": "stdout",
     "output_type": "stream",
     "text": [
      "df015b9f id1 match OK\n",
      "Sameby: ['Metadata_JCP2022'] Diffby: ['Metadata_Well']\n"
     ]
    },
    {
     "name": "stderr",
     "output_type": "stream",
     "text": [
      "2023-07-03 17:46:21 INFO     dropping dups...\n",
      "2023-07-03 17:46:21 INFO     Finding negative pairs...\n",
      "2023-07-03 17:46:41 INFO     dropping dups...\n",
      "2023-07-03 17:47:27 INFO     Computing positive similarities...\n"
     ]
    },
    {
     "data": {
      "application/vnd.jupyter.widget-view+json": {
       "model_id": "ece625c036fa4e67b7e056e9415241c1",
       "version_major": 2,
       "version_minor": 0
      },
      "text/plain": [
       "  0%|          | 0/1 [00:00<?, ?it/s]"
      ]
     },
     "metadata": {},
     "output_type": "display_data"
    },
    {
     "name": "stderr",
     "output_type": "stream",
     "text": [
      "2023-07-03 17:47:27 INFO     Computing negative similarities...\n"
     ]
    },
    {
     "data": {
      "application/vnd.jupyter.widget-view+json": {
       "model_id": "b1a1c4edee504b3cabbb8d87c2a97e29",
       "version_major": 2,
       "version_minor": 0
      },
      "text/plain": [
       "  0%|          | 0/161 [00:00<?, ?it/s]"
      ]
     },
     "metadata": {},
     "output_type": "display_data"
    },
    {
     "name": "stderr",
     "output_type": "stream",
     "text": [
      "2023-07-03 17:48:30 INFO     Building rank lists...\n",
      "2023-07-03 17:48:51 INFO     Computing average precision...\n",
      "2023-07-03 17:48:51 INFO     Computing null distributions...\n",
      "/Users/akalinin/Projects/copairs/src/copairs/compute_np.py:107: RuntimeWarning: invalid value encountered in divide\n",
      "  ap = (pr_k * rel_k).sum(axis=1) / num_pos\n",
      "/Users/akalinin/Projects/copairs/src/copairs/compute_np.py:107: RuntimeWarning: invalid value encountered in divide\n",
      "  ap = (pr_k * rel_k).sum(axis=1) / num_pos\n",
      "/Users/akalinin/Projects/copairs/src/copairs/compute_np.py:107: RuntimeWarning: invalid value encountered in divide\n",
      "  ap = (pr_k * rel_k).sum(axis=1) / num_pos\n",
      "/Users/akalinin/Projects/copairs/src/copairs/compute_np.py:107: RuntimeWarning: invalid value encountered in divide\n",
      "  ap = (pr_k * rel_k).sum(axis=1) / num_pos\n",
      "2023-07-03 17:48:58 INFO     Computing P-values...\n",
      "2023-07-03 17:48:58 INFO     Creating result DataFrame...\n",
      "2023-07-03 17:48:58 INFO     Finished.\n",
      "/var/folders/41/1jdfcmfs0gx7qwx9d31rtxgr0000gq/T/ipykernel_85051/2184141838.py:15: SettingWithCopyWarning: \n",
      "A value is trying to be set on a copy of a slice from a DataFrame.\n",
      "Try using .loc[row_indexer,col_indexer] = value instead\n",
      "\n",
      "See the caveats in the documentation: https://pandas.pydata.org/pandas-docs/stable/user_guide/indexing.html#returning-a-view-versus-a-copy\n",
      "  metadata.loc[:, \"Metadata_dummy_index\"] = metadata.index\n",
      "2023-07-03 17:49:02 INFO     Indexing metadata...\n",
      "2023-07-03 17:49:02 INFO     Finding positive pairs...\n"
     ]
    },
    {
     "name": "stdout",
     "output_type": "stream",
     "text": [
      "edaff3b6 id1 mismatch\n",
      "Sameby: ['Metadata_Well'] Diffby: ['Metadata_Symbol']\n"
     ]
    },
    {
     "name": "stderr",
     "output_type": "stream",
     "text": [
      "2023-07-03 17:49:04 INFO     dropping dups...\n",
      "2023-07-03 17:49:05 INFO     Finding negative pairs...\n",
      "2023-07-03 17:49:26 INFO     dropping dups...\n",
      "2023-07-03 17:50:12 INFO     Computing positive similarities...\n"
     ]
    },
    {
     "data": {
      "application/vnd.jupyter.widget-view+json": {
       "model_id": "23be8f570cb3474e90710044d1e61bda",
       "version_major": 2,
       "version_minor": 0
      },
      "text/plain": [
       "  0%|          | 0/5 [00:00<?, ?it/s]"
      ]
     },
     "metadata": {},
     "output_type": "display_data"
    },
    {
     "name": "stderr",
     "output_type": "stream",
     "text": [
      "2023-07-03 17:50:13 INFO     Computing negative similarities...\n"
     ]
    },
    {
     "data": {
      "application/vnd.jupyter.widget-view+json": {
       "model_id": "4515a3b6fcfc413799ecfe20c44bf0ba",
       "version_major": 2,
       "version_minor": 0
      },
      "text/plain": [
       "  0%|          | 0/161 [00:00<?, ?it/s]"
      ]
     },
     "metadata": {},
     "output_type": "display_data"
    },
    {
     "name": "stderr",
     "output_type": "stream",
     "text": [
      "2023-07-03 17:51:01 INFO     Building rank lists...\n",
      "2023-07-03 17:55:39 INFO     Computing average precision...\n",
      "2023-07-03 17:55:40 INFO     Computing null distributions...\n",
      "/Users/akalinin/Projects/copairs/src/copairs/compute_np.py:107: RuntimeWarning: invalid value encountered in divide\n",
      "  ap = (pr_k * rel_k).sum(axis=1) / num_pos\n",
      "/Users/akalinin/Projects/copairs/src/copairs/compute_np.py:107: RuntimeWarning: invalid value encountered in divide\n",
      "  ap = (pr_k * rel_k).sum(axis=1) / num_pos\n",
      "/Users/akalinin/Projects/copairs/src/copairs/compute_np.py:107: RuntimeWarning: invalid value encountered in divide\n",
      "  ap = (pr_k * rel_k).sum(axis=1) / num_pos\n",
      "/Users/akalinin/Projects/copairs/src/copairs/compute_np.py:107: RuntimeWarning: invalid value encountered in divide\n",
      "  ap = (pr_k * rel_k).sum(axis=1) / num_pos\n",
      "2023-07-03 17:55:49 INFO     Computing P-values...\n",
      "2023-07-03 17:55:49 INFO     Creating result DataFrame...\n",
      "2023-07-03 17:55:49 INFO     Finished.\n",
      "/var/folders/41/1jdfcmfs0gx7qwx9d31rtxgr0000gq/T/ipykernel_85051/2184141838.py:15: SettingWithCopyWarning: \n",
      "A value is trying to be set on a copy of a slice from a DataFrame.\n",
      "Try using .loc[row_indexer,col_indexer] = value instead\n",
      "\n",
      "See the caveats in the documentation: https://pandas.pydata.org/pandas-docs/stable/user_guide/indexing.html#returning-a-view-versus-a-copy\n",
      "  metadata.loc[:, \"Metadata_dummy_index\"] = metadata.index\n",
      "2023-07-03 17:55:53 INFO     Indexing metadata...\n",
      "2023-07-03 17:55:53 INFO     Finding positive pairs...\n"
     ]
    },
    {
     "name": "stdout",
     "output_type": "stream",
     "text": [
      "6fae5285 id1 match OK\n",
      "Sameby: ['Metadata_Symbol'] Diffby: ['Metadata_Well']\n"
     ]
    },
    {
     "name": "stderr",
     "output_type": "stream",
     "text": [
      "2023-07-03 17:55:53 INFO     dropping dups...\n",
      "2023-07-03 17:55:53 INFO     Finding negative pairs...\n",
      "2023-07-03 17:56:13 INFO     dropping dups...\n",
      "2023-07-03 17:56:59 INFO     Computing positive similarities...\n"
     ]
    },
    {
     "data": {
      "application/vnd.jupyter.widget-view+json": {
       "model_id": "8b83cd545cd04800983341d9a7fc935a",
       "version_major": 2,
       "version_minor": 0
      },
      "text/plain": [
       "  0%|          | 0/1 [00:00<?, ?it/s]"
      ]
     },
     "metadata": {},
     "output_type": "display_data"
    },
    {
     "name": "stderr",
     "output_type": "stream",
     "text": [
      "2023-07-03 17:56:59 INFO     Computing negative similarities...\n"
     ]
    },
    {
     "data": {
      "application/vnd.jupyter.widget-view+json": {
       "model_id": "38f8e12fd0274214b36c1903a6190d69",
       "version_major": 2,
       "version_minor": 0
      },
      "text/plain": [
       "  0%|          | 0/161 [00:00<?, ?it/s]"
      ]
     },
     "metadata": {},
     "output_type": "display_data"
    },
    {
     "name": "stderr",
     "output_type": "stream",
     "text": [
      "2023-07-03 17:58:35 INFO     Building rank lists...\n",
      "2023-07-03 17:58:56 INFO     Computing average precision...\n",
      "2023-07-03 17:58:56 INFO     Computing null distributions...\n",
      "/Users/akalinin/Projects/copairs/src/copairs/compute_np.py:107: RuntimeWarning: invalid value encountered in divide\n",
      "  ap = (pr_k * rel_k).sum(axis=1) / num_pos\n",
      "/Users/akalinin/Projects/copairs/src/copairs/compute_np.py:107: RuntimeWarning: invalid value encountered in divide\n",
      "  ap = (pr_k * rel_k).sum(axis=1) / num_pos\n",
      "/Users/akalinin/Projects/copairs/src/copairs/compute_np.py:107: RuntimeWarning: invalid value encountered in divide\n",
      "  ap = (pr_k * rel_k).sum(axis=1) / num_pos\n",
      "/Users/akalinin/Projects/copairs/src/copairs/compute_np.py:107: RuntimeWarning: invalid value encountered in divide\n",
      "  ap = (pr_k * rel_k).sum(axis=1) / num_pos\n",
      "2023-07-03 17:59:03 INFO     Computing P-values...\n",
      "2023-07-03 17:59:04 INFO     Creating result DataFrame...\n",
      "2023-07-03 17:59:04 INFO     Finished.\n",
      "/var/folders/41/1jdfcmfs0gx7qwx9d31rtxgr0000gq/T/ipykernel_85051/2184141838.py:15: SettingWithCopyWarning: \n",
      "A value is trying to be set on a copy of a slice from a DataFrame.\n",
      "Try using .loc[row_indexer,col_indexer] = value instead\n",
      "\n",
      "See the caveats in the documentation: https://pandas.pydata.org/pandas-docs/stable/user_guide/indexing.html#returning-a-view-versus-a-copy\n",
      "  metadata.loc[:, \"Metadata_dummy_index\"] = metadata.index\n",
      "2023-07-03 17:59:09 INFO     Indexing metadata...\n",
      "2023-07-03 17:59:09 INFO     Finding positive pairs...\n"
     ]
    },
    {
     "name": "stdout",
     "output_type": "stream",
     "text": [
      "304eb132 id1 mismatch\n",
      "Sameby: ['Metadata_Well'] Diffby: ['Metadata_JCP2022']\n"
     ]
    },
    {
     "name": "stderr",
     "output_type": "stream",
     "text": [
      "2023-07-03 17:59:11 INFO     dropping dups...\n",
      "2023-07-03 17:59:12 INFO     Finding negative pairs...\n",
      "2023-07-03 17:59:33 INFO     dropping dups...\n",
      "2023-07-03 18:00:21 INFO     Computing positive similarities...\n"
     ]
    },
    {
     "data": {
      "application/vnd.jupyter.widget-view+json": {
       "model_id": "7b133041934a44af906b589735acda23",
       "version_major": 2,
       "version_minor": 0
      },
      "text/plain": [
       "  0%|          | 0/5 [00:00<?, ?it/s]"
      ]
     },
     "metadata": {},
     "output_type": "display_data"
    },
    {
     "name": "stderr",
     "output_type": "stream",
     "text": [
      "2023-07-03 18:00:23 INFO     Computing negative similarities...\n"
     ]
    },
    {
     "data": {
      "application/vnd.jupyter.widget-view+json": {
       "model_id": "7e89fbf4babe40f2be5a3a57e4a928e2",
       "version_major": 2,
       "version_minor": 0
      },
      "text/plain": [
       "  0%|          | 0/161 [00:00<?, ?it/s]"
      ]
     },
     "metadata": {},
     "output_type": "display_data"
    },
    {
     "name": "stderr",
     "output_type": "stream",
     "text": [
      "2023-07-03 18:01:59 INFO     Building rank lists...\n",
      "2023-07-03 18:02:21 INFO     Computing average precision...\n",
      "2023-07-03 18:02:21 INFO     Computing null distributions...\n",
      "/Users/akalinin/Projects/copairs/src/copairs/compute_np.py:107: RuntimeWarning: invalid value encountered in divide\n",
      "  ap = (pr_k * rel_k).sum(axis=1) / num_pos\n",
      "/Users/akalinin/Projects/copairs/src/copairs/compute_np.py:107: RuntimeWarning: invalid value encountered in divide\n",
      "  ap = (pr_k * rel_k).sum(axis=1) / num_pos\n",
      "/Users/akalinin/Projects/copairs/src/copairs/compute_np.py:107: RuntimeWarning: invalid value encountered in divide\n",
      "  ap = (pr_k * rel_k).sum(axis=1) / num_pos\n",
      "/Users/akalinin/Projects/copairs/src/copairs/compute_np.py:107: RuntimeWarning: invalid value encountered in divide\n",
      "  ap = (pr_k * rel_k).sum(axis=1) / num_pos\n",
      "2023-07-03 18:02:28 INFO     Computing P-values...\n",
      "2023-07-03 18:02:28 INFO     Creating result DataFrame...\n",
      "2023-07-03 18:02:28 INFO     Finished.\n",
      "/var/folders/41/1jdfcmfs0gx7qwx9d31rtxgr0000gq/T/ipykernel_85051/2184141838.py:15: SettingWithCopyWarning: \n",
      "A value is trying to be set on a copy of a slice from a DataFrame.\n",
      "Try using .loc[row_indexer,col_indexer] = value instead\n",
      "\n",
      "See the caveats in the documentation: https://pandas.pydata.org/pandas-docs/stable/user_guide/indexing.html#returning-a-view-versus-a-copy\n",
      "  metadata.loc[:, \"Metadata_dummy_index\"] = metadata.index\n",
      "2023-07-03 18:02:33 INFO     Indexing metadata...\n",
      "2023-07-03 18:02:33 INFO     Finding positive pairs...\n"
     ]
    },
    {
     "name": "stdout",
     "output_type": "stream",
     "text": [
      "c4c7aa12 id1 mismatch\n",
      "Sameby: ['Metadata_Well'] Diffby: ['Metadata_Symbol']\n"
     ]
    },
    {
     "name": "stderr",
     "output_type": "stream",
     "text": [
      "2023-07-03 18:02:35 INFO     dropping dups...\n",
      "2023-07-03 18:02:36 INFO     Finding negative pairs...\n",
      "2023-07-03 18:02:56 INFO     dropping dups...\n",
      "2023-07-03 18:03:42 INFO     Computing positive similarities...\n"
     ]
    },
    {
     "data": {
      "application/vnd.jupyter.widget-view+json": {
       "model_id": "6d0dc59fd9d04ac592cfe25af0e7da6a",
       "version_major": 2,
       "version_minor": 0
      },
      "text/plain": [
       "  0%|          | 0/5 [00:00<?, ?it/s]"
      ]
     },
     "metadata": {},
     "output_type": "display_data"
    },
    {
     "name": "stderr",
     "output_type": "stream",
     "text": [
      "2023-07-03 18:03:44 INFO     Computing negative similarities...\n"
     ]
    },
    {
     "data": {
      "application/vnd.jupyter.widget-view+json": {
       "model_id": "463065f4edf747b4b0ff1265ba0b0834",
       "version_major": 2,
       "version_minor": 0
      },
      "text/plain": [
       "  0%|          | 0/161 [00:00<?, ?it/s]"
      ]
     },
     "metadata": {},
     "output_type": "display_data"
    },
    {
     "name": "stderr",
     "output_type": "stream",
     "text": [
      "2023-07-03 18:05:37 INFO     Building rank lists...\n",
      "2023-07-03 18:05:58 INFO     Computing average precision...\n",
      "2023-07-03 18:05:58 INFO     Computing null distributions...\n",
      "/Users/akalinin/Projects/copairs/src/copairs/compute_np.py:107: RuntimeWarning: invalid value encountered in divide\n",
      "  ap = (pr_k * rel_k).sum(axis=1) / num_pos\n",
      "/Users/akalinin/Projects/copairs/src/copairs/compute_np.py:107: RuntimeWarning: invalid value encountered in divide\n",
      "  ap = (pr_k * rel_k).sum(axis=1) / num_pos\n",
      "/Users/akalinin/Projects/copairs/src/copairs/compute_np.py:107: RuntimeWarning: invalid value encountered in divide\n",
      "  ap = (pr_k * rel_k).sum(axis=1) / num_pos\n",
      "/Users/akalinin/Projects/copairs/src/copairs/compute_np.py:107: RuntimeWarning: invalid value encountered in divide\n",
      "  ap = (pr_k * rel_k).sum(axis=1) / num_pos\n",
      "2023-07-03 18:06:06 INFO     Computing P-values...\n",
      "2023-07-03 18:06:06 INFO     Creating result DataFrame...\n",
      "2023-07-03 18:06:06 INFO     Finished.\n",
      "/var/folders/41/1jdfcmfs0gx7qwx9d31rtxgr0000gq/T/ipykernel_85051/2184141838.py:15: SettingWithCopyWarning: \n",
      "A value is trying to be set on a copy of a slice from a DataFrame.\n",
      "Try using .loc[row_indexer,col_indexer] = value instead\n",
      "\n",
      "See the caveats in the documentation: https://pandas.pydata.org/pandas-docs/stable/user_guide/indexing.html#returning-a-view-versus-a-copy\n",
      "  metadata.loc[:, \"Metadata_dummy_index\"] = metadata.index\n",
      "2023-07-03 18:06:12 INFO     Indexing metadata...\n",
      "2023-07-03 18:06:12 INFO     Finding positive pairs...\n"
     ]
    },
    {
     "name": "stdout",
     "output_type": "stream",
     "text": [
      "34fbd8a4 id1 mismatch\n",
      "Sameby: ['Metadata_Well', 'Metadata_JCP2022'] Diffby: []\n"
     ]
    },
    {
     "name": "stderr",
     "output_type": "stream",
     "text": [
      "2023-07-03 18:06:12 INFO     dropping dups...\n",
      "2023-07-03 18:06:13 INFO     Finding negative pairs...\n",
      "2023-07-03 18:06:33 INFO     dropping dups...\n",
      "2023-07-03 18:07:19 INFO     Computing positive similarities...\n"
     ]
    },
    {
     "data": {
      "application/vnd.jupyter.widget-view+json": {
       "model_id": "2d6a0336979d476b8aee6d3155abb22d",
       "version_major": 2,
       "version_minor": 0
      },
      "text/plain": [
       "  0%|          | 0/1 [00:00<?, ?it/s]"
      ]
     },
     "metadata": {},
     "output_type": "display_data"
    },
    {
     "name": "stderr",
     "output_type": "stream",
     "text": [
      "2023-07-03 18:07:19 INFO     Computing negative similarities...\n"
     ]
    },
    {
     "data": {
      "application/vnd.jupyter.widget-view+json": {
       "model_id": "d1a3151bdfd94a8abbbdf2fd8b04f6a8",
       "version_major": 2,
       "version_minor": 0
      },
      "text/plain": [
       "  0%|          | 0/161 [00:00<?, ?it/s]"
      ]
     },
     "metadata": {},
     "output_type": "display_data"
    },
    {
     "name": "stderr",
     "output_type": "stream",
     "text": [
      "2023-07-03 18:08:27 INFO     Building rank lists...\n",
      "2023-07-03 18:08:47 INFO     Computing average precision...\n",
      "2023-07-03 18:08:48 INFO     Computing null distributions...\n",
      "/Users/akalinin/Projects/copairs/src/copairs/compute_np.py:107: RuntimeWarning: invalid value encountered in divide\n",
      "  ap = (pr_k * rel_k).sum(axis=1) / num_pos\n",
      "/Users/akalinin/Projects/copairs/src/copairs/compute_np.py:107: RuntimeWarning: invalid value encountered in divide\n",
      "  ap = (pr_k * rel_k).sum(axis=1) / num_pos\n",
      "/Users/akalinin/Projects/copairs/src/copairs/compute_np.py:107: RuntimeWarning: invalid value encountered in divide\n",
      "  ap = (pr_k * rel_k).sum(axis=1) / num_pos\n",
      "/Users/akalinin/Projects/copairs/src/copairs/compute_np.py:107: RuntimeWarning: invalid value encountered in divide\n",
      "  ap = (pr_k * rel_k).sum(axis=1) / num_pos\n",
      "2023-07-03 18:08:58 INFO     Computing P-values...\n",
      "2023-07-03 18:08:58 INFO     Creating result DataFrame...\n",
      "2023-07-03 18:08:58 INFO     Finished.\n",
      "/var/folders/41/1jdfcmfs0gx7qwx9d31rtxgr0000gq/T/ipykernel_85051/2184141838.py:15: SettingWithCopyWarning: \n",
      "A value is trying to be set on a copy of a slice from a DataFrame.\n",
      "Try using .loc[row_indexer,col_indexer] = value instead\n",
      "\n",
      "See the caveats in the documentation: https://pandas.pydata.org/pandas-docs/stable/user_guide/indexing.html#returning-a-view-versus-a-copy\n",
      "  metadata.loc[:, \"Metadata_dummy_index\"] = metadata.index\n",
      "2023-07-03 18:09:02 INFO     Indexing metadata...\n",
      "2023-07-03 18:09:02 INFO     Finding positive pairs...\n"
     ]
    },
    {
     "name": "stdout",
     "output_type": "stream",
     "text": [
      "10792e71 id1 match OK\n",
      "Sameby: ['Metadata_Symbol'] Diffby: ['Metadata_Well']\n"
     ]
    },
    {
     "name": "stderr",
     "output_type": "stream",
     "text": [
      "2023-07-03 18:09:02 INFO     dropping dups...\n",
      "2023-07-03 18:09:02 INFO     Finding negative pairs...\n",
      "2023-07-03 18:09:23 INFO     dropping dups...\n",
      "2023-07-03 18:10:10 INFO     Computing positive similarities...\n"
     ]
    },
    {
     "data": {
      "application/vnd.jupyter.widget-view+json": {
       "model_id": "852fed0a294a4d298db10530fa7299cf",
       "version_major": 2,
       "version_minor": 0
      },
      "text/plain": [
       "  0%|          | 0/1 [00:00<?, ?it/s]"
      ]
     },
     "metadata": {},
     "output_type": "display_data"
    },
    {
     "name": "stderr",
     "output_type": "stream",
     "text": [
      "2023-07-03 18:10:10 INFO     Computing negative similarities...\n"
     ]
    },
    {
     "data": {
      "application/vnd.jupyter.widget-view+json": {
       "model_id": "58bddd93f0214fa88968ae6239a2cdfc",
       "version_major": 2,
       "version_minor": 0
      },
      "text/plain": [
       "  0%|          | 0/161 [00:00<?, ?it/s]"
      ]
     },
     "metadata": {},
     "output_type": "display_data"
    },
    {
     "name": "stderr",
     "output_type": "stream",
     "text": [
      "2023-07-03 18:10:19 INFO     Building rank lists...\n",
      "2023-07-03 18:10:39 INFO     Computing average precision...\n",
      "2023-07-03 18:10:40 INFO     Computing null distributions...\n",
      "/Users/akalinin/Projects/copairs/src/copairs/compute_np.py:107: RuntimeWarning: invalid value encountered in divide\n",
      "  ap = (pr_k * rel_k).sum(axis=1) / num_pos\n",
      "/Users/akalinin/Projects/copairs/src/copairs/compute_np.py:107: RuntimeWarning: invalid value encountered in divide\n",
      "  ap = (pr_k * rel_k).sum(axis=1) / num_pos\n",
      "/Users/akalinin/Projects/copairs/src/copairs/compute_np.py:107: RuntimeWarning: invalid value encountered in divide\n",
      "  ap = (pr_k * rel_k).sum(axis=1) / num_pos\n",
      "/Users/akalinin/Projects/copairs/src/copairs/compute_np.py:107: RuntimeWarning: invalid value encountered in divide\n",
      "  ap = (pr_k * rel_k).sum(axis=1) / num_pos\n",
      "2023-07-03 18:10:46 INFO     Computing P-values...\n",
      "2023-07-03 18:10:46 INFO     Creating result DataFrame...\n",
      "2023-07-03 18:10:46 INFO     Finished.\n",
      "/var/folders/41/1jdfcmfs0gx7qwx9d31rtxgr0000gq/T/ipykernel_85051/2184141838.py:15: SettingWithCopyWarning: \n",
      "A value is trying to be set on a copy of a slice from a DataFrame.\n",
      "Try using .loc[row_indexer,col_indexer] = value instead\n",
      "\n",
      "See the caveats in the documentation: https://pandas.pydata.org/pandas-docs/stable/user_guide/indexing.html#returning-a-view-versus-a-copy\n",
      "  metadata.loc[:, \"Metadata_dummy_index\"] = metadata.index\n",
      "2023-07-03 18:10:50 INFO     Indexing metadata...\n",
      "2023-07-03 18:10:50 INFO     Finding positive pairs...\n"
     ]
    },
    {
     "name": "stdout",
     "output_type": "stream",
     "text": [
      "1b22d880 id1 match OK\n",
      "Sameby: ['Metadata_JCP2022'] Diffby: ['Metadata_Well']\n"
     ]
    },
    {
     "name": "stderr",
     "output_type": "stream",
     "text": [
      "2023-07-03 18:10:50 INFO     dropping dups...\n",
      "2023-07-03 18:10:50 INFO     Finding negative pairs...\n",
      "2023-07-03 18:11:11 INFO     dropping dups...\n",
      "2023-07-03 18:11:57 INFO     Computing positive similarities...\n"
     ]
    },
    {
     "data": {
      "application/vnd.jupyter.widget-view+json": {
       "model_id": "77ce105986584da5a351b09dc374ce6d",
       "version_major": 2,
       "version_minor": 0
      },
      "text/plain": [
       "  0%|          | 0/1 [00:00<?, ?it/s]"
      ]
     },
     "metadata": {},
     "output_type": "display_data"
    },
    {
     "name": "stderr",
     "output_type": "stream",
     "text": [
      "2023-07-03 18:11:58 INFO     Computing negative similarities...\n"
     ]
    },
    {
     "data": {
      "application/vnd.jupyter.widget-view+json": {
       "model_id": "ec571990c95e4fb38c09227441af0cbc",
       "version_major": 2,
       "version_minor": 0
      },
      "text/plain": [
       "  0%|          | 0/161 [00:00<?, ?it/s]"
      ]
     },
     "metadata": {},
     "output_type": "display_data"
    },
    {
     "name": "stderr",
     "output_type": "stream",
     "text": [
      "2023-07-03 18:13:30 INFO     Building rank lists...\n",
      "2023-07-03 18:13:52 INFO     Computing average precision...\n",
      "2023-07-03 18:13:52 INFO     Computing null distributions...\n",
      "/Users/akalinin/Projects/copairs/src/copairs/compute_np.py:107: RuntimeWarning: invalid value encountered in divide\n",
      "  ap = (pr_k * rel_k).sum(axis=1) / num_pos\n",
      "/Users/akalinin/Projects/copairs/src/copairs/compute_np.py:107: RuntimeWarning: invalid value encountered in divide\n",
      "  ap = (pr_k * rel_k).sum(axis=1) / num_pos\n",
      "/Users/akalinin/Projects/copairs/src/copairs/compute_np.py:107: RuntimeWarning: invalid value encountered in divide\n",
      "  ap = (pr_k * rel_k).sum(axis=1) / num_pos\n",
      "/Users/akalinin/Projects/copairs/src/copairs/compute_np.py:107: RuntimeWarning: invalid value encountered in divide\n",
      "  ap = (pr_k * rel_k).sum(axis=1) / num_pos\n",
      "2023-07-03 18:14:00 INFO     Computing P-values...\n",
      "2023-07-03 18:14:00 INFO     Creating result DataFrame...\n",
      "2023-07-03 18:14:00 INFO     Finished.\n",
      "/var/folders/41/1jdfcmfs0gx7qwx9d31rtxgr0000gq/T/ipykernel_85051/2184141838.py:15: SettingWithCopyWarning: \n",
      "A value is trying to be set on a copy of a slice from a DataFrame.\n",
      "Try using .loc[row_indexer,col_indexer] = value instead\n",
      "\n",
      "See the caveats in the documentation: https://pandas.pydata.org/pandas-docs/stable/user_guide/indexing.html#returning-a-view-versus-a-copy\n",
      "  metadata.loc[:, \"Metadata_dummy_index\"] = metadata.index\n",
      "2023-07-03 18:14:05 INFO     Indexing metadata...\n",
      "2023-07-03 18:14:05 INFO     Finding positive pairs...\n"
     ]
    },
    {
     "name": "stdout",
     "output_type": "stream",
     "text": [
      "306333dc id1 mismatch\n",
      "Sameby: ['Metadata_Well', 'Metadata_Symbol'] Diffby: []\n"
     ]
    },
    {
     "name": "stderr",
     "output_type": "stream",
     "text": [
      "2023-07-03 18:14:06 INFO     dropping dups...\n",
      "2023-07-03 18:14:06 INFO     Finding negative pairs...\n",
      "2023-07-03 18:14:27 INFO     dropping dups...\n",
      "2023-07-03 18:15:11 INFO     Computing positive similarities...\n"
     ]
    },
    {
     "data": {
      "application/vnd.jupyter.widget-view+json": {
       "model_id": "c12dc60cde6b4ace931278f30a9bcf0b",
       "version_major": 2,
       "version_minor": 0
      },
      "text/plain": [
       "  0%|          | 0/1 [00:00<?, ?it/s]"
      ]
     },
     "metadata": {},
     "output_type": "display_data"
    },
    {
     "name": "stderr",
     "output_type": "stream",
     "text": [
      "2023-07-03 18:15:12 INFO     Computing negative similarities...\n"
     ]
    },
    {
     "data": {
      "application/vnd.jupyter.widget-view+json": {
       "model_id": "8841e3e57e0d449187d3f1d200772293",
       "version_major": 2,
       "version_minor": 0
      },
      "text/plain": [
       "  0%|          | 0/161 [00:00<?, ?it/s]"
      ]
     },
     "metadata": {},
     "output_type": "display_data"
    },
    {
     "name": "stderr",
     "output_type": "stream",
     "text": [
      "2023-07-03 18:16:01 INFO     Building rank lists...\n",
      "2023-07-03 18:16:24 INFO     Computing average precision...\n",
      "2023-07-03 18:16:25 INFO     Computing null distributions...\n",
      "/Users/akalinin/Projects/copairs/src/copairs/compute_np.py:107: RuntimeWarning: invalid value encountered in divide\n",
      "  ap = (pr_k * rel_k).sum(axis=1) / num_pos\n",
      "/Users/akalinin/Projects/copairs/src/copairs/compute_np.py:107: RuntimeWarning: invalid value encountered in divide\n",
      "  ap = (pr_k * rel_k).sum(axis=1) / num_pos\n",
      "/Users/akalinin/Projects/copairs/src/copairs/compute_np.py:107: RuntimeWarning: invalid value encountered in divide\n",
      "  ap = (pr_k * rel_k).sum(axis=1) / num_pos\n",
      "/Users/akalinin/Projects/copairs/src/copairs/compute_np.py:107: RuntimeWarning: invalid value encountered in divide\n",
      "  ap = (pr_k * rel_k).sum(axis=1) / num_pos\n",
      "2023-07-03 18:16:33 INFO     Computing P-values...\n",
      "2023-07-03 18:16:33 INFO     Creating result DataFrame...\n",
      "2023-07-03 18:16:33 INFO     Finished.\n",
      "/var/folders/41/1jdfcmfs0gx7qwx9d31rtxgr0000gq/T/ipykernel_85051/2184141838.py:15: SettingWithCopyWarning: \n",
      "A value is trying to be set on a copy of a slice from a DataFrame.\n",
      "Try using .loc[row_indexer,col_indexer] = value instead\n",
      "\n",
      "See the caveats in the documentation: https://pandas.pydata.org/pandas-docs/stable/user_guide/indexing.html#returning-a-view-versus-a-copy\n",
      "  metadata.loc[:, \"Metadata_dummy_index\"] = metadata.index\n",
      "2023-07-03 18:16:36 INFO     Indexing metadata...\n",
      "2023-07-03 18:16:36 INFO     Finding positive pairs...\n"
     ]
    },
    {
     "name": "stdout",
     "output_type": "stream",
     "text": [
      "440d5bda id1 match OK\n",
      "Sameby: ['Metadata_JCP2022'] Diffby: ['Metadata_Well']\n"
     ]
    },
    {
     "name": "stderr",
     "output_type": "stream",
     "text": [
      "2023-07-03 18:16:37 INFO     dropping dups...\n",
      "2023-07-03 18:16:37 INFO     Finding negative pairs...\n",
      "2023-07-03 18:16:58 INFO     dropping dups...\n",
      "2023-07-03 18:17:45 INFO     Computing positive similarities...\n"
     ]
    },
    {
     "data": {
      "application/vnd.jupyter.widget-view+json": {
       "model_id": "6de1e651068e491c9c815c4392513fc6",
       "version_major": 2,
       "version_minor": 0
      },
      "text/plain": [
       "  0%|          | 0/1 [00:00<?, ?it/s]"
      ]
     },
     "metadata": {},
     "output_type": "display_data"
    },
    {
     "name": "stderr",
     "output_type": "stream",
     "text": [
      "2023-07-03 18:17:45 INFO     Computing negative similarities...\n"
     ]
    },
    {
     "data": {
      "application/vnd.jupyter.widget-view+json": {
       "model_id": "d34a7f8cdb4d4c18ad0e4dd34947b497",
       "version_major": 2,
       "version_minor": 0
      },
      "text/plain": [
       "  0%|          | 0/161 [00:00<?, ?it/s]"
      ]
     },
     "metadata": {},
     "output_type": "display_data"
    },
    {
     "name": "stderr",
     "output_type": "stream",
     "text": [
      "2023-07-03 18:18:15 INFO     Building rank lists...\n",
      "2023-07-03 18:18:36 INFO     Computing average precision...\n",
      "2023-07-03 18:18:36 INFO     Computing null distributions...\n",
      "/Users/akalinin/Projects/copairs/src/copairs/compute_np.py:107: RuntimeWarning: invalid value encountered in divide\n",
      "  ap = (pr_k * rel_k).sum(axis=1) / num_pos\n",
      "/Users/akalinin/Projects/copairs/src/copairs/compute_np.py:107: RuntimeWarning: invalid value encountered in divide\n",
      "  ap = (pr_k * rel_k).sum(axis=1) / num_pos\n",
      "/Users/akalinin/Projects/copairs/src/copairs/compute_np.py:107: RuntimeWarning: invalid value encountered in divide\n",
      "  ap = (pr_k * rel_k).sum(axis=1) / num_pos\n",
      "/Users/akalinin/Projects/copairs/src/copairs/compute_np.py:107: RuntimeWarning: invalid value encountered in divide\n",
      "  ap = (pr_k * rel_k).sum(axis=1) / num_pos\n",
      "2023-07-03 18:18:45 INFO     Computing P-values...\n",
      "2023-07-03 18:18:45 INFO     Creating result DataFrame...\n",
      "2023-07-03 18:18:45 INFO     Finished.\n",
      "/var/folders/41/1jdfcmfs0gx7qwx9d31rtxgr0000gq/T/ipykernel_85051/2184141838.py:15: SettingWithCopyWarning: \n",
      "A value is trying to be set on a copy of a slice from a DataFrame.\n",
      "Try using .loc[row_indexer,col_indexer] = value instead\n",
      "\n",
      "See the caveats in the documentation: https://pandas.pydata.org/pandas-docs/stable/user_guide/indexing.html#returning-a-view-versus-a-copy\n",
      "  metadata.loc[:, \"Metadata_dummy_index\"] = metadata.index\n",
      "2023-07-03 18:18:48 INFO     Indexing metadata...\n",
      "2023-07-03 18:18:48 INFO     Finding positive pairs...\n"
     ]
    },
    {
     "name": "stdout",
     "output_type": "stream",
     "text": [
      "e8e9de1e id1 match OK\n",
      "Sameby: ['Metadata_JCP2022'] Diffby: ['Metadata_Well']\n"
     ]
    },
    {
     "name": "stderr",
     "output_type": "stream",
     "text": [
      "2023-07-03 18:18:49 INFO     dropping dups...\n",
      "2023-07-03 18:18:49 INFO     Finding negative pairs...\n",
      "2023-07-03 18:19:09 INFO     dropping dups...\n",
      "2023-07-03 18:19:56 INFO     Computing positive similarities...\n"
     ]
    },
    {
     "data": {
      "application/vnd.jupyter.widget-view+json": {
       "model_id": "9db22c2830d445f29041b3b470660d19",
       "version_major": 2,
       "version_minor": 0
      },
      "text/plain": [
       "  0%|          | 0/1 [00:00<?, ?it/s]"
      ]
     },
     "metadata": {},
     "output_type": "display_data"
    },
    {
     "name": "stderr",
     "output_type": "stream",
     "text": [
      "2023-07-03 18:19:56 INFO     Computing negative similarities...\n"
     ]
    },
    {
     "data": {
      "application/vnd.jupyter.widget-view+json": {
       "model_id": "35025f9aab8a46089576ab83b00fe41c",
       "version_major": 2,
       "version_minor": 0
      },
      "text/plain": [
       "  0%|          | 0/161 [00:00<?, ?it/s]"
      ]
     },
     "metadata": {},
     "output_type": "display_data"
    },
    {
     "name": "stderr",
     "output_type": "stream",
     "text": [
      "2023-07-03 18:20:06 INFO     Building rank lists...\n",
      "2023-07-03 18:20:26 INFO     Computing average precision...\n",
      "2023-07-03 18:20:26 INFO     Computing null distributions...\n",
      "/Users/akalinin/Projects/copairs/src/copairs/compute_np.py:107: RuntimeWarning: invalid value encountered in divide\n",
      "  ap = (pr_k * rel_k).sum(axis=1) / num_pos\n",
      "/Users/akalinin/Projects/copairs/src/copairs/compute_np.py:107: RuntimeWarning: invalid value encountered in divide\n",
      "  ap = (pr_k * rel_k).sum(axis=1) / num_pos\n",
      "/Users/akalinin/Projects/copairs/src/copairs/compute_np.py:107: RuntimeWarning: invalid value encountered in divide\n",
      "  ap = (pr_k * rel_k).sum(axis=1) / num_pos\n",
      "/Users/akalinin/Projects/copairs/src/copairs/compute_np.py:107: RuntimeWarning: invalid value encountered in divide\n",
      "  ap = (pr_k * rel_k).sum(axis=1) / num_pos\n",
      "2023-07-03 18:20:38 INFO     Computing P-values...\n",
      "2023-07-03 18:20:38 INFO     Creating result DataFrame...\n",
      "2023-07-03 18:20:38 INFO     Finished.\n",
      "/var/folders/41/1jdfcmfs0gx7qwx9d31rtxgr0000gq/T/ipykernel_85051/2184141838.py:15: SettingWithCopyWarning: \n",
      "A value is trying to be set on a copy of a slice from a DataFrame.\n",
      "Try using .loc[row_indexer,col_indexer] = value instead\n",
      "\n",
      "See the caveats in the documentation: https://pandas.pydata.org/pandas-docs/stable/user_guide/indexing.html#returning-a-view-versus-a-copy\n",
      "  metadata.loc[:, \"Metadata_dummy_index\"] = metadata.index\n",
      "2023-07-03 18:20:41 INFO     Indexing metadata...\n",
      "2023-07-03 18:20:41 INFO     Finding positive pairs...\n"
     ]
    },
    {
     "name": "stdout",
     "output_type": "stream",
     "text": [
      "a69994b0 id1 mismatch\n",
      "Sameby: ['Metadata_Well', 'Metadata_JCP2022'] Diffby: []\n"
     ]
    },
    {
     "name": "stderr",
     "output_type": "stream",
     "text": [
      "2023-07-03 18:20:42 INFO     dropping dups...\n",
      "2023-07-03 18:20:42 INFO     Finding negative pairs...\n",
      "2023-07-03 18:21:03 INFO     dropping dups...\n",
      "2023-07-03 18:21:49 INFO     Computing positive similarities...\n"
     ]
    },
    {
     "data": {
      "application/vnd.jupyter.widget-view+json": {
       "model_id": "4974c9019ab84702b105b944fa0f42c8",
       "version_major": 2,
       "version_minor": 0
      },
      "text/plain": [
       "  0%|          | 0/1 [00:00<?, ?it/s]"
      ]
     },
     "metadata": {},
     "output_type": "display_data"
    },
    {
     "name": "stderr",
     "output_type": "stream",
     "text": [
      "2023-07-03 18:21:49 INFO     Computing negative similarities...\n"
     ]
    },
    {
     "data": {
      "application/vnd.jupyter.widget-view+json": {
       "model_id": "7d88d6fe73fa498d8aaa2b546a4d921c",
       "version_major": 2,
       "version_minor": 0
      },
      "text/plain": [
       "  0%|          | 0/161 [00:00<?, ?it/s]"
      ]
     },
     "metadata": {},
     "output_type": "display_data"
    },
    {
     "name": "stderr",
     "output_type": "stream",
     "text": [
      "2023-07-03 18:22:20 INFO     Building rank lists...\n",
      "2023-07-03 18:22:41 INFO     Computing average precision...\n",
      "2023-07-03 18:22:41 INFO     Computing null distributions...\n",
      "/Users/akalinin/Projects/copairs/src/copairs/compute_np.py:107: RuntimeWarning: invalid value encountered in divide\n",
      "  ap = (pr_k * rel_k).sum(axis=1) / num_pos\n",
      "/Users/akalinin/Projects/copairs/src/copairs/compute_np.py:107: RuntimeWarning: invalid value encountered in divide\n",
      "  ap = (pr_k * rel_k).sum(axis=1) / num_pos\n",
      "/Users/akalinin/Projects/copairs/src/copairs/compute_np.py:107: RuntimeWarning: invalid value encountered in divide\n",
      "  ap = (pr_k * rel_k).sum(axis=1) / num_pos\n",
      "/Users/akalinin/Projects/copairs/src/copairs/compute_np.py:107: RuntimeWarning: invalid value encountered in divide\n",
      "  ap = (pr_k * rel_k).sum(axis=1) / num_pos\n",
      "2023-07-03 18:22:48 INFO     Computing P-values...\n",
      "2023-07-03 18:22:48 INFO     Creating result DataFrame...\n",
      "2023-07-03 18:22:48 INFO     Finished.\n",
      "/var/folders/41/1jdfcmfs0gx7qwx9d31rtxgr0000gq/T/ipykernel_85051/2184141838.py:15: SettingWithCopyWarning: \n",
      "A value is trying to be set on a copy of a slice from a DataFrame.\n",
      "Try using .loc[row_indexer,col_indexer] = value instead\n",
      "\n",
      "See the caveats in the documentation: https://pandas.pydata.org/pandas-docs/stable/user_guide/indexing.html#returning-a-view-versus-a-copy\n",
      "  metadata.loc[:, \"Metadata_dummy_index\"] = metadata.index\n",
      "2023-07-03 18:22:52 INFO     Indexing metadata...\n",
      "2023-07-03 18:22:52 INFO     Finding positive pairs...\n"
     ]
    },
    {
     "name": "stdout",
     "output_type": "stream",
     "text": [
      "90b5b91d id1 mismatch\n",
      "Sameby: ['Metadata_Well', 'Metadata_Symbol'] Diffby: []\n"
     ]
    },
    {
     "name": "stderr",
     "output_type": "stream",
     "text": [
      "2023-07-03 18:22:53 INFO     dropping dups...\n",
      "2023-07-03 18:22:53 INFO     Finding negative pairs...\n",
      "2023-07-03 18:23:13 INFO     dropping dups...\n",
      "2023-07-03 18:23:59 INFO     Computing positive similarities...\n"
     ]
    },
    {
     "data": {
      "application/vnd.jupyter.widget-view+json": {
       "model_id": "6dce7d3bc0594946b1a3d448dbfa3611",
       "version_major": 2,
       "version_minor": 0
      },
      "text/plain": [
       "  0%|          | 0/1 [00:00<?, ?it/s]"
      ]
     },
     "metadata": {},
     "output_type": "display_data"
    },
    {
     "name": "stderr",
     "output_type": "stream",
     "text": [
      "2023-07-03 18:24:00 INFO     Computing negative similarities...\n"
     ]
    },
    {
     "data": {
      "application/vnd.jupyter.widget-view+json": {
       "model_id": "75188e3564414702808d62298a9e608f",
       "version_major": 2,
       "version_minor": 0
      },
      "text/plain": [
       "  0%|          | 0/161 [00:00<?, ?it/s]"
      ]
     },
     "metadata": {},
     "output_type": "display_data"
    },
    {
     "name": "stderr",
     "output_type": "stream",
     "text": [
      "2023-07-03 18:24:34 INFO     Building rank lists...\n",
      "2023-07-03 18:24:55 INFO     Computing average precision...\n",
      "2023-07-03 18:24:55 INFO     Computing null distributions...\n",
      "/Users/akalinin/Projects/copairs/src/copairs/compute_np.py:107: RuntimeWarning: invalid value encountered in divide\n",
      "  ap = (pr_k * rel_k).sum(axis=1) / num_pos\n",
      "/Users/akalinin/Projects/copairs/src/copairs/compute_np.py:107: RuntimeWarning: invalid value encountered in divide\n",
      "  ap = (pr_k * rel_k).sum(axis=1) / num_pos\n",
      "/Users/akalinin/Projects/copairs/src/copairs/compute_np.py:107: RuntimeWarning: invalid value encountered in divide\n",
      "  ap = (pr_k * rel_k).sum(axis=1) / num_pos\n",
      "/Users/akalinin/Projects/copairs/src/copairs/compute_np.py:107: RuntimeWarning: invalid value encountered in divide\n",
      "  ap = (pr_k * rel_k).sum(axis=1) / num_pos\n",
      "2023-07-03 18:25:02 INFO     Computing P-values...\n",
      "2023-07-03 18:25:03 INFO     Creating result DataFrame...\n",
      "2023-07-03 18:25:03 INFO     Finished.\n"
     ]
    }
   ],
   "source": [
    "results_dir = Path(\"../2.evalzoo/results/\")\n",
    "\n",
    "for subdir in tqdm(results_dir.iterdir()):\n",
    "    collatedsim_path = subdir / \"collatedsim.parquet\"\n",
    "    l_0_1_path = subdir / \"metrics_level_1_0_ref.parquet\"\n",
    "\n",
    "    if collatedsim_path.exists() and l_0_1_path.exists():\n",
    "        subdir_collatedsim = pd.read_parquet(collatedsim_path)\n",
    "        subdir_l_1_0 = pd.read_parquet(l_0_1_path)\n",
    "\n",
    "        # create groupby objects for both DataFrames\n",
    "        group_col = subdir_l_1_0.columns[1]\n",
    "        collatedsim_groups = subdir_collatedsim.groupby(group_col)[\"id1\"].unique()\n",
    "        l_1_0_groups = subdir_l_1_0.groupby(group_col)[\"id1\"].unique()\n",
    "\n",
    "        # find groups (values of Metadata_JCP2022) that exist in both DataFrames\n",
    "        common_groups = set(collatedsim_groups.index).intersection(\n",
    "            set(l_1_0_groups.index)\n",
    "        )\n",
    "\n",
    "        # compare the unique id1 values for each common group\n",
    "        mismatch = any(\n",
    "            set(collatedsim_groups[jcp]) != set(l_1_0_groups[jcp])\n",
    "            for jcp in common_groups\n",
    "        )\n",
    "\n",
    "        # check if there was a mismatch\n",
    "        if mismatch:\n",
    "            print(f\"{subdir.name} id1 mismatch\")\n",
    "        else:\n",
    "            print(f\"{subdir.name} id1 match OK\")\n",
    "\n",
    "        copairs_results[subdir.name] = run_copairs_on_evalzoo(subdir.name)\n",
    "\n",
    "        # pickle intermediate results\n",
    "        with open(\"output/copairs_results.pkl\", \"wb\") as f:\n",
    "            pickle.dump(copairs_results, f)"
   ]
  },
  {
   "attachments": {},
   "cell_type": "markdown",
   "metadata": {},
   "source": [
    "#### Compare copairs results with evalzoo"
   ]
  },
  {
   "cell_type": "code",
   "execution_count": 42,
   "metadata": {},
   "outputs": [],
   "source": [
    "with open(\"output/copairs_results.pkl\", \"rb\") as f:\n",
    "    copairs_results = pickle.load(f)"
   ]
  },
  {
   "cell_type": "code",
   "execution_count": 43,
   "metadata": {},
   "outputs": [
    {
     "data": {
      "text/plain": [
       "(64, 60)"
      ]
     },
     "execution_count": 43,
     "metadata": {},
     "output_type": "execute_result"
    }
   ],
   "source": [
    "copairs_results_nona = {k: v for k, v in copairs_results.items() if v is not None}\n",
    "len(copairs_results), len(copairs_results_nona)"
   ]
  },
  {
   "cell_type": "code",
   "execution_count": 44,
   "metadata": {},
   "outputs": [
    {
     "name": "stdout",
     "output_type": "stream",
     "text": [
      "630757cf match OK\n",
      "66fd2a4d match OK\n",
      "f86c9fcc match OK\n",
      "ac65bc4b match OK\n",
      "273d3138 match OK\n",
      "263a5ff4 match OK\n",
      "2bde8689 match OK\n",
      "f5c36cb4 match OK\n",
      "30f99c08 match OK\n",
      "125bfb5b match OK\n",
      "8a46f718 match OK\n",
      "3d645cb2 match OK\n",
      "d2311b58 match OK\n",
      "d4df76cd match OK\n",
      "26efacc8 match OK\n",
      "5ee8aabb match OK\n",
      "64aa0540 match OK\n",
      "faa6ba3e match OK\n",
      "49abf604 match OK\n",
      "790b8557 match OK\n",
      "fefae721 match OK\n",
      "cdaf16db match OK\n",
      "ef524325 match OK\n",
      "b2e52a3a match OK\n",
      "82ad004e match OK\n",
      "df66eaf7 match OK\n",
      "b3ded838 match OK\n",
      "703b13da match OK\n",
      "5a048fe4 match OK\n",
      "0e4cd68f match OK\n",
      "bcf32878 match OK\n",
      "61da8ae0 match OK\n",
      "b8ad0e58 match OK\n",
      "21b92180 match OK\n",
      "d66f1bce match OK\n",
      "0485b96b match OK\n",
      "ceb5f02a match OK\n",
      "cd1b92de match OK\n",
      "fd50b01b match OK\n",
      "63526422 match OK\n",
      "5eaae264 match OK\n",
      "e2bf955d match OK\n",
      "758dee96 match OK\n",
      "889ca0ab match OK\n",
      "0cc6a4ec match OK\n",
      "adacbee3 match OK\n",
      "3701ed2c match OK\n",
      "df015b9f match OK\n",
      "edaff3b6 match OK\n",
      "6fae5285 match OK\n",
      "304eb132 match OK\n",
      "c4c7aa12 match OK\n",
      "34fbd8a4 match OK\n",
      "10792e71 match OK\n",
      "1b22d880 match OK\n",
      "306333dc match OK\n",
      "440d5bda match OK\n",
      "e8e9de1e match OK\n",
      "a69994b0 match OK\n",
      "90b5b91d match OK\n"
     ]
    }
   ],
   "source": [
    "mismatches = []\n",
    "for key in copairs_results_nona.keys():\n",
    "    copairs_result = copairs_results_nona[key][\n",
    "        ~copairs_results_nona[key].average_precision.isna()\n",
    "    ]\n",
    "    evalzoo_result = pd.read_parquet(\n",
    "        f\"../2.evalzoo/results/{key}/metrics_level_1_ref.parquet\"\n",
    "    )\n",
    "    evalzoo_result = evalzoo_result.groupby(\n",
    "        copairs_result.filter(regex=\"^Metadata_\").columns.tolist()\n",
    "    ).mean(numeric_only=True)\n",
    "\n",
    "    if np.allclose(\n",
    "        copairs_result.average_precision,\n",
    "        evalzoo_result.sim_retrieval_average_precision_ref_i_mean_i,\n",
    "    ):\n",
    "        print(f\"{key} match OK\")\n",
    "    else:\n",
    "        print(f\"{key} mismatch\")\n",
    "        mismatches.append(key)"
   ]
  },
  {
   "cell_type": "code",
   "execution_count": 45,
   "metadata": {},
   "outputs": [
    {
     "data": {
      "text/plain": [
       "[]"
      ]
     },
     "execution_count": 45,
     "metadata": {},
     "output_type": "execute_result"
    }
   ],
   "source": [
    "mismatches"
   ]
  }
 ],
 "metadata": {
  "kernelspec": {
   "display_name": "position-effect-correction-ckMVtFsQ-py3.9",
   "language": "python",
   "name": "python3"
  },
  "language_info": {
   "codemirror_mode": {
    "name": "ipython",
    "version": 3
   },
   "file_extension": ".py",
   "mimetype": "text/x-python",
   "name": "python",
   "nbconvert_exporter": "python",
   "pygments_lexer": "ipython3",
   "version": "3.9.14"
  },
  "orig_nbformat": 4
 },
 "nbformat": 4,
 "nbformat_minor": 2
}
